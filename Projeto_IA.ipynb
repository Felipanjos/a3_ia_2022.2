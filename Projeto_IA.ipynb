{
  "cells": [
    {
      "cell_type": "markdown",
      "metadata": {
        "colab_type": "text",
        "id": "view-in-github"
      },
      "source": [
        "<a href=\"https://colab.research.google.com/github/Felipanjos/a3_ia_2022.2/blob/main/Projeto_IA.ipynb\" target=\"_parent\"><img src=\"https://colab.research.google.com/assets/colab-badge.svg\" alt=\"Open In Colab\"/></a>"
      ]
    },
    {
      "cell_type": "code",
      "execution_count": 422,
      "metadata": {
        "id": "FGHweZQuwPte"
      },
      "outputs": [],
      "source": [
        "import pandas as pd\n",
        "import numpy as np\n",
        "import random\n",
        "import string\n",
        "import sklearn\n",
        "from itertools import groupby\n",
        "\n",
        "from sklearn.model_selection import StratifiedShuffleSplit\n",
        "from sklearn.pipeline import Pipeline\n",
        "from sklearn.preprocessing import StandardScaler\n",
        "from sklearn.impute import SimpleImputer\n",
        "from sklearn.preprocessing import OneHotEncoder\n",
        "from sklearn.compose import ColumnTransformer\n",
        "import matplotlib.pyplot as plt\n",
        "import seaborn as sns\n",
        "import statistics as sts"
      ]
    },
    {
      "cell_type": "code",
      "execution_count": 394,
      "metadata": {},
      "outputs": [],
      "source": [
        "df = pd.read_csv('chip_dataset.csv', index_col=[0])\n",
        "df.drop('FP16 GFLOPS', axis=1, inplace=True)\n",
        "df.drop('FP32 GFLOPS', axis=1, inplace=True)\n",
        "df.drop('FP64 GFLOPS', axis=1, inplace=True)\n",
        "vendors = list(np.unique(df['Vendor']))"
      ]
    },
    {
      "cell_type": "code",
      "execution_count": 396,
      "metadata": {},
      "outputs": [],
      "source": [
        "num_attribs = list(df.describe().columns)\n",
        "cat_attribs = ['Vendor']"
      ]
    },
    {
      "cell_type": "markdown",
      "metadata": {},
      "source": [
        "### B. Divisão "
      ]
    },
    {
      "cell_type": "markdown",
      "metadata": {},
      "source": [
        "##### a) Amostragem estratificada em Conjunto de Treinamento e Conjunto de Teste"
      ]
    },
    {
      "cell_type": "code",
      "execution_count": 424,
      "metadata": {},
      "outputs": [],
      "source": [
        "df.dropna(inplace=True)\n",
        "df.reset_index(drop=True, inplace=True)"
      ]
    },
    {
      "cell_type": "code",
      "execution_count": 275,
      "metadata": {},
      "outputs": [],
      "source": [
        "ranges = [0, df['Transistors (million)'].describe()['25%'], 500, 1000, 2000, 6000, 15000, 30000, np.inf]\n",
        "tiers = ['F', 'E', 'D', 'C', 'B', 'A', 'S', 'S+']\n",
        "\n",
        "df['Rank'] = pd.cut(df['Transistors (million)'], bins = ranges, labels = tiers)"
      ]
    },
    {
      "cell_type": "code",
      "execution_count": 276,
      "metadata": {},
      "outputs": [],
      "source": [
        "splitter = StratifiedShuffleSplit(n_splits=1, test_size=0.2, random_state=42)\n",
        "for train_index, test_index in splitter.split(df, df['Rank']):\n",
        "  strat_train_set = df.loc[train_index]\n",
        "  strat_test_set = df.loc[test_index]"
      ]
    },
    {
      "cell_type": "code",
      "execution_count": 277,
      "metadata": {},
      "outputs": [],
      "source": [
        "def amostragem_estratificada(test_set):\n",
        "    return (test_set['Rank'].value_counts() / len(test_set))*100    "
      ]
    },
    {
      "cell_type": "code",
      "execution_count": 278,
      "metadata": {},
      "outputs": [
        {
          "data": {
            "text/plain": [
              "F     24.963504\n",
              "C     19.708029\n",
              "B     17.226277\n",
              "E     15.328467\n",
              "D     14.598540\n",
              "A      6.131387\n",
              "S      1.751825\n",
              "S+     0.291971\n",
              "Name: Rank, dtype: float64"
            ]
          },
          "execution_count": 278,
          "metadata": {},
          "output_type": "execute_result"
        }
      ],
      "source": [
        "amostragem_estratificada(strat_test_set)"
      ]
    },
    {
      "cell_type": "code",
      "execution_count": null,
      "metadata": {},
      "outputs": [],
      "source": [
        "strat_train_set.drop(columns=['Rank'], inplace=True)\n",
        "strat_test_set.drop(columns=['Rank'], inplace=True)"
      ]
    },
    {
      "cell_type": "markdown",
      "metadata": {},
      "source": [
        "### C. Exploração "
      ]
    },
    {
      "cell_type": "markdown",
      "metadata": {},
      "source": [
        "##### a) Visualização dos Dados com gráficos de dispersão e histograma"
      ]
    },
    {
      "cell_type": "code",
      "execution_count": 279,
      "metadata": {},
      "outputs": [],
      "source": [
        "df['Release Date'] = pd.to_datetime(df['Release Date'])"
      ]
    },
    {
      "cell_type": "code",
      "execution_count": null,
      "metadata": {},
      "outputs": [],
      "source": [
        "# ampliar escala \n",
        "strat_test_set['Transistors (million)'].hist()"
      ]
    },
    {
      "cell_type": "code",
      "execution_count": null,
      "metadata": {},
      "outputs": [],
      "source": [
        "strat_train_set['Transistors (million)'].hist()"
      ]
    },
    {
      "cell_type": "code",
      "execution_count": null,
      "metadata": {},
      "outputs": [],
      "source": [
        "df.plot(kind='scatter', x='Release Date', y='Transistors (million)')"
      ]
    },
    {
      "cell_type": "markdown",
      "metadata": {},
      "source": [
        "##### b. Levantamento de hipóteses sobre as distribuições dos dados\n"
      ]
    },
    {
      "cell_type": "markdown",
      "metadata": {},
      "source": [
        "##### c. Busca de correlações (Coeficientes de correlação)"
      ]
    },
    {
      "cell_type": "code",
      "execution_count": 286,
      "metadata": {},
      "outputs": [],
      "source": [
        "df['Release Date'] = pd.to_numeric(df['Release Date'])"
      ]
    },
    {
      "cell_type": "markdown",
      "metadata": {},
      "source": [
        "##### Basearemos a análise das valueelações na coluna Transistors (million), que é o nosso objeto de predição"
      ]
    },
    {
      "cell_type": "code",
      "execution_count": 326,
      "metadata": {},
      "outputs": [
        {
          "data": {
            "text/plain": [
              "['Process Size (nm)',\n",
              " 'TDP (W)',\n",
              " 'Die Size (mm^2)',\n",
              " 'Transistors (million)',\n",
              " 'Freq (MHz)']"
            ]
          },
          "execution_count": 326,
          "metadata": {},
          "output_type": "execute_result"
        }
      ],
      "source": [
        "num_attribs"
      ]
    },
    {
      "cell_type": "code",
      "execution_count": 335,
      "metadata": {},
      "outputs": [
        {
          "name": "stdout",
          "output_type": "stream",
          "text": [
            "-0.002568951085001034\n",
            "-0.3977453283926615\n",
            "0.46970179480450375\n",
            "0.6402633611101106\n",
            "1.0\n",
            "-0.04411544348939104\n"
          ]
        },
        {
          "name": "stderr",
          "output_type": "stream",
          "text": [
            "C:\\Users\\anjos\\AppData\\Local\\Temp\\ipykernel_10336\\3423880030.py:1: FutureWarning: The default value of numeric_only in DataFrame.corr is deprecated. In a future version, it will default to False. Select only valid columns or specify the value of numeric_only to silence this warning.\n",
            "  for value in df.corr()['Transistors (million)']:\n"
          ]
        }
      ],
      "source": [
        "for value in df.corr()['Transistors (million)']:\n",
        "    print(value)"
      ]
    },
    {
      "cell_type": "code",
      "execution_count": 346,
      "metadata": {},
      "outputs": [
        {
          "name": "stdout",
          "output_type": "stream",
          "text": [
            "Coeficiente de correlação de Pearson entre a coluna Transistors (million) e:\n",
            "Release Date            -0.002569\n",
            "Process Size (nm)       -0.397745\n",
            "TDP (W)                  0.469702\n",
            "Die Size (mm^2)          0.640263\n",
            "Transistors (million)    1.000000\n",
            "Freq (MHz)              -0.044115\n",
            "Name: Transistors (million), dtype: float64 \n",
            "\n",
            "Release Date: relação linear negativa\n",
            "Process Size (nm): relação linear negativa\n",
            "TDP (W): relação linear positiva\n",
            "Die Size (mm^2): relação linear positiva\n",
            "Transistors (million): relação linear perfeita e positiva\n",
            "Freq (MHz): relação linear negativa\n"
          ]
        },
        {
          "name": "stderr",
          "output_type": "stream",
          "text": [
            "C:\\Users\\anjos\\AppData\\Local\\Temp\\ipykernel_10336\\473720730.py:7: FutureWarning: The default value of numeric_only in DataFrame.corr is deprecated. In a future version, it will default to False. Select only valid columns or specify the value of numeric_only to silence this warning.\n",
            "  for value in df.corr()['Transistors (million)']:\n",
            "C:\\Users\\anjos\\AppData\\Local\\Temp\\ipykernel_10336\\473720730.py:21: FutureWarning: The default value of numeric_only in DataFrame.corr is deprecated. In a future version, it will default to False. Select only valid columns or specify the value of numeric_only to silence this warning.\n",
            "  print(df.corr(method='pearson', min_periods=1)['Transistors (million)'], '\\n')\n"
          ]
        }
      ],
      "source": [
        "colunas_para_calculo = ['Release Date'] + num_attribs\n",
        "print('Coeficiente de correlação de Pearson entre a coluna Transistors (million) e:')\n",
        "\n",
        "coor_dict = {}\n",
        "r_list = []\n",
        "\n",
        "for value in df.corr()['Transistors (million)']:\n",
        "    if value == 1:\n",
        "        r = 'relação linear perfeita e positiva'\n",
        "    elif value == 0:\n",
        "        r = 'inexistência linear'\n",
        "    elif value == -1:\n",
        "        r = 'relação linear perfeita e negativa'\n",
        "    elif value > 0:\n",
        "        r = 'relação linear positiva'\n",
        "    elif value < 0:\n",
        "        r = 'relação linear negativa'\n",
        "\n",
        "    r_list.append(r)\n",
        "\n",
        "print(df.corr(method='pearson', min_periods=1)['Transistors (million)'], '\\n')\n",
        "\n",
        "count = 0\n",
        "for col in colunas_para_calculo: \n",
        "    coor_dict[col] = r_list[count]\n",
        "    print(f'{col}: {coor_dict[col]}')\n",
        "    count += 1\n"
      ]
    },
    {
      "cell_type": "markdown",
      "metadata": {},
      "source": [
        "### D. Preparação"
      ]
    },
    {
      "cell_type": "markdown",
      "metadata": {
        "id": "Np4v0J4Lb5p_"
      },
      "source": [
        "##### a) Selecionando 10% das colunas"
      ]
    },
    {
      "cell_type": "code",
      "execution_count": 397,
      "metadata": {
        "colab": {
          "base_uri": "https://localhost:8080/"
        },
        "id": "5q4KQCWnb8E0",
        "outputId": "9b709cec-a07f-4915-bfa5-26b318191d37"
      },
      "outputs": [
        {
          "data": {
            "text/plain": [
              "'Release Date'"
            ]
          },
          "execution_count": 397,
          "metadata": {},
          "output_type": "execute_result"
        }
      ],
      "source": [
        "qtd_colunas = len(df.columns)\n",
        "p_colunas = round(qtd_colunas * 10 / 100)\n",
        "coluna_aleatoria = df.sample(n=p_colunas, axis='columns').keys()[0]\n",
        "colunas_numericas = df.describe().columns\n",
        "colunas_categoricas = df.describe(exclude=np.number).columns\n",
        "coluna_aleatoria # escolhendo uma coluna aleatoriamente"
      ]
    },
    {
      "cell_type": "markdown",
      "metadata": {
        "id": "Hkopa3lohtjf"
      },
      "source": [
        "##### a) Selecionando 3% dos dados"
      ]
    },
    {
      "cell_type": "code",
      "execution_count": 398,
      "metadata": {},
      "outputs": [
        {
          "data": {
            "text/plain": [
              "4854"
            ]
          },
          "execution_count": 398,
          "metadata": {},
          "output_type": "execute_result"
        }
      ],
      "source": [
        "len(df)"
      ]
    },
    {
      "cell_type": "code",
      "execution_count": 399,
      "metadata": {
        "id": "HOtcB92hhvLg"
      },
      "outputs": [
        {
          "data": {
            "text/plain": [
              "146"
            ]
          },
          "execution_count": 399,
          "metadata": {},
          "output_type": "execute_result"
        }
      ],
      "source": [
        "p_3 = round(df.shape[0] * 3 / 100)\n",
        "p_3\n"
      ]
    },
    {
      "cell_type": "markdown",
      "metadata": {
        "id": "FQ4KHum3skz7"
      },
      "source": [
        "##### a) Excluindo 3% dos dados aleatoriamente"
      ]
    },
    {
      "cell_type": "code",
      "execution_count": 403,
      "metadata": {},
      "outputs": [
        {
          "name": "stdout",
          "output_type": "stream",
          "text": [
            "<class 'pandas.core.series.Series'>\n",
            "Int64Index: 4854 entries, 0 to 4853\n",
            "Series name: Release Date\n",
            "Non-Null Count  Dtype \n",
            "--------------  ----- \n",
            "4854 non-null   object\n",
            "dtypes: object(1)\n",
            "memory usage: 75.8+ KB\n"
          ]
        }
      ],
      "source": [
        "df[coluna_aleatoria].info()"
      ]
    },
    {
      "cell_type": "code",
      "execution_count": 404,
      "metadata": {
        "id": "gzSYvbRDysNe"
      },
      "outputs": [],
      "source": [
        "reg_excluidos = df.sample(n=p_3)\n",
        "reg_exc_index = reg_excluidos.index.array\n",
        "df.loc[reg_exc_index, coluna_aleatoria] = np.nan"
      ]
    },
    {
      "cell_type": "code",
      "execution_count": 405,
      "metadata": {},
      "outputs": [
        {
          "name": "stdout",
          "output_type": "stream",
          "text": [
            "<class 'pandas.core.series.Series'>\n",
            "Int64Index: 4854 entries, 0 to 4853\n",
            "Series name: Release Date\n",
            "Non-Null Count  Dtype \n",
            "--------------  ----- \n",
            "4708 non-null   object\n",
            "dtypes: object(1)\n",
            "memory usage: 204.9+ KB\n"
          ]
        }
      ],
      "source": [
        "df[coluna_aleatoria].info()"
      ]
    },
    {
      "cell_type": "markdown",
      "metadata": {
        "id": "Sxh3uWeotHrS"
      },
      "source": [
        "##### a) Alterando 3% dos dados aleatoriamente"
      ]
    },
    {
      "cell_type": "code",
      "execution_count": 367,
      "metadata": {
        "id": "inRW488117mR"
      },
      "outputs": [],
      "source": [
        "def gerar_string_aleatoria():\n",
        "  letters = string.ascii_lowercase\n",
        "  return ''.join(random.choice(letters) for i in range(10)) \n",
        "\n",
        "def gerar_numero_aleatorio():\n",
        "  return random.randint(0, 999)"
      ]
    },
    {
      "cell_type": "code",
      "execution_count": 391,
      "metadata": {
        "id": "yMzmcXenuM7q"
      },
      "outputs": [
        {
          "data": {
            "text/plain": [
              "[4252,\n",
              " 617,\n",
              " 1458,\n",
              " 3810,\n",
              " 4314,\n",
              " 3469,\n",
              " 3410,\n",
              " 3013,\n",
              " 4017,\n",
              " 3750,\n",
              " 2414,\n",
              " 279,\n",
              " 4371,\n",
              " 3400,\n",
              " 764,\n",
              " 1314,\n",
              " 73,\n",
              " 2001,\n",
              " 2334,\n",
              " 4329,\n",
              " 4442,\n",
              " 911,\n",
              " 1379,\n",
              " 161,\n",
              " 3811,\n",
              " 3417,\n",
              " 1104,\n",
              " 2590,\n",
              " 1923,\n",
              " 2745,\n",
              " 1724,\n",
              " 2243,\n",
              " 4769,\n",
              " 3104,\n",
              " 3672,\n",
              " 1865,\n",
              " 3473,\n",
              " 325,\n",
              " 3479,\n",
              " 4207,\n",
              " 4552,\n",
              " 2553,\n",
              " 1888,\n",
              " 598,\n",
              " 2042,\n",
              " 1165,\n",
              " 575,\n",
              " 2379,\n",
              " 4012,\n",
              " 3889,\n",
              " 2101,\n",
              " 1717,\n",
              " 4062,\n",
              " 1931,\n",
              " 1472,\n",
              " 4143,\n",
              " 855,\n",
              " 154,\n",
              " 1279,\n",
              " 3031,\n",
              " 1670,\n",
              " 1445,\n",
              " 2873,\n",
              " 4508,\n",
              " 1523,\n",
              " 1397,\n",
              " 196,\n",
              " 1601,\n",
              " 2309,\n",
              " 655,\n",
              " 555,\n",
              " 4480,\n",
              " 938,\n",
              " 1006,\n",
              " 3560,\n",
              " 3619,\n",
              " 3066,\n",
              " 1736,\n",
              " 639,\n",
              " 1628,\n",
              " 1347,\n",
              " 4340,\n",
              " 3999,\n",
              " 4689,\n",
              " 3475,\n",
              " 1972,\n",
              " 3204,\n",
              " 3775,\n",
              " 1892,\n",
              " 3856,\n",
              " 4022,\n",
              " 1121,\n",
              " 465,\n",
              " 888,\n",
              " 1433,\n",
              " 2936,\n",
              " 866,\n",
              " 684,\n",
              " 4721,\n",
              " 2630,\n",
              " 2281,\n",
              " 229,\n",
              " 1752,\n",
              " 3480,\n",
              " 2969,\n",
              " 647,\n",
              " 1358,\n",
              " 358,\n",
              " 1716,\n",
              " 658,\n",
              " 2905,\n",
              " 393,\n",
              " 4336,\n",
              " 846,\n",
              " 3337,\n",
              " 2291,\n",
              " 3520,\n",
              " 1485,\n",
              " 1438,\n",
              " 2237,\n",
              " 2518,\n",
              " 2093,\n",
              " 3456,\n",
              " 2133,\n",
              " 4670,\n",
              " 2626,\n",
              " 3135,\n",
              " 2825,\n",
              " 1951,\n",
              " 3492,\n",
              " 3046,\n",
              " 105,\n",
              " 4088,\n",
              " 2156,\n",
              " 654,\n",
              " 3302,\n",
              " 471,\n",
              " 403,\n",
              " 2035,\n",
              " 4463,\n",
              " 1356,\n",
              " 2078,\n",
              " 3285,\n",
              " 2134,\n",
              " 4844,\n",
              " 296]"
            ]
          },
          "execution_count": 391,
          "metadata": {},
          "output_type": "execute_result"
        }
      ],
      "source": [
        "# listando indexes que sofreram alteração na coluna aleatória\n",
        "df_selecao_nao_nulo = df[~df[coluna_aleatoria].isnull()]\n",
        "reg_alterados = df_selecao_nao_nulo.sample(n=p_3)\n",
        "reg_alter_index = reg_alterados.index.array\n",
        "list(reg_alter_index)"
      ]
    },
    {
      "cell_type": "code",
      "execution_count": 379,
      "metadata": {},
      "outputs": [],
      "source": [
        "if coluna_aleatoria in colunas_numericas:\n",
        "    for index in reg_alter_index:\n",
        "        df.loc[[index],[coluna_aleatoria]] = gerar_numero_aleatorio()\n",
        "else:\n",
        "    for index in reg_alter_index:\n",
        "        df.loc[[index],[coluna_aleatoria]] = gerar_string_aleatoria()"
      ]
    },
    {
      "cell_type": "code",
      "execution_count": 389,
      "metadata": {},
      "outputs": [
        {
          "name": "stdout",
          "output_type": "stream",
          "text": [
            "vkaznxlogg\n",
            "iahdbjlews\n",
            "ihbrtcamgs\n",
            "wtvbzfgklr\n",
            "gexcqnsoth\n",
            "yduuxzowko\n",
            "plxftdswrn\n",
            "zaziillypd\n",
            "gwsdkvzifb\n",
            "cxeuefjvtv\n"
          ]
        }
      ],
      "source": [
        "# listando alterações\n",
        "count = 0\n",
        "for index in reg_alter_index:\n",
        "    print(df[coluna_aleatoria][index])\n",
        "    count += 1\n",
        "    if count == 10:\n",
        "        break"
      ]
    },
    {
      "cell_type": "markdown",
      "metadata": {},
      "source": [
        "#### b) Limpeza dos dados"
      ]
    },
    {
      "cell_type": "markdown",
      "metadata": {},
      "source": [
        "i. Codificação One-Hot"
      ]
    },
    {
      "cell_type": "code",
      "execution_count": 406,
      "metadata": {},
      "outputs": [
        {
          "data": {
            "text/html": [
              "<div>\n",
              "<style scoped>\n",
              "    .dataframe tbody tr th:only-of-type {\n",
              "        vertical-align: middle;\n",
              "    }\n",
              "\n",
              "    .dataframe tbody tr th {\n",
              "        vertical-align: top;\n",
              "    }\n",
              "\n",
              "    .dataframe thead th {\n",
              "        text-align: right;\n",
              "    }\n",
              "</style>\n",
              "<table border=\"1\" class=\"dataframe\">\n",
              "  <thead>\n",
              "    <tr style=\"text-align: right;\">\n",
              "      <th></th>\n",
              "      <th>Product</th>\n",
              "      <th>Type</th>\n",
              "      <th>Release Date</th>\n",
              "      <th>Process Size (nm)</th>\n",
              "      <th>TDP (W)</th>\n",
              "      <th>Die Size (mm^2)</th>\n",
              "      <th>Transistors (million)</th>\n",
              "      <th>Freq (MHz)</th>\n",
              "      <th>Foundry</th>\n",
              "      <th>AMD</th>\n",
              "      <th>ATI</th>\n",
              "      <th>Intel</th>\n",
              "      <th>NVIDIA</th>\n",
              "      <th>Other</th>\n",
              "    </tr>\n",
              "  </thead>\n",
              "  <tbody>\n",
              "    <tr>\n",
              "      <th>0</th>\n",
              "      <td>AMD Athlon 64 3500+</td>\n",
              "      <td>CPU</td>\n",
              "      <td>2007-02-20</td>\n",
              "      <td>65.0</td>\n",
              "      <td>45.0</td>\n",
              "      <td>77.0</td>\n",
              "      <td>122.0</td>\n",
              "      <td>2200.0</td>\n",
              "      <td>Unknown</td>\n",
              "      <td>1.0</td>\n",
              "      <td>0.0</td>\n",
              "      <td>0.0</td>\n",
              "      <td>0.0</td>\n",
              "      <td>0.0</td>\n",
              "    </tr>\n",
              "    <tr>\n",
              "      <th>1</th>\n",
              "      <td>AMD Athlon 200GE</td>\n",
              "      <td>CPU</td>\n",
              "      <td>2018-09-06</td>\n",
              "      <td>14.0</td>\n",
              "      <td>35.0</td>\n",
              "      <td>192.0</td>\n",
              "      <td>4800.0</td>\n",
              "      <td>3200.0</td>\n",
              "      <td>Unknown</td>\n",
              "      <td>1.0</td>\n",
              "      <td>0.0</td>\n",
              "      <td>0.0</td>\n",
              "      <td>0.0</td>\n",
              "      <td>0.0</td>\n",
              "    </tr>\n",
              "    <tr>\n",
              "      <th>2</th>\n",
              "      <td>Intel Core i5-1145G7</td>\n",
              "      <td>CPU</td>\n",
              "      <td>2020-09-02</td>\n",
              "      <td>10.0</td>\n",
              "      <td>28.0</td>\n",
              "      <td>NaN</td>\n",
              "      <td>NaN</td>\n",
              "      <td>2600.0</td>\n",
              "      <td>Intel</td>\n",
              "      <td>0.0</td>\n",
              "      <td>0.0</td>\n",
              "      <td>1.0</td>\n",
              "      <td>0.0</td>\n",
              "      <td>0.0</td>\n",
              "    </tr>\n",
              "    <tr>\n",
              "      <th>3</th>\n",
              "      <td>Intel Xeon E5-2603 v2</td>\n",
              "      <td>CPU</td>\n",
              "      <td>2013-09-01</td>\n",
              "      <td>22.0</td>\n",
              "      <td>80.0</td>\n",
              "      <td>160.0</td>\n",
              "      <td>1400.0</td>\n",
              "      <td>1800.0</td>\n",
              "      <td>Intel</td>\n",
              "      <td>0.0</td>\n",
              "      <td>0.0</td>\n",
              "      <td>1.0</td>\n",
              "      <td>0.0</td>\n",
              "      <td>0.0</td>\n",
              "    </tr>\n",
              "    <tr>\n",
              "      <th>4</th>\n",
              "      <td>AMD Phenom II X4 980 BE</td>\n",
              "      <td>CPU</td>\n",
              "      <td>2011-05-03</td>\n",
              "      <td>45.0</td>\n",
              "      <td>125.0</td>\n",
              "      <td>258.0</td>\n",
              "      <td>758.0</td>\n",
              "      <td>3700.0</td>\n",
              "      <td>Unknown</td>\n",
              "      <td>1.0</td>\n",
              "      <td>0.0</td>\n",
              "      <td>0.0</td>\n",
              "      <td>0.0</td>\n",
              "      <td>0.0</td>\n",
              "    </tr>\n",
              "    <tr>\n",
              "      <th>...</th>\n",
              "      <td>...</td>\n",
              "      <td>...</td>\n",
              "      <td>...</td>\n",
              "      <td>...</td>\n",
              "      <td>...</td>\n",
              "      <td>...</td>\n",
              "      <td>...</td>\n",
              "      <td>...</td>\n",
              "      <td>...</td>\n",
              "      <td>...</td>\n",
              "      <td>...</td>\n",
              "      <td>...</td>\n",
              "      <td>...</td>\n",
              "      <td>...</td>\n",
              "    </tr>\n",
              "    <tr>\n",
              "      <th>4849</th>\n",
              "      <td>NVIDIA Quadro 3000M</td>\n",
              "      <td>GPU</td>\n",
              "      <td>2011-02-22</td>\n",
              "      <td>40.0</td>\n",
              "      <td>75.0</td>\n",
              "      <td>332.0</td>\n",
              "      <td>1950.0</td>\n",
              "      <td>450.0</td>\n",
              "      <td>TSMC</td>\n",
              "      <td>0.0</td>\n",
              "      <td>0.0</td>\n",
              "      <td>0.0</td>\n",
              "      <td>1.0</td>\n",
              "      <td>0.0</td>\n",
              "    </tr>\n",
              "    <tr>\n",
              "      <th>4850</th>\n",
              "      <td>Intel GMA 950</td>\n",
              "      <td>GPU</td>\n",
              "      <td>2005-06-01</td>\n",
              "      <td>90.0</td>\n",
              "      <td>7.0</td>\n",
              "      <td>NaN</td>\n",
              "      <td>NaN</td>\n",
              "      <td>250.0</td>\n",
              "      <td>Intel</td>\n",
              "      <td>0.0</td>\n",
              "      <td>0.0</td>\n",
              "      <td>1.0</td>\n",
              "      <td>0.0</td>\n",
              "      <td>0.0</td>\n",
              "    </tr>\n",
              "    <tr>\n",
              "      <th>4851</th>\n",
              "      <td>NVIDIA GeForce GT 320M</td>\n",
              "      <td>GPU</td>\n",
              "      <td>2010-03-03</td>\n",
              "      <td>40.0</td>\n",
              "      <td>23.0</td>\n",
              "      <td>100.0</td>\n",
              "      <td>486.0</td>\n",
              "      <td>500.0</td>\n",
              "      <td>TSMC</td>\n",
              "      <td>0.0</td>\n",
              "      <td>0.0</td>\n",
              "      <td>0.0</td>\n",
              "      <td>1.0</td>\n",
              "      <td>0.0</td>\n",
              "    </tr>\n",
              "    <tr>\n",
              "      <th>4852</th>\n",
              "      <td>NVIDIA GeForce FX 5200</td>\n",
              "      <td>GPU</td>\n",
              "      <td>2003-03-06</td>\n",
              "      <td>150.0</td>\n",
              "      <td>NaN</td>\n",
              "      <td>65.0</td>\n",
              "      <td>29.0</td>\n",
              "      <td>250.0</td>\n",
              "      <td>TSMC</td>\n",
              "      <td>0.0</td>\n",
              "      <td>0.0</td>\n",
              "      <td>0.0</td>\n",
              "      <td>1.0</td>\n",
              "      <td>0.0</td>\n",
              "    </tr>\n",
              "    <tr>\n",
              "      <th>4853</th>\n",
              "      <td>NVIDIA GeForce 9300 SE</td>\n",
              "      <td>GPU</td>\n",
              "      <td>2008-06-01</td>\n",
              "      <td>65.0</td>\n",
              "      <td>NaN</td>\n",
              "      <td>86.0</td>\n",
              "      <td>210.0</td>\n",
              "      <td>540.0</td>\n",
              "      <td>TSMC</td>\n",
              "      <td>0.0</td>\n",
              "      <td>0.0</td>\n",
              "      <td>0.0</td>\n",
              "      <td>1.0</td>\n",
              "      <td>0.0</td>\n",
              "    </tr>\n",
              "  </tbody>\n",
              "</table>\n",
              "<p>4854 rows × 14 columns</p>\n",
              "</div>"
            ],
            "text/plain": [
              "                      Product Type Release Date  Process Size (nm)  TDP (W)  \\\n",
              "0         AMD Athlon 64 3500+  CPU   2007-02-20               65.0     45.0   \n",
              "1            AMD Athlon 200GE  CPU   2018-09-06               14.0     35.0   \n",
              "2        Intel Core i5-1145G7  CPU   2020-09-02               10.0     28.0   \n",
              "3       Intel Xeon E5-2603 v2  CPU   2013-09-01               22.0     80.0   \n",
              "4     AMD Phenom II X4 980 BE  CPU   2011-05-03               45.0    125.0   \n",
              "...                       ...  ...          ...                ...      ...   \n",
              "4849      NVIDIA Quadro 3000M  GPU   2011-02-22               40.0     75.0   \n",
              "4850            Intel GMA 950  GPU   2005-06-01               90.0      7.0   \n",
              "4851   NVIDIA GeForce GT 320M  GPU   2010-03-03               40.0     23.0   \n",
              "4852   NVIDIA GeForce FX 5200  GPU   2003-03-06              150.0      NaN   \n",
              "4853   NVIDIA GeForce 9300 SE  GPU   2008-06-01               65.0      NaN   \n",
              "\n",
              "      Die Size (mm^2)  Transistors (million)  Freq (MHz)  Foundry  AMD  ATI  \\\n",
              "0                77.0                  122.0      2200.0  Unknown  1.0  0.0   \n",
              "1               192.0                 4800.0      3200.0  Unknown  1.0  0.0   \n",
              "2                 NaN                    NaN      2600.0    Intel  0.0  0.0   \n",
              "3               160.0                 1400.0      1800.0    Intel  0.0  0.0   \n",
              "4               258.0                  758.0      3700.0  Unknown  1.0  0.0   \n",
              "...               ...                    ...         ...      ...  ...  ...   \n",
              "4849            332.0                 1950.0       450.0     TSMC  0.0  0.0   \n",
              "4850              NaN                    NaN       250.0    Intel  0.0  0.0   \n",
              "4851            100.0                  486.0       500.0     TSMC  0.0  0.0   \n",
              "4852             65.0                   29.0       250.0     TSMC  0.0  0.0   \n",
              "4853             86.0                  210.0       540.0     TSMC  0.0  0.0   \n",
              "\n",
              "      Intel  NVIDIA  Other  \n",
              "0       0.0     0.0    0.0  \n",
              "1       0.0     0.0    0.0  \n",
              "2       1.0     0.0    0.0  \n",
              "3       1.0     0.0    0.0  \n",
              "4       0.0     0.0    0.0  \n",
              "...     ...     ...    ...  \n",
              "4849    0.0     1.0    0.0  \n",
              "4850    1.0     0.0    0.0  \n",
              "4851    0.0     1.0    0.0  \n",
              "4852    0.0     1.0    0.0  \n",
              "4853    0.0     1.0    0.0  \n",
              "\n",
              "[4854 rows x 14 columns]"
            ]
          },
          "execution_count": 406,
          "metadata": {},
          "output_type": "execute_result"
        }
      ],
      "source": [
        "encoder = OneHotEncoder()\n",
        "onehot_encoded_df = pd.DataFrame(encoder.fit_transform(df[['Vendor']]).toarray())\n",
        "onehot_encoded_df.columns = vendors\n",
        "\n",
        "onehot_encoded_df = df.join(onehot_encoded_df)\n",
        "onehot_encoded_df.drop('Vendor', axis=1, inplace=True)\n",
        "onehot_encoded_df"
      ]
    },
    {
      "cell_type": "markdown",
      "metadata": {},
      "source": [
        "ii. Estratégia para dados numéricos ausentes - mediana geral"
      ]
    },
    {
      "cell_type": "code",
      "execution_count": 427,
      "metadata": {},
      "outputs": [
        {
          "data": {
            "text/html": [
              "<div>\n",
              "<style scoped>\n",
              "    .dataframe tbody tr th:only-of-type {\n",
              "        vertical-align: middle;\n",
              "    }\n",
              "\n",
              "    .dataframe tbody tr th {\n",
              "        vertical-align: top;\n",
              "    }\n",
              "\n",
              "    .dataframe thead th {\n",
              "        text-align: right;\n",
              "    }\n",
              "</style>\n",
              "<table border=\"1\" class=\"dataframe\">\n",
              "  <thead>\n",
              "    <tr style=\"text-align: right;\">\n",
              "      <th></th>\n",
              "      <th>Process Size (nm)</th>\n",
              "      <th>TDP (W)</th>\n",
              "      <th>Die Size (mm^2)</th>\n",
              "      <th>Transistors (million)</th>\n",
              "      <th>Freq (MHz)</th>\n",
              "    </tr>\n",
              "  </thead>\n",
              "  <tbody>\n",
              "    <tr>\n",
              "      <th>count</th>\n",
              "      <td>3317.000000</td>\n",
              "      <td>3317.000000</td>\n",
              "      <td>3317.000000</td>\n",
              "      <td>3317.000000</td>\n",
              "      <td>3317.000000</td>\n",
              "    </tr>\n",
              "    <tr>\n",
              "      <th>mean</th>\n",
              "      <td>53.123606</td>\n",
              "      <td>83.649683</td>\n",
              "      <td>200.246608</td>\n",
              "      <td>2150.965029</td>\n",
              "      <td>1510.590292</td>\n",
              "    </tr>\n",
              "    <tr>\n",
              "      <th>std</th>\n",
              "      <td>41.069586</td>\n",
              "      <td>77.860123</td>\n",
              "      <td>130.919148</td>\n",
              "      <td>4267.883640</td>\n",
              "      <td>1013.840038</td>\n",
              "    </tr>\n",
              "    <tr>\n",
              "      <th>min</th>\n",
              "      <td>7.000000</td>\n",
              "      <td>1.000000</td>\n",
              "      <td>1.000000</td>\n",
              "      <td>10.000000</td>\n",
              "      <td>100.000000</td>\n",
              "    </tr>\n",
              "    <tr>\n",
              "      <th>25%</th>\n",
              "      <td>28.000000</td>\n",
              "      <td>35.000000</td>\n",
              "      <td>111.000000</td>\n",
              "      <td>222.000000</td>\n",
              "      <td>650.000000</td>\n",
              "    </tr>\n",
              "    <tr>\n",
              "      <th>50%</th>\n",
              "      <td>40.000000</td>\n",
              "      <td>65.000000</td>\n",
              "      <td>160.000000</td>\n",
              "      <td>731.000000</td>\n",
              "      <td>1124.000000</td>\n",
              "    </tr>\n",
              "    <tr>\n",
              "      <th>75%</th>\n",
              "      <td>65.000000</td>\n",
              "      <td>100.000000</td>\n",
              "      <td>246.000000</td>\n",
              "      <td>2080.000000</td>\n",
              "      <td>2400.000000</td>\n",
              "    </tr>\n",
              "    <tr>\n",
              "      <th>max</th>\n",
              "      <td>250.000000</td>\n",
              "      <td>900.000000</td>\n",
              "      <td>826.000000</td>\n",
              "      <td>54200.000000</td>\n",
              "      <td>4700.000000</td>\n",
              "    </tr>\n",
              "  </tbody>\n",
              "</table>\n",
              "</div>"
            ],
            "text/plain": [
              "       Process Size (nm)      TDP (W)  Die Size (mm^2)  Transistors (million)  \\\n",
              "count        3317.000000  3317.000000      3317.000000            3317.000000   \n",
              "mean           53.123606    83.649683       200.246608            2150.965029   \n",
              "std            41.069586    77.860123       130.919148            4267.883640   \n",
              "min             7.000000     1.000000         1.000000              10.000000   \n",
              "25%            28.000000    35.000000       111.000000             222.000000   \n",
              "50%            40.000000    65.000000       160.000000             731.000000   \n",
              "75%            65.000000   100.000000       246.000000            2080.000000   \n",
              "max           250.000000   900.000000       826.000000           54200.000000   \n",
              "\n",
              "        Freq (MHz)  \n",
              "count  3317.000000  \n",
              "mean   1510.590292  \n",
              "std    1013.840038  \n",
              "min     100.000000  \n",
              "25%     650.000000  \n",
              "50%    1124.000000  \n",
              "75%    2400.000000  \n",
              "max    4700.000000  "
            ]
          },
          "execution_count": 427,
          "metadata": {},
          "output_type": "execute_result"
        }
      ],
      "source": [
        "df.describe()"
      ]
    },
    {
      "cell_type": "code",
      "execution_count": 425,
      "metadata": {},
      "outputs": [
        {
          "data": {
            "text/plain": [
              "731.0"
            ]
          },
          "execution_count": 425,
          "metadata": {},
          "output_type": "execute_result"
        }
      ],
      "source": [
        "sts.median(df['Transistors (million)'])"
      ]
    },
    {
      "cell_type": "code",
      "execution_count": 417,
      "metadata": {},
      "outputs": [
        {
          "name": "stderr",
          "output_type": "stream",
          "text": [
            "C:\\Users\\anjos\\AppData\\Local\\Temp\\ipykernel_10336\\3717774888.py:2: UserWarning: \n",
            "\n",
            "`distplot` is a deprecated function and will be removed in seaborn v0.14.0.\n",
            "\n",
            "Please adapt your code to use either `displot` (a figure-level function with\n",
            "similar flexibility) or `histplot` (an axes-level function for histograms).\n",
            "\n",
            "For a guide to updating your code to use the new functions, please see\n",
            "https://gist.github.com/mwaskom/de44147ed2974457ad6372750bbe5751\n",
            "\n",
            "  ax = sns.distplot(df['Transistors (million)'])\n"
          ]
        },
        {
          "data": {
            "image/png": "[encoded data removed]",
            "text/plain": [
              "<Figure size 1000x800 with 1 Axes>"
            ]
          },
          "metadata": {},
          "output_type": "display_data"
        }
      ],
      "source": [
        "sns.set(rc={\"figure.figsize\": (10, 8)}); np.random.seed(0)\n",
        "ax = sns.distplot(df['Transistors (million)'])\n",
        "plt.show()"
      ]
    },
    {
      "cell_type": "markdown",
      "metadata": {},
      "source": [
        "A atribuição da mediana geral foi utilizada para lidar com os valores nulos das colunas em que existiam, pelos seguintes motivos:\n"
      ]
    },
    {
      "cell_type": "markdown",
      "metadata": {},
      "source": [
        "Utilizaremos a coluna 'Transistors (million)' como referência por acreditarmos que se trata da coluna principal do dataset.\n",
        "\n",
        "*   A remoção dos valores nulos do conjunto levaria à retirada de 29.1% dos dados, pouco mais de 1/4 do dataset original\n",
        "*   Pela forte presença de outliers no dataset, o uso da média para atribuição de dados ausentes não seria uma boa opção. A média da coluna 'Transistors (million)'     seria aproximadamente 2151 milhões.\n",
        "*   O treinamento de um preditor geraria esforço adicional e sairia do foco da entrega, então utilizamos uma estratégia mais simples para tratar dessa questão.\n",
        "*   Por isso, escolhemos o uso da mediana. Para a coluna 'Transistorts (millions)' a mediana é 731 milhões, praticamente 3 vezes menos do que a média. A partir disso, obtemos o valor central do dataset, que sofre menos com o impacto dos outliers.\n"
      ]
    },
    {
      "cell_type": "markdown",
      "metadata": {},
      "source": [
        "iii. Escalonamento de características: Padronização e iv. Pipeline transformadora"
      ]
    },
    {
      "cell_type": "code",
      "execution_count": null,
      "metadata": {},
      "outputs": [],
      "source": [
        "num_pipeline = Pipeline([\n",
        "        ('imputer', SimpleImputer(strategy=\"median\")),        \n",
        "        ('std_scaler', StandardScaler()),\n",
        "    ])\n",
        "\n",
        "full_pipeline = ColumnTransformer([\n",
        "        ('num', num_pipeline, num_attribs),\n",
        "        ('cat', OneHotEncoder(), cat_attribs),\n",
        "    ])"
      ]
    },
    {
      "cell_type": "code",
      "execution_count": null,
      "metadata": {},
      "outputs": [],
      "source": [
        "df_prepared = full_pipeline.fit_transform(df)"
      ]
    },
    {
      "cell_type": "markdown",
      "metadata": {},
      "source": [
        "Utilizando a full_pipeline, aplicamos\n",
        "*   Codificação One-Hot para dados categóricos com mais de duas categorias (escolhemos a coluna 'Vendor')\n",
        "*   Atribuição da mediana geral para os dados numéricos ausentes\n",
        "*   Escalonamento de caretísticas: Padronização\n",
        "*   Pipeline transformadora utilizando codificaçõa one hot, atribuição de mediana e padronização\n"
      ]
    }
  ],
  "metadata": {
    "colab": {
      "include_colab_link": true,
      "provenance": []
    },
    "kernelspec": {
      "display_name": "Python 3.10.8 64-bit (microsoft store)",
      "language": "python",
      "name": "python3"
    },
    "language_info": {
      "codemirror_mode": {
        "name": "ipython",
        "version": 3
      },
      "file_extension": ".py",
      "mimetype": "text/x-python",
      "name": "python",
      "nbconvert_exporter": "python",
      "pygments_lexer": "ipython3",
      "version": "3.10.8"
    },
    "vscode": {
      "interpreter": {
        "hash": "1411826be7eae97a21cd32c3ad68577137fa7ead80dc4d38e556535e3b8866d8"
      }
    }
  },
  "nbformat": 4,
  "nbformat_minor": 0
}
