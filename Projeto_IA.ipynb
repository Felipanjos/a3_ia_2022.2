{
  "cells": [
    {
      "cell_type": "markdown",
      "metadata": {
        "id": "view-in-github"
      },
      "source": [
        "<a href=\"https://colab.research.google.com/github/Felipanjos/a3_ia_2022.2/blob/main/Projeto_IA.ipynb\" target=\"_parent\"><img src=\"https://colab.research.google.com/assets/colab-badge.svg\" alt=\"Open In Colab\"/></a>"
      ]
    },
    {
      "cell_type": "markdown",
      "metadata": {
        "id": "ncWuQ3z3FdV_"
      },
      "source": [
        "# 2.2 Requisitos da Análise do problema\n",
        "\n",
        "### A. Entendimento do Problema:\n",
        "\n",
        "#### a. Especificação do objetivo geral e dos objetivos específicos"
      ]
    },
    {
      "cell_type": "markdown",
      "metadata": {
        "id": "c6MWROvBF-ap"
      },
      "source": [
        "Para esse projeto utilizamos os conhecimentos adquiridos ao longo da nossa disciplina, para criar uma Maquina Preditiva com o objetivo de estimar quantos transistores existem em um determinado CPU. Sabemos que mais transistores em nossa CPU significa mais paralelismo para as tarefas do mesmo, permitindo que essas tarefas sejam finalizadas mais rapidamente. Historicamente vimos que os processadores se tornaram cada vez mais poderosos e junto a isso podemos perceber que o numero de transistores aumentou significativamente. "
      ]
    },
    {
      "cell_type": "markdown",
      "metadata": {
        "id": "xDwKeasUGJKG"
      },
      "source": [
        "## B. Enquadramento do Problema:\n",
        "\n",
        "### a. Especificação do tipo de problema: Quanto à Supervisão, Quanto à Tarefa, Quanto ao Modo;\n",
        "\n",
        "Para esse projeto utilizamos os conhecimentos adquiridos ao longo da nossa disciplina, para criar uma Maquina Preditiva com o objetivo de estimar quantos transistores existem em um determinado CPU. Sabemos que mais transistores em nossa CPU significa mais paralelismo para as tarefas do mesmo, permitindo que essas tarefas sejam finalizadas mais rapidamente. Historicamente vimos que os processadores se tornaram cada vez mais poderosos e junto a isso podemos perceber que o numero de transistores aumentou significativamente.\n"
      ]
    },
    {
      "cell_type": "markdown",
      "metadata": {
        "id": "rgqKC5yoG1Ce"
      },
      "source": [
        "b. Especificação das Medidas de Desempenho (para Classificação ou Regressão)\n"
      ]
    },
    {
      "cell_type": "markdown",
      "metadata": {
        "id": "qz1wI7ngHDsi"
      },
      "source": [
        "Como metódos de desempenho, os principais utilizados no nosso projeto, se tratam de acurácia para a Classicação e erro quadrático médio para Regressão, esses metódos, são extremamente importantes, pois é através deles que é possível observar o quão precisas estão sendo as predições realizadas pela máquina, por serem duas formas diferentes de Aprendizado de máquina supervisionado, cada um possui seu próprio método de desempenho, para a classificação usaremos o principal citado anteriormente, acurácia, se trata de um indicador da performance geral do modelo, contando quantas classificações foram feitas corretamente, para ser calculado, se torna necessário utilizar a Matriz de confusão, identificando os verdadeiros positivos, falso negativos, falso positivos e verdadeiros negativos, através desses dados é possível montar a Matriz e utilizar a formúla VP+VN/VP+VN+FP+FN para assim medir a acurácia do modelo, já para a regressão utilizaremos o erro quadrático médio, esse método carrega como objetivo encontrar a diferença dos valores iniciais com os valores preditos, quanto mais alta a diferença, maior o problema do modelo, pois os valores encontrados não estão sendo precisos, essa média é calculada através da diferença do valor predito para o valor real, o resultado é elevado ao quadrado, fazendo isso para todos os pontos, como já dito, quanto maior o resultado, mais pobre estão sendo as predições."
      ]
    },
    {
      "cell_type": "markdown",
      "metadata": {
        "id": "QLJ9FLBFGxjZ"
      },
      "source": [
        "# 2.3 Requisitos da Análise de Dados:"
      ]
    },
    {
      "cell_type": "code",
      "execution_count": 58,
      "metadata": {
        "id": "2XXjlJX0HHo0"
      },
      "outputs": [],
      "source": [
        "import pandas as pd\n",
        "import numpy as np\n",
        "import random\n",
        "import string\n",
        "import sklearn\n",
        "from itertools import groupby\n",
        "\n",
        "from sklearn.model_selection import StratifiedShuffleSplit\n",
        "from sklearn.pipeline import Pipeline\n",
        "from sklearn.preprocessing import StandardScaler\n",
        "from sklearn.impute import SimpleImputer\n",
        "from sklearn.preprocessing import OneHotEncoder\n",
        "from sklearn.compose import ColumnTransformer\n",
        "from sklearn.linear_model import LinearRegression\n",
        "from sklearn.datasets import make_regression\n",
        "from sklearn.metrics import mean_squared_error\n",
        "import matplotlib.pyplot as plt\n",
        "import seaborn as sns\n",
        "import statistics as sts"
      ]
    },
    {
      "cell_type": "code",
      "execution_count": 22,
      "metadata": {
        "id": "LZwJ8zk9HIe7"
      },
      "outputs": [],
      "source": [
        "df = pd.read_csv('chip_dataset.csv', index_col=[0])\n",
        "df.drop('FP16 GFLOPS', axis=1, inplace=True)\n",
        "df.drop('FP32 GFLOPS', axis=1, inplace=True)\n",
        "df.drop('FP64 GFLOPS', axis=1, inplace=True)\n",
        "vendors = list(np.unique(df['Vendor']))"
      ]
    },
    {
      "cell_type": "code",
      "execution_count": 23,
      "metadata": {
        "id": "6liMrvbjHKX2"
      },
      "outputs": [],
      "source": [
        "num_attribs = list(df.describe().columns)\n",
        "cat_attribs = ['Vendor']"
      ]
    },
    {
      "cell_type": "code",
      "execution_count": 24,
      "metadata": {
        "colab": {
          "base_uri": "https://localhost:8080/",
          "height": 354
        },
        "id": "YjZM9w28LzSi",
        "outputId": "c2dcfd0f-6b5b-49d5-86b7-d2268afe68f6"
      },
      "outputs": [
        {
          "data": {
            "text/html": [
              "<div>\n",
              "<style scoped>\n",
              "    .dataframe tbody tr th:only-of-type {\n",
              "        vertical-align: middle;\n",
              "    }\n",
              "\n",
              "    .dataframe tbody tr th {\n",
              "        vertical-align: top;\n",
              "    }\n",
              "\n",
              "    .dataframe thead th {\n",
              "        text-align: right;\n",
              "    }\n",
              "</style>\n",
              "<table border=\"1\" class=\"dataframe\">\n",
              "  <thead>\n",
              "    <tr style=\"text-align: right;\">\n",
              "      <th></th>\n",
              "      <th>Product</th>\n",
              "      <th>Type</th>\n",
              "      <th>Release Date</th>\n",
              "      <th>Process Size (nm)</th>\n",
              "      <th>TDP (W)</th>\n",
              "      <th>Die Size (mm^2)</th>\n",
              "      <th>Transistors (million)</th>\n",
              "      <th>Freq (MHz)</th>\n",
              "      <th>Foundry</th>\n",
              "      <th>Vendor</th>\n",
              "    </tr>\n",
              "  </thead>\n",
              "  <tbody>\n",
              "    <tr>\n",
              "      <th>0</th>\n",
              "      <td>AMD Athlon 64 3500+</td>\n",
              "      <td>CPU</td>\n",
              "      <td>2007-02-20</td>\n",
              "      <td>65.0</td>\n",
              "      <td>45.0</td>\n",
              "      <td>77.0</td>\n",
              "      <td>122.0</td>\n",
              "      <td>2200.0</td>\n",
              "      <td>Unknown</td>\n",
              "      <td>AMD</td>\n",
              "    </tr>\n",
              "    <tr>\n",
              "      <th>1</th>\n",
              "      <td>AMD Athlon 200GE</td>\n",
              "      <td>CPU</td>\n",
              "      <td>2018-09-06</td>\n",
              "      <td>14.0</td>\n",
              "      <td>35.0</td>\n",
              "      <td>192.0</td>\n",
              "      <td>4800.0</td>\n",
              "      <td>3200.0</td>\n",
              "      <td>Unknown</td>\n",
              "      <td>AMD</td>\n",
              "    </tr>\n",
              "    <tr>\n",
              "      <th>2</th>\n",
              "      <td>Intel Core i5-1145G7</td>\n",
              "      <td>CPU</td>\n",
              "      <td>2020-09-02</td>\n",
              "      <td>10.0</td>\n",
              "      <td>28.0</td>\n",
              "      <td>NaN</td>\n",
              "      <td>NaN</td>\n",
              "      <td>2600.0</td>\n",
              "      <td>Intel</td>\n",
              "      <td>Intel</td>\n",
              "    </tr>\n",
              "    <tr>\n",
              "      <th>3</th>\n",
              "      <td>Intel Xeon E5-2603 v2</td>\n",
              "      <td>CPU</td>\n",
              "      <td>2013-09-01</td>\n",
              "      <td>22.0</td>\n",
              "      <td>80.0</td>\n",
              "      <td>160.0</td>\n",
              "      <td>1400.0</td>\n",
              "      <td>1800.0</td>\n",
              "      <td>Intel</td>\n",
              "      <td>Intel</td>\n",
              "    </tr>\n",
              "    <tr>\n",
              "      <th>4</th>\n",
              "      <td>AMD Phenom II X4 980 BE</td>\n",
              "      <td>CPU</td>\n",
              "      <td>2011-05-03</td>\n",
              "      <td>45.0</td>\n",
              "      <td>125.0</td>\n",
              "      <td>258.0</td>\n",
              "      <td>758.0</td>\n",
              "      <td>3700.0</td>\n",
              "      <td>Unknown</td>\n",
              "      <td>AMD</td>\n",
              "    </tr>\n",
              "  </tbody>\n",
              "</table>\n",
              "</div>"
            ],
            "text/plain": [
              "                   Product Type Release Date  Process Size (nm)  TDP (W)  \\\n",
              "0      AMD Athlon 64 3500+  CPU   2007-02-20               65.0     45.0   \n",
              "1         AMD Athlon 200GE  CPU   2018-09-06               14.0     35.0   \n",
              "2     Intel Core i5-1145G7  CPU   2020-09-02               10.0     28.0   \n",
              "3    Intel Xeon E5-2603 v2  CPU   2013-09-01               22.0     80.0   \n",
              "4  AMD Phenom II X4 980 BE  CPU   2011-05-03               45.0    125.0   \n",
              "\n",
              "   Die Size (mm^2)  Transistors (million)  Freq (MHz)  Foundry Vendor  \n",
              "0             77.0                  122.0      2200.0  Unknown    AMD  \n",
              "1            192.0                 4800.0      3200.0  Unknown    AMD  \n",
              "2              NaN                    NaN      2600.0    Intel  Intel  \n",
              "3            160.0                 1400.0      1800.0    Intel  Intel  \n",
              "4            258.0                  758.0      3700.0  Unknown    AMD  "
            ]
          },
          "execution_count": 24,
          "metadata": {},
          "output_type": "execute_result"
        }
      ],
      "source": [
        "df.head()"
      ]
    },
    {
      "cell_type": "markdown",
      "metadata": {
        "id": "2ir8zdIxEjBH"
      },
      "source": [
        "### B. Divisão"
      ]
    },
    {
      "cell_type": "markdown",
      "metadata": {
        "id": "fTMDwpmbEjBH"
      },
      "source": [
        "##### a) Amostragem estratificada em Conjunto de Treinamento e Conjunto de Teste"
      ]
    },
    {
      "cell_type": "code",
      "execution_count": 25,
      "metadata": {
        "id": "VkTNGCenEjBI"
      },
      "outputs": [],
      "source": [
        "df.dropna(inplace=True)\n",
        "df.reset_index(drop=True, inplace=True)"
      ]
    },
    {
      "cell_type": "code",
      "execution_count": 26,
      "metadata": {
        "id": "0HFNwq6xEjBI"
      },
      "outputs": [],
      "source": [
        "ranges = [0, df['Transistors (million)'].describe()['25%'], 500, 1000, 2000, 6000, 15000, 30000, np.inf]\n",
        "tiers = ['F', 'E', 'D', 'C', 'B', 'A', 'S', 'S+']\n",
        "\n",
        "df['Rank'] = pd.cut(df['Transistors (million)'], bins = ranges, labels = tiers)"
      ]
    },
    {
      "cell_type": "code",
      "execution_count": 27,
      "metadata": {
        "id": "wBz8NnYLEjBJ"
      },
      "outputs": [],
      "source": [
        "splitter = StratifiedShuffleSplit(n_splits=1, test_size=0.2, random_state=42)\n",
        "for train_index, test_index in splitter.split(df, df['Rank']):\n",
        "  strat_train_set = df.loc[train_index]\n",
        "  strat_test_set = df.loc[test_index]"
      ]
    },
    {
      "cell_type": "code",
      "execution_count": 28,
      "metadata": {
        "id": "FW08iGYuEjBJ"
      },
      "outputs": [],
      "source": [
        "def amostragem_estratificada(test_set):\n",
        "    return (test_set['Rank'].value_counts() / len(test_set))*100    "
      ]
    },
    {
      "cell_type": "code",
      "execution_count": 29,
      "metadata": {
        "colab": {
          "base_uri": "https://localhost:8080/"
        },
        "id": "XMr9NMW1EjBK",
        "outputId": "4d63e9d8-c7a7-4032-d099-0dc605c44980"
      },
      "outputs": [
        {
          "data": {
            "text/plain": [
              "F     24.963504\n",
              "C     19.708029\n",
              "B     17.226277\n",
              "E     15.328467\n",
              "D     14.598540\n",
              "A      6.131387\n",
              "S      1.751825\n",
              "S+     0.291971\n",
              "Name: Rank, dtype: float64"
            ]
          },
          "execution_count": 29,
          "metadata": {},
          "output_type": "execute_result"
        }
      ],
      "source": [
        "amostragem_estratificada(strat_test_set)"
      ]
    },
    {
      "cell_type": "code",
      "execution_count": 30,
      "metadata": {
        "id": "3Fn-4pWCEjBK"
      },
      "outputs": [],
      "source": [
        "strat_train_set.drop(columns=['Rank'], inplace=True)\n",
        "strat_test_set.drop(columns=['Rank'], inplace=True)\n",
        "cpu = strat_train_set.drop('Transistors (million)', axis=1)"
      ]
    },
    {
      "cell_type": "markdown",
      "metadata": {
        "id": "t7w4NwGZEjBK"
      },
      "source": [
        "### C. Exploração "
      ]
    },
    {
      "cell_type": "markdown",
      "metadata": {
        "id": "BlI0xflyEjBK"
      },
      "source": [
        "##### a) Visualização dos Dados com gráficos de dispersão e histograma"
      ]
    },
    {
      "cell_type": "code",
      "execution_count": 31,
      "metadata": {
        "id": "Ai7EEW6aEjBL"
      },
      "outputs": [],
      "source": [
        "df['Release Date'] = pd.to_datetime(df['Release Date'])"
      ]
    },
    {
      "cell_type": "code",
      "execution_count": 32,
      "metadata": {
        "colab": {
          "base_uri": "https://localhost:8080/",
          "height": 500
        },
        "id": "iNAZnEUQEjBL",
        "outputId": "db4fb2c6-9df2-4285-e869-45e85459f058"
      },
      "outputs": [
        {
          "data": {
            "text/plain": [
              "<AxesSubplot: >"
            ]
          },
          "execution_count": 32,
          "metadata": {},
          "output_type": "execute_result"
        },
        {
          "data": {
            "image/png": "[encoded data removed]",
            "text/plain": [
              "<Figure size 1000x800 with 1 Axes>"
            ]
          },
          "metadata": {},
          "output_type": "display_data"
        }
      ],
      "source": [
        "# ampliar escala \n",
        "strat_test_set['Transistors (million)'].hist(figsize=(10, 8))"
      ]
    },
    {
      "cell_type": "code",
      "execution_count": 33,
      "metadata": {
        "id": "fDyOArQ0EjBL"
      },
      "outputs": [
        {
          "data": {
            "text/plain": [
              "<AxesSubplot: >"
            ]
          },
          "execution_count": 33,
          "metadata": {},
          "output_type": "execute_result"
        },
        {
          "data": {
            "image/png": "[encoded data removed]",
            "text/plain": [
              "<Figure size 640x480 with 1 Axes>"
            ]
          },
          "metadata": {},
          "output_type": "display_data"
        }
      ],
      "source": [
        "strat_train_set['Transistors (million)'].hist()"
      ]
    },
    {
      "cell_type": "code",
      "execution_count": 34,
      "metadata": {
        "id": "yJ56__vgEjBL"
      },
      "outputs": [
        {
          "data": {
            "text/plain": [
              "<AxesSubplot: xlabel='Release Date', ylabel='Transistors (million)'>"
            ]
          },
          "execution_count": 34,
          "metadata": {},
          "output_type": "execute_result"
        },
        {
          "data": {
            "image/png": "[encoded data removed]",
            "text/plain": [
              "<Figure size 640x480 with 1 Axes>"
            ]
          },
          "metadata": {},
          "output_type": "display_data"
        }
      ],
      "source": [
        "df.plot(kind='scatter', x='Release Date', y='Transistors (million)')"
      ]
    },
    {
      "cell_type": "markdown",
      "metadata": {
        "id": "cLb3iA6nEjBL"
      },
      "source": [
        "##### b. Levantamento de hipóteses sobre as distribuições dos dados\n"
      ]
    },
    {
      "cell_type": "markdown",
      "metadata": {},
      "source": [
        "transistores influenciado por TDP x Die Size"
      ]
    },
    {
      "cell_type": "markdown",
      "metadata": {
        "id": "x7Lku_fJEjBL"
      },
      "source": [
        "##### c. Busca de correlações (Coeficientes de correlação)"
      ]
    },
    {
      "cell_type": "markdown",
      "metadata": {
        "id": "j1ZpMLoKHnfn"
      },
      "source": [
        "Nesta abordagem inicial do projeto, buscamos conectar o número de transistores com o sua Potência térmica máxima (TDP) e o tamanho de sua matriz (Die size) devido a  avaliação positiva dos coeficientes de relação e a sua lógica primordial, quanto mais transistores normalmente é apresentada uma TDP mais elevada e uma matriz maior."
      ]
    },
    {
      "cell_type": "code",
      "execution_count": 35,
      "metadata": {
        "id": "u1JZwfVIEjBM"
      },
      "outputs": [],
      "source": [
        "df['Release Date'] = pd.to_numeric(df['Release Date'])"
      ]
    },
    {
      "cell_type": "markdown",
      "metadata": {
        "id": "v3Y7UxPQEjBM"
      },
      "source": [
        "##### Basearemos a análise das valueelações na coluna Transistors (million), que é o nosso objeto de predição"
      ]
    },
    {
      "cell_type": "code",
      "execution_count": 36,
      "metadata": {
        "id": "g5k4SvG3EjBM",
        "outputId": "7bbd43b1-4de2-49e6-f022-34e83f0da938"
      },
      "outputs": [
        {
          "name": "stdout",
          "output_type": "stream",
          "text": [
            "-0.002568951085001034\n",
            "-0.3977453283926615\n",
            "0.46970179480450375\n",
            "0.6402633611101106\n",
            "1.0\n",
            "-0.04411544348939104\n"
          ]
        },
        {
          "name": "stderr",
          "output_type": "stream",
          "text": [
            "C:\\Users\\anjos\\AppData\\Local\\Temp\\ipykernel_23840\\3423880030.py:1: FutureWarning: The default value of numeric_only in DataFrame.corr is deprecated. In a future version, it will default to False. Select only valid columns or specify the value of numeric_only to silence this warning.\n",
            "  for value in df.corr()['Transistors (million)']:\n"
          ]
        }
      ],
      "source": [
        "for value in df.corr()['Transistors (million)']:\n",
        "    print(value)"
      ]
    },
    {
      "cell_type": "code",
      "execution_count": 37,
      "metadata": {
        "id": "0fKIaxc3EjBM",
        "outputId": "73fbcd76-a6ae-4a2c-bf2d-6826aa966d54"
      },
      "outputs": [
        {
          "name": "stdout",
          "output_type": "stream",
          "text": [
            "Coeficiente de correlação de Pearson entre a coluna Transistors (million) e:\n",
            "Release Date            -0.002569\n",
            "Process Size (nm)       -0.397745\n",
            "TDP (W)                  0.469702\n",
            "Die Size (mm^2)          0.640263\n",
            "Transistors (million)    1.000000\n",
            "Freq (MHz)              -0.044115\n",
            "Name: Transistors (million), dtype: float64 \n",
            "\n",
            "Release Date: relação linear negativa\n",
            "Process Size (nm): relação linear negativa\n",
            "TDP (W): relação linear positiva\n",
            "Die Size (mm^2): relação linear positiva\n",
            "Transistors (million): relação linear perfeita e positiva\n",
            "Freq (MHz): relação linear negativa\n"
          ]
        },
        {
          "name": "stderr",
          "output_type": "stream",
          "text": [
            "C:\\Users\\anjos\\AppData\\Local\\Temp\\ipykernel_23840\\473720730.py:7: FutureWarning: The default value of numeric_only in DataFrame.corr is deprecated. In a future version, it will default to False. Select only valid columns or specify the value of numeric_only to silence this warning.\n",
            "  for value in df.corr()['Transistors (million)']:\n",
            "C:\\Users\\anjos\\AppData\\Local\\Temp\\ipykernel_23840\\473720730.py:21: FutureWarning: The default value of numeric_only in DataFrame.corr is deprecated. In a future version, it will default to False. Select only valid columns or specify the value of numeric_only to silence this warning.\n",
            "  print(df.corr(method='pearson', min_periods=1)['Transistors (million)'], '\\n')\n"
          ]
        }
      ],
      "source": [
        "colunas_para_calculo = ['Release Date'] + num_attribs\n",
        "print('Coeficiente de correlação de Pearson entre a coluna Transistors (million) e:')\n",
        "\n",
        "coor_dict = {}\n",
        "r_list = []\n",
        "\n",
        "for value in df.corr()['Transistors (million)']:\n",
        "    if value == 1:\n",
        "        r = 'relação linear perfeita e positiva'\n",
        "    elif value == 0:\n",
        "        r = 'inexistência linear'\n",
        "    elif value == -1:\n",
        "        r = 'relação linear perfeita e negativa'\n",
        "    elif value > 0:\n",
        "        r = 'relação linear positiva'\n",
        "    elif value < 0:\n",
        "        r = 'relação linear negativa'\n",
        "\n",
        "    r_list.append(r)\n",
        "\n",
        "print(df.corr(method='pearson', min_periods=1)['Transistors (million)'], '\\n')\n",
        "\n",
        "count = 0\n",
        "for col in colunas_para_calculo: \n",
        "    coor_dict[col] = r_list[count]\n",
        "    print(f'{col}: {coor_dict[col]}')\n",
        "    count += 1\n"
      ]
    },
    {
      "cell_type": "markdown",
      "metadata": {
        "id": "YOGuJnsHEjBN"
      },
      "source": [
        "### D. Preparação"
      ]
    },
    {
      "cell_type": "markdown",
      "metadata": {
        "id": "Np4v0J4Lb5p_"
      },
      "source": [
        "##### a) Selecionando 10% das colunas"
      ]
    },
    {
      "cell_type": "code",
      "execution_count": 38,
      "metadata": {
        "colab": {
          "base_uri": "https://localhost:8080/",
          "height": 35
        },
        "id": "5q4KQCWnb8E0",
        "outputId": "7fa93436-e9e3-4352-87ae-11928ae39ae0"
      },
      "outputs": [
        {
          "data": {
            "text/plain": [
              "'Release Date'"
            ]
          },
          "execution_count": 38,
          "metadata": {},
          "output_type": "execute_result"
        }
      ],
      "source": [
        "qtd_colunas = len(df.columns)\n",
        "p_colunas = round(qtd_colunas * 10 / 100)\n",
        "coluna_aleatoria = df.sample(n=p_colunas, axis='columns', random_state=1).keys()[0]\n",
        "colunas_numericas = df.describe().columns\n",
        "colunas_categoricas = df.describe(exclude=np.number).columns\n",
        "coluna_aleatoria # escolhendo uma coluna aleatoriamente"
      ]
    },
    {
      "cell_type": "markdown",
      "metadata": {
        "id": "Hkopa3lohtjf"
      },
      "source": [
        "##### a) Selecionando 3% dos dados"
      ]
    },
    {
      "cell_type": "code",
      "execution_count": 39,
      "metadata": {
        "id": "gmySxE7FEjBN",
        "outputId": "62394b7d-5036-4e2d-9566-eecc89d284c0"
      },
      "outputs": [
        {
          "data": {
            "text/plain": [
              "3422"
            ]
          },
          "execution_count": 39,
          "metadata": {},
          "output_type": "execute_result"
        }
      ],
      "source": [
        "len(df)"
      ]
    },
    {
      "cell_type": "code",
      "execution_count": 40,
      "metadata": {
        "colab": {
          "base_uri": "https://localhost:8080/"
        },
        "id": "HOtcB92hhvLg",
        "outputId": "53206894-8286-4595-f1e8-19ceabd69db8"
      },
      "outputs": [
        {
          "data": {
            "text/plain": [
              "103"
            ]
          },
          "execution_count": 40,
          "metadata": {},
          "output_type": "execute_result"
        }
      ],
      "source": [
        "p_3 = round(df.shape[0] * 3 / 100)\n",
        "p_3"
      ]
    },
    {
      "cell_type": "markdown",
      "metadata": {
        "id": "FQ4KHum3skz7"
      },
      "source": [
        "##### a) Excluindo 3% dos dados aleatoriamente"
      ]
    },
    {
      "cell_type": "code",
      "execution_count": 41,
      "metadata": {
        "id": "gzSYvbRDysNe"
      },
      "outputs": [],
      "source": [
        "reg_excluidos = df.sample(n=p_3)\n",
        "reg_exc_index = reg_excluidos.index.array\n",
        "df.loc[reg_exc_index, coluna_aleatoria] = np.nan"
      ]
    },
    {
      "cell_type": "markdown",
      "metadata": {
        "id": "Sxh3uWeotHrS"
      },
      "source": [
        "##### a) Alterando 3% dos dados aleatoriamente"
      ]
    },
    {
      "cell_type": "code",
      "execution_count": 42,
      "metadata": {
        "id": "inRW488117mR"
      },
      "outputs": [],
      "source": [
        "def gerar_string_aleatoria():\n",
        "  letters = string.ascii_lowercase\n",
        "  return ''.join(random.choice(letters) for i in range(10)) \n",
        "\n",
        "def gerar_numero_aleatorio():\n",
        "  return random.randint(0, 999)"
      ]
    },
    {
      "cell_type": "code",
      "execution_count": 43,
      "metadata": {
        "id": "yMzmcXenuM7q"
      },
      "outputs": [],
      "source": [
        "# listando indexes que sofreram alteração na coluna aleatória\n",
        "df_selecao_nao_nulo = df[~df[coluna_aleatoria].isnull()]\n",
        "reg_alterados = df_selecao_nao_nulo.sample(n=p_3)\n",
        "reg_alter_index = reg_alterados.index.array"
      ]
    },
    {
      "cell_type": "code",
      "execution_count": 44,
      "metadata": {
        "id": "h-0XODObEjBO"
      },
      "outputs": [],
      "source": [
        "if coluna_aleatoria in colunas_numericas:\n",
        "    for index in reg_alter_index:\n",
        "        df.loc[[index],[coluna_aleatoria]] = gerar_numero_aleatorio()\n",
        "else:\n",
        "    for index in reg_alter_index:\n",
        "        df.loc[[index],[coluna_aleatoria]] = gerar_string_aleatoria()"
      ]
    },
    {
      "cell_type": "code",
      "execution_count": 45,
      "metadata": {
        "colab": {
          "base_uri": "https://localhost:8080/"
        },
        "id": "EaiYwIkqEjBO",
        "outputId": "3c9cda06-2863-4c95-aff9-bf8d36e07e25"
      },
      "outputs": [
        {
          "name": "stdout",
          "output_type": "stream",
          "text": [
            "293.0\n",
            "334.0\n",
            "904.0\n",
            "871.0\n",
            "780.0\n",
            "798.0\n",
            "882.0\n",
            "259.0\n",
            "919.0\n",
            "838.0\n"
          ]
        }
      ],
      "source": [
        "# listando alterações\n",
        "count = 0\n",
        "for index in reg_alter_index:\n",
        "    print(df[coluna_aleatoria][index])\n",
        "    count += 1\n",
        "    if count == 10:\n",
        "        break"
      ]
    },
    {
      "cell_type": "markdown",
      "metadata": {
        "id": "G-2ZuRCgEjBP"
      },
      "source": [
        "#### b) Limpeza dos dados"
      ]
    },
    {
      "cell_type": "markdown",
      "metadata": {
        "id": "39VrV40GEjBP"
      },
      "source": [
        "i. Codificação One-Hot"
      ]
    },
    {
      "cell_type": "code",
      "execution_count": 46,
      "metadata": {
        "colab": {
          "base_uri": "https://localhost:8080/",
          "height": 850
        },
        "id": "my6GkBc-EjBP",
        "outputId": "5ecc810c-3f57-40ab-df3d-47f39fea8fd1"
      },
      "outputs": [
        {
          "data": {
            "text/html": [
              "<div>\n",
              "<style scoped>\n",
              "    .dataframe tbody tr th:only-of-type {\n",
              "        vertical-align: middle;\n",
              "    }\n",
              "\n",
              "    .dataframe tbody tr th {\n",
              "        vertical-align: top;\n",
              "    }\n",
              "\n",
              "    .dataframe thead th {\n",
              "        text-align: right;\n",
              "    }\n",
              "</style>\n",
              "<table border=\"1\" class=\"dataframe\">\n",
              "  <thead>\n",
              "    <tr style=\"text-align: right;\">\n",
              "      <th></th>\n",
              "      <th>Product</th>\n",
              "      <th>Type</th>\n",
              "      <th>Release Date</th>\n",
              "      <th>Process Size (nm)</th>\n",
              "      <th>TDP (W)</th>\n",
              "      <th>Die Size (mm^2)</th>\n",
              "      <th>Transistors (million)</th>\n",
              "      <th>Freq (MHz)</th>\n",
              "      <th>Foundry</th>\n",
              "      <th>Rank</th>\n",
              "      <th>AMD</th>\n",
              "      <th>ATI</th>\n",
              "      <th>Intel</th>\n",
              "      <th>NVIDIA</th>\n",
              "      <th>Other</th>\n",
              "    </tr>\n",
              "  </thead>\n",
              "  <tbody>\n",
              "    <tr>\n",
              "      <th>0</th>\n",
              "      <td>AMD Athlon 64 3500+</td>\n",
              "      <td>CPU</td>\n",
              "      <td>1.171930e+18</td>\n",
              "      <td>65.0</td>\n",
              "      <td>45.0</td>\n",
              "      <td>77.0</td>\n",
              "      <td>122.0</td>\n",
              "      <td>2200.0</td>\n",
              "      <td>Unknown</td>\n",
              "      <td>F</td>\n",
              "      <td>1.0</td>\n",
              "      <td>0.0</td>\n",
              "      <td>0.0</td>\n",
              "      <td>0.0</td>\n",
              "      <td>0.0</td>\n",
              "    </tr>\n",
              "    <tr>\n",
              "      <th>1</th>\n",
              "      <td>AMD Athlon 200GE</td>\n",
              "      <td>CPU</td>\n",
              "      <td>1.536192e+18</td>\n",
              "      <td>14.0</td>\n",
              "      <td>35.0</td>\n",
              "      <td>192.0</td>\n",
              "      <td>4800.0</td>\n",
              "      <td>3200.0</td>\n",
              "      <td>Unknown</td>\n",
              "      <td>B</td>\n",
              "      <td>1.0</td>\n",
              "      <td>0.0</td>\n",
              "      <td>0.0</td>\n",
              "      <td>0.0</td>\n",
              "      <td>0.0</td>\n",
              "    </tr>\n",
              "    <tr>\n",
              "      <th>2</th>\n",
              "      <td>Intel Xeon E5-2603 v2</td>\n",
              "      <td>CPU</td>\n",
              "      <td>1.377994e+18</td>\n",
              "      <td>22.0</td>\n",
              "      <td>80.0</td>\n",
              "      <td>160.0</td>\n",
              "      <td>1400.0</td>\n",
              "      <td>1800.0</td>\n",
              "      <td>Intel</td>\n",
              "      <td>C</td>\n",
              "      <td>0.0</td>\n",
              "      <td>0.0</td>\n",
              "      <td>1.0</td>\n",
              "      <td>0.0</td>\n",
              "      <td>0.0</td>\n",
              "    </tr>\n",
              "    <tr>\n",
              "      <th>3</th>\n",
              "      <td>AMD Phenom II X4 980 BE</td>\n",
              "      <td>CPU</td>\n",
              "      <td>1.304381e+18</td>\n",
              "      <td>45.0</td>\n",
              "      <td>125.0</td>\n",
              "      <td>258.0</td>\n",
              "      <td>758.0</td>\n",
              "      <td>3700.0</td>\n",
              "      <td>Unknown</td>\n",
              "      <td>D</td>\n",
              "      <td>1.0</td>\n",
              "      <td>0.0</td>\n",
              "      <td>0.0</td>\n",
              "      <td>0.0</td>\n",
              "      <td>0.0</td>\n",
              "    </tr>\n",
              "    <tr>\n",
              "      <th>4</th>\n",
              "      <td>Intel Xeon E5-2470 v2</td>\n",
              "      <td>CPU</td>\n",
              "      <td>1.377994e+18</td>\n",
              "      <td>22.0</td>\n",
              "      <td>95.0</td>\n",
              "      <td>160.0</td>\n",
              "      <td>1400.0</td>\n",
              "      <td>2400.0</td>\n",
              "      <td>Intel</td>\n",
              "      <td>C</td>\n",
              "      <td>0.0</td>\n",
              "      <td>0.0</td>\n",
              "      <td>1.0</td>\n",
              "      <td>0.0</td>\n",
              "      <td>0.0</td>\n",
              "    </tr>\n",
              "    <tr>\n",
              "      <th>...</th>\n",
              "      <td>...</td>\n",
              "      <td>...</td>\n",
              "      <td>...</td>\n",
              "      <td>...</td>\n",
              "      <td>...</td>\n",
              "      <td>...</td>\n",
              "      <td>...</td>\n",
              "      <td>...</td>\n",
              "      <td>...</td>\n",
              "      <td>...</td>\n",
              "      <td>...</td>\n",
              "      <td>...</td>\n",
              "      <td>...</td>\n",
              "      <td>...</td>\n",
              "      <td>...</td>\n",
              "    </tr>\n",
              "    <tr>\n",
              "      <th>3417</th>\n",
              "      <td>ATI FirePro V7800</td>\n",
              "      <td>GPU</td>\n",
              "      <td>1.272240e+18</td>\n",
              "      <td>40.0</td>\n",
              "      <td>150.0</td>\n",
              "      <td>334.0</td>\n",
              "      <td>2154.0</td>\n",
              "      <td>700.0</td>\n",
              "      <td>TSMC</td>\n",
              "      <td>B</td>\n",
              "      <td>0.0</td>\n",
              "      <td>1.0</td>\n",
              "      <td>0.0</td>\n",
              "      <td>0.0</td>\n",
              "      <td>0.0</td>\n",
              "    </tr>\n",
              "    <tr>\n",
              "      <th>3418</th>\n",
              "      <td>NVIDIA Tegra 3 GPU</td>\n",
              "      <td>GPU</td>\n",
              "      <td>1.320797e+18</td>\n",
              "      <td>40.0</td>\n",
              "      <td>20.0</td>\n",
              "      <td>80.0</td>\n",
              "      <td>10.0</td>\n",
              "      <td>416.0</td>\n",
              "      <td>TSMC</td>\n",
              "      <td>F</td>\n",
              "      <td>0.0</td>\n",
              "      <td>0.0</td>\n",
              "      <td>0.0</td>\n",
              "      <td>1.0</td>\n",
              "      <td>0.0</td>\n",
              "    </tr>\n",
              "    <tr>\n",
              "      <th>3419</th>\n",
              "      <td>NVIDIA Playstation 3 GPU 28nm</td>\n",
              "      <td>GPU</td>\n",
              "      <td>1.370218e+18</td>\n",
              "      <td>28.0</td>\n",
              "      <td>21.0</td>\n",
              "      <td>68.0</td>\n",
              "      <td>302.0</td>\n",
              "      <td>550.0</td>\n",
              "      <td>Sony</td>\n",
              "      <td>E</td>\n",
              "      <td>0.0</td>\n",
              "      <td>0.0</td>\n",
              "      <td>0.0</td>\n",
              "      <td>1.0</td>\n",
              "      <td>0.0</td>\n",
              "    </tr>\n",
              "    <tr>\n",
              "      <th>3420</th>\n",
              "      <td>NVIDIA Quadro 3000M</td>\n",
              "      <td>GPU</td>\n",
              "      <td>1.298333e+18</td>\n",
              "      <td>40.0</td>\n",
              "      <td>75.0</td>\n",
              "      <td>332.0</td>\n",
              "      <td>1950.0</td>\n",
              "      <td>450.0</td>\n",
              "      <td>TSMC</td>\n",
              "      <td>C</td>\n",
              "      <td>0.0</td>\n",
              "      <td>0.0</td>\n",
              "      <td>0.0</td>\n",
              "      <td>1.0</td>\n",
              "      <td>0.0</td>\n",
              "    </tr>\n",
              "    <tr>\n",
              "      <th>3421</th>\n",
              "      <td>NVIDIA GeForce GT 320M</td>\n",
              "      <td>GPU</td>\n",
              "      <td>1.267574e+18</td>\n",
              "      <td>40.0</td>\n",
              "      <td>23.0</td>\n",
              "      <td>100.0</td>\n",
              "      <td>486.0</td>\n",
              "      <td>500.0</td>\n",
              "      <td>TSMC</td>\n",
              "      <td>E</td>\n",
              "      <td>0.0</td>\n",
              "      <td>0.0</td>\n",
              "      <td>0.0</td>\n",
              "      <td>1.0</td>\n",
              "      <td>0.0</td>\n",
              "    </tr>\n",
              "  </tbody>\n",
              "</table>\n",
              "<p>3422 rows × 15 columns</p>\n",
              "</div>"
            ],
            "text/plain": [
              "                            Product Type  Release Date  Process Size (nm)  \\\n",
              "0               AMD Athlon 64 3500+  CPU  1.171930e+18               65.0   \n",
              "1                  AMD Athlon 200GE  CPU  1.536192e+18               14.0   \n",
              "2             Intel Xeon E5-2603 v2  CPU  1.377994e+18               22.0   \n",
              "3           AMD Phenom II X4 980 BE  CPU  1.304381e+18               45.0   \n",
              "4             Intel Xeon E5-2470 v2  CPU  1.377994e+18               22.0   \n",
              "...                             ...  ...           ...                ...   \n",
              "3417              ATI FirePro V7800  GPU  1.272240e+18               40.0   \n",
              "3418             NVIDIA Tegra 3 GPU  GPU  1.320797e+18               40.0   \n",
              "3419  NVIDIA Playstation 3 GPU 28nm  GPU  1.370218e+18               28.0   \n",
              "3420            NVIDIA Quadro 3000M  GPU  1.298333e+18               40.0   \n",
              "3421         NVIDIA GeForce GT 320M  GPU  1.267574e+18               40.0   \n",
              "\n",
              "      TDP (W)  Die Size (mm^2)  Transistors (million)  Freq (MHz)  Foundry  \\\n",
              "0        45.0             77.0                  122.0      2200.0  Unknown   \n",
              "1        35.0            192.0                 4800.0      3200.0  Unknown   \n",
              "2        80.0            160.0                 1400.0      1800.0    Intel   \n",
              "3       125.0            258.0                  758.0      3700.0  Unknown   \n",
              "4        95.0            160.0                 1400.0      2400.0    Intel   \n",
              "...       ...              ...                    ...         ...      ...   \n",
              "3417    150.0            334.0                 2154.0       700.0     TSMC   \n",
              "3418     20.0             80.0                   10.0       416.0     TSMC   \n",
              "3419     21.0             68.0                  302.0       550.0     Sony   \n",
              "3420     75.0            332.0                 1950.0       450.0     TSMC   \n",
              "3421     23.0            100.0                  486.0       500.0     TSMC   \n",
              "\n",
              "     Rank  AMD  ATI  Intel  NVIDIA  Other  \n",
              "0       F  1.0  0.0    0.0     0.0    0.0  \n",
              "1       B  1.0  0.0    0.0     0.0    0.0  \n",
              "2       C  0.0  0.0    1.0     0.0    0.0  \n",
              "3       D  1.0  0.0    0.0     0.0    0.0  \n",
              "4       C  0.0  0.0    1.0     0.0    0.0  \n",
              "...   ...  ...  ...    ...     ...    ...  \n",
              "3417    B  0.0  1.0    0.0     0.0    0.0  \n",
              "3418    F  0.0  0.0    0.0     1.0    0.0  \n",
              "3419    E  0.0  0.0    0.0     1.0    0.0  \n",
              "3420    C  0.0  0.0    0.0     1.0    0.0  \n",
              "3421    E  0.0  0.0    0.0     1.0    0.0  \n",
              "\n",
              "[3422 rows x 15 columns]"
            ]
          },
          "execution_count": 46,
          "metadata": {},
          "output_type": "execute_result"
        }
      ],
      "source": [
        "encoder = OneHotEncoder()\n",
        "onehot_encoded_df = pd.DataFrame(encoder.fit_transform(df[['Vendor']]).toarray())\n",
        "onehot_encoded_df.columns = vendors\n",
        "\n",
        "onehot_encoded_df = df.join(onehot_encoded_df)\n",
        "onehot_encoded_df.drop('Vendor', axis=1, inplace=True)\n",
        "onehot_encoded_df"
      ]
    },
    {
      "cell_type": "markdown",
      "metadata": {
        "id": "FsEuHcaMEjBP"
      },
      "source": [
        "ii. Estratégia para dados numéricos ausentes - mediana geral"
      ]
    },
    {
      "cell_type": "code",
      "execution_count": 47,
      "metadata": {
        "id": "Naq7VWbEEjBP",
        "outputId": "57ea6ece-3aef-4537-891e-43ca3f76a12b"
      },
      "outputs": [
        {
          "data": {
            "text/html": [
              "<div>\n",
              "<style scoped>\n",
              "    .dataframe tbody tr th:only-of-type {\n",
              "        vertical-align: middle;\n",
              "    }\n",
              "\n",
              "    .dataframe tbody tr th {\n",
              "        vertical-align: top;\n",
              "    }\n",
              "\n",
              "    .dataframe thead th {\n",
              "        text-align: right;\n",
              "    }\n",
              "</style>\n",
              "<table border=\"1\" class=\"dataframe\">\n",
              "  <thead>\n",
              "    <tr style=\"text-align: right;\">\n",
              "      <th></th>\n",
              "      <th>Release Date</th>\n",
              "      <th>Process Size (nm)</th>\n",
              "      <th>TDP (W)</th>\n",
              "      <th>Die Size (mm^2)</th>\n",
              "      <th>Transistors (million)</th>\n",
              "      <th>Freq (MHz)</th>\n",
              "    </tr>\n",
              "  </thead>\n",
              "  <tbody>\n",
              "    <tr>\n",
              "      <th>count</th>\n",
              "      <td>3.319000e+03</td>\n",
              "      <td>3422.000000</td>\n",
              "      <td>3422.000000</td>\n",
              "      <td>3422.000000</td>\n",
              "      <td>3422.000000</td>\n",
              "      <td>3422.000000</td>\n",
              "    </tr>\n",
              "    <tr>\n",
              "      <th>mean</th>\n",
              "      <td>1.086335e+18</td>\n",
              "      <td>53.048510</td>\n",
              "      <td>83.740795</td>\n",
              "      <td>200.003799</td>\n",
              "      <td>2163.295441</td>\n",
              "      <td>1507.964641</td>\n",
              "    </tr>\n",
              "    <tr>\n",
              "      <th>std</th>\n",
              "      <td>1.341228e+18</td>\n",
              "      <td>41.146049</td>\n",
              "      <td>78.683153</td>\n",
              "      <td>130.795697</td>\n",
              "      <td>4324.171974</td>\n",
              "      <td>1012.767189</td>\n",
              "    </tr>\n",
              "    <tr>\n",
              "      <th>min</th>\n",
              "      <td>-9.223372e+18</td>\n",
              "      <td>7.000000</td>\n",
              "      <td>1.000000</td>\n",
              "      <td>1.000000</td>\n",
              "      <td>10.000000</td>\n",
              "      <td>100.000000</td>\n",
              "    </tr>\n",
              "    <tr>\n",
              "      <th>25%</th>\n",
              "      <td>1.162339e+18</td>\n",
              "      <td>28.000000</td>\n",
              "      <td>35.000000</td>\n",
              "      <td>111.000000</td>\n",
              "      <td>223.250000</td>\n",
              "      <td>650.000000</td>\n",
              "    </tr>\n",
              "    <tr>\n",
              "      <th>50%</th>\n",
              "      <td>1.286755e+18</td>\n",
              "      <td>40.000000</td>\n",
              "      <td>65.000000</td>\n",
              "      <td>160.000000</td>\n",
              "      <td>731.000000</td>\n",
              "      <td>1120.000000</td>\n",
              "    </tr>\n",
              "    <tr>\n",
              "      <th>75%</th>\n",
              "      <td>1.381190e+18</td>\n",
              "      <td>65.000000</td>\n",
              "      <td>100.000000</td>\n",
              "      <td>246.000000</td>\n",
              "      <td>2080.000000</td>\n",
              "      <td>2333.000000</td>\n",
              "    </tr>\n",
              "    <tr>\n",
              "      <th>max</th>\n",
              "      <td>1.618186e+18</td>\n",
              "      <td>250.000000</td>\n",
              "      <td>900.000000</td>\n",
              "      <td>826.000000</td>\n",
              "      <td>54200.000000</td>\n",
              "      <td>4700.000000</td>\n",
              "    </tr>\n",
              "  </tbody>\n",
              "</table>\n",
              "</div>"
            ],
            "text/plain": [
              "       Release Date  Process Size (nm)      TDP (W)  Die Size (mm^2)  \\\n",
              "count  3.319000e+03        3422.000000  3422.000000      3422.000000   \n",
              "mean   1.086335e+18          53.048510    83.740795       200.003799   \n",
              "std    1.341228e+18          41.146049    78.683153       130.795697   \n",
              "min   -9.223372e+18           7.000000     1.000000         1.000000   \n",
              "25%    1.162339e+18          28.000000    35.000000       111.000000   \n",
              "50%    1.286755e+18          40.000000    65.000000       160.000000   \n",
              "75%    1.381190e+18          65.000000   100.000000       246.000000   \n",
              "max    1.618186e+18         250.000000   900.000000       826.000000   \n",
              "\n",
              "       Transistors (million)   Freq (MHz)  \n",
              "count            3422.000000  3422.000000  \n",
              "mean             2163.295441  1507.964641  \n",
              "std              4324.171974  1012.767189  \n",
              "min                10.000000   100.000000  \n",
              "25%               223.250000   650.000000  \n",
              "50%               731.000000  1120.000000  \n",
              "75%              2080.000000  2333.000000  \n",
              "max             54200.000000  4700.000000  "
            ]
          },
          "execution_count": 47,
          "metadata": {},
          "output_type": "execute_result"
        }
      ],
      "source": [
        "df.describe()"
      ]
    },
    {
      "cell_type": "code",
      "execution_count": 48,
      "metadata": {
        "id": "xhzVVgGIEjBP",
        "outputId": "a1455494-97e5-4fb1-ce9b-65a857a39ef1"
      },
      "outputs": [
        {
          "data": {
            "text/plain": [
              "731.0"
            ]
          },
          "execution_count": 48,
          "metadata": {},
          "output_type": "execute_result"
        }
      ],
      "source": [
        "sts.median(df['Transistors (million)'])"
      ]
    },
    {
      "cell_type": "markdown",
      "metadata": {
        "id": "YrVsdPcmEjBP"
      },
      "source": [
        "A atribuição da mediana geral foi utilizada para lidar com os valores nulos das colunas em que existiam, pelos seguintes motivos:\n"
      ]
    },
    {
      "cell_type": "markdown",
      "metadata": {
        "id": "7zngyPI5EjBP"
      },
      "source": [
        "Utilizaremos a coluna 'Transistors (million)' como referência por acreditarmos que se trata da coluna principal do dataset.\n",
        "\n",
        "*   A remoção dos valores nulos do conjunto levaria à retirada de 29.1% dos dados, pouco mais de 1/4 do dataset original\n",
        "*   Pela forte presença de outliers no dataset, o uso da média para atribuição de dados ausentes não seria uma boa opção. A média da coluna 'Transistors (million)'     seria aproximadamente 2151 milhões.\n",
        "*   O treinamento de um preditor geraria esforço adicional e sairia do foco da entrega, então utilizamos uma estratégia mais simples para tratar dessa questão.\n",
        "*   Por isso, escolhemos o uso da mediana. Para a coluna 'Transistorts (millions)' a mediana é 731 milhões, praticamente 3 vezes menos do que a média. A partir disso, obtemos o valor central do dataset, que sofre menos com o impacto dos outliers.\n"
      ]
    },
    {
      "cell_type": "markdown",
      "metadata": {
        "id": "MyDWykk_EjBQ"
      },
      "source": [
        "iii. Escalonamento de características: Padronização e iv. Pipeline transformadora"
      ]
    },
    {
      "cell_type": "code",
      "execution_count": 49,
      "metadata": {},
      "outputs": [],
      "source": [
        "num_attribs = list(cpu.describe(include=np.number))"
      ]
    },
    {
      "cell_type": "code",
      "execution_count": 50,
      "metadata": {
        "id": "NkIln5EuEjBQ"
      },
      "outputs": [],
      "source": [
        "num_pipeline = Pipeline([\n",
        "        ('imputer', SimpleImputer(strategy=\"median\")),        \n",
        "        ('std_scaler', StandardScaler()),\n",
        "    ])\n",
        "\n",
        "full_pipeline = ColumnTransformer([\n",
        "        ('num', num_pipeline, num_attribs),\n",
        "        ('cat', OneHotEncoder(), cat_attribs),\n",
        "    ])"
      ]
    },
    {
      "cell_type": "code",
      "execution_count": 51,
      "metadata": {},
      "outputs": [
        {
          "data": {
            "text/html": [
              "<div>\n",
              "<style scoped>\n",
              "    .dataframe tbody tr th:only-of-type {\n",
              "        vertical-align: middle;\n",
              "    }\n",
              "\n",
              "    .dataframe tbody tr th {\n",
              "        vertical-align: top;\n",
              "    }\n",
              "\n",
              "    .dataframe thead th {\n",
              "        text-align: right;\n",
              "    }\n",
              "</style>\n",
              "<table border=\"1\" class=\"dataframe\">\n",
              "  <thead>\n",
              "    <tr style=\"text-align: right;\">\n",
              "      <th></th>\n",
              "      <th>Product</th>\n",
              "      <th>Type</th>\n",
              "      <th>Release Date</th>\n",
              "      <th>Process Size (nm)</th>\n",
              "      <th>TDP (W)</th>\n",
              "      <th>Die Size (mm^2)</th>\n",
              "      <th>Freq (MHz)</th>\n",
              "      <th>Foundry</th>\n",
              "      <th>Vendor</th>\n",
              "    </tr>\n",
              "  </thead>\n",
              "  <tbody>\n",
              "    <tr>\n",
              "      <th>2038</th>\n",
              "      <td>AMD Radeon HD 6770 Green Edition</td>\n",
              "      <td>GPU</td>\n",
              "      <td>2013-04-19</td>\n",
              "      <td>40.0</td>\n",
              "      <td>86.0</td>\n",
              "      <td>166.0</td>\n",
              "      <td>700.0</td>\n",
              "      <td>TSMC</td>\n",
              "      <td>AMD</td>\n",
              "    </tr>\n",
              "    <tr>\n",
              "      <th>3008</th>\n",
              "      <td>NVIDIA GeForce FX 5700</td>\n",
              "      <td>GPU</td>\n",
              "      <td>2003-10-23</td>\n",
              "      <td>130.0</td>\n",
              "      <td>25.0</td>\n",
              "      <td>133.0</td>\n",
              "      <td>425.0</td>\n",
              "      <td>TSMC</td>\n",
              "      <td>NVIDIA</td>\n",
              "    </tr>\n",
              "    <tr>\n",
              "      <th>1695</th>\n",
              "      <td>NVIDIA GeForce 315 OEM</td>\n",
              "      <td>GPU</td>\n",
              "      <td>2010-03-31</td>\n",
              "      <td>40.0</td>\n",
              "      <td>33.0</td>\n",
              "      <td>100.0</td>\n",
              "      <td>475.0</td>\n",
              "      <td>TSMC</td>\n",
              "      <td>NVIDIA</td>\n",
              "    </tr>\n",
              "    <tr>\n",
              "      <th>974</th>\n",
              "      <td>Intel Core 2 Quad Q6700</td>\n",
              "      <td>CPU</td>\n",
              "      <td>2007-04-20</td>\n",
              "      <td>65.0</td>\n",
              "      <td>95.0</td>\n",
              "      <td>143.0</td>\n",
              "      <td>2666.0</td>\n",
              "      <td>Intel</td>\n",
              "      <td>Intel</td>\n",
              "    </tr>\n",
              "    <tr>\n",
              "      <th>1068</th>\n",
              "      <td>AMD A6-9500E</td>\n",
              "      <td>CPU</td>\n",
              "      <td>2017-07-27</td>\n",
              "      <td>28.0</td>\n",
              "      <td>35.0</td>\n",
              "      <td>246.0</td>\n",
              "      <td>3000.0</td>\n",
              "      <td>Unknown</td>\n",
              "      <td>AMD</td>\n",
              "    </tr>\n",
              "    <tr>\n",
              "      <th>...</th>\n",
              "      <td>...</td>\n",
              "      <td>...</td>\n",
              "      <td>...</td>\n",
              "      <td>...</td>\n",
              "      <td>...</td>\n",
              "      <td>...</td>\n",
              "      <td>...</td>\n",
              "      <td>...</td>\n",
              "      <td>...</td>\n",
              "    </tr>\n",
              "    <tr>\n",
              "      <th>1161</th>\n",
              "      <td>Intel Xeon 7130N</td>\n",
              "      <td>CPU</td>\n",
              "      <td>2006-08-27</td>\n",
              "      <td>65.0</td>\n",
              "      <td>150.0</td>\n",
              "      <td>435.0</td>\n",
              "      <td>3166.0</td>\n",
              "      <td>Intel</td>\n",
              "      <td>Intel</td>\n",
              "    </tr>\n",
              "    <tr>\n",
              "      <th>376</th>\n",
              "      <td>Intel Pentium 4-M 1.60</td>\n",
              "      <td>CPU</td>\n",
              "      <td>2002-03-04</td>\n",
              "      <td>130.0</td>\n",
              "      <td>30.0</td>\n",
              "      <td>131.0</td>\n",
              "      <td>1600.0</td>\n",
              "      <td>Intel</td>\n",
              "      <td>Intel</td>\n",
              "    </tr>\n",
              "    <tr>\n",
              "      <th>1543</th>\n",
              "      <td>Intel Xeon E3-1275</td>\n",
              "      <td>GPU</td>\n",
              "      <td>2011-04-03</td>\n",
              "      <td>32.0</td>\n",
              "      <td>95.0</td>\n",
              "      <td>216.0</td>\n",
              "      <td>100.0</td>\n",
              "      <td>Intel</td>\n",
              "      <td>Intel</td>\n",
              "    </tr>\n",
              "    <tr>\n",
              "      <th>1708</th>\n",
              "      <td>NVIDIA GeForce 315M</td>\n",
              "      <td>GPU</td>\n",
              "      <td>2011-01-05</td>\n",
              "      <td>40.0</td>\n",
              "      <td>14.0</td>\n",
              "      <td>57.0</td>\n",
              "      <td>606.0</td>\n",
              "      <td>TSMC</td>\n",
              "      <td>NVIDIA</td>\n",
              "    </tr>\n",
              "    <tr>\n",
              "      <th>1222</th>\n",
              "      <td>Intel Xeon E5-2407 v2</td>\n",
              "      <td>CPU</td>\n",
              "      <td>2013-09-01</td>\n",
              "      <td>22.0</td>\n",
              "      <td>80.0</td>\n",
              "      <td>160.0</td>\n",
              "      <td>2400.0</td>\n",
              "      <td>Intel</td>\n",
              "      <td>Intel</td>\n",
              "    </tr>\n",
              "  </tbody>\n",
              "</table>\n",
              "<p>2737 rows × 9 columns</p>\n",
              "</div>"
            ],
            "text/plain": [
              "                               Product Type Release Date  Process Size (nm)  \\\n",
              "2038  AMD Radeon HD 6770 Green Edition  GPU   2013-04-19               40.0   \n",
              "3008            NVIDIA GeForce FX 5700  GPU   2003-10-23              130.0   \n",
              "1695            NVIDIA GeForce 315 OEM  GPU   2010-03-31               40.0   \n",
              "974            Intel Core 2 Quad Q6700  CPU   2007-04-20               65.0   \n",
              "1068                      AMD A6-9500E  CPU   2017-07-27               28.0   \n",
              "...                                ...  ...          ...                ...   \n",
              "1161                  Intel Xeon 7130N  CPU   2006-08-27               65.0   \n",
              "376             Intel Pentium 4-M 1.60  CPU   2002-03-04              130.0   \n",
              "1543                Intel Xeon E3-1275  GPU   2011-04-03               32.0   \n",
              "1708               NVIDIA GeForce 315M  GPU   2011-01-05               40.0   \n",
              "1222             Intel Xeon E5-2407 v2  CPU   2013-09-01               22.0   \n",
              "\n",
              "      TDP (W)  Die Size (mm^2)  Freq (MHz)  Foundry  Vendor  \n",
              "2038     86.0            166.0       700.0     TSMC     AMD  \n",
              "3008     25.0            133.0       425.0     TSMC  NVIDIA  \n",
              "1695     33.0            100.0       475.0     TSMC  NVIDIA  \n",
              "974      95.0            143.0      2666.0    Intel   Intel  \n",
              "1068     35.0            246.0      3000.0  Unknown     AMD  \n",
              "...       ...              ...         ...      ...     ...  \n",
              "1161    150.0            435.0      3166.0    Intel   Intel  \n",
              "376      30.0            131.0      1600.0    Intel   Intel  \n",
              "1543     95.0            216.0       100.0    Intel   Intel  \n",
              "1708     14.0             57.0       606.0     TSMC  NVIDIA  \n",
              "1222     80.0            160.0      2400.0    Intel   Intel  \n",
              "\n",
              "[2737 rows x 9 columns]"
            ]
          },
          "execution_count": 51,
          "metadata": {},
          "output_type": "execute_result"
        }
      ],
      "source": [
        "cpu"
      ]
    },
    {
      "cell_type": "code",
      "execution_count": 52,
      "metadata": {
        "id": "d_5NVu2pEjBQ"
      },
      "outputs": [],
      "source": [
        "cpu_prepared = full_pipeline.fit_transform(cpu)"
      ]
    },
    {
      "cell_type": "markdown",
      "metadata": {
        "id": "lRKsOfU_EjBQ"
      },
      "source": [
        "Utilizando a full_pipeline, aplicamos\n",
        "*   Codificação One-Hot para dados categóricos com mais de duas categorias (escolhemos a coluna 'Vendor')\n",
        "*   Atribuição da mediana geral para os dados numéricos ausentes\n",
        "*   Escalonamento de caretísticas: Padronização\n",
        "*   Pipeline transformadora utilizando codificaçõa one hot, atribuição de mediana e padronização\n"
      ]
    },
    {
      "cell_type": "code",
      "execution_count": 53,
      "metadata": {
        "colab": {
          "base_uri": "https://localhost:8080/"
        },
        "id": "TonXYt1Nonc9",
        "outputId": "33e784ba-9e06-4e4a-db35-d58ff1fbcbcf"
      },
      "outputs": [
        {
          "data": {
            "text/plain": [
              "array([[-0.31607773,  0.02090371, -0.26263445, ...,  0.        ,\n",
              "         0.        ,  0.        ],\n",
              "       [ 1.87159933, -0.74244298, -0.5165892 , ...,  0.        ,\n",
              "         1.        ,  0.        ],\n",
              "       [-0.31607773, -0.64233194, -0.77054396, ...,  0.        ,\n",
              "         1.        ,  0.        ],\n",
              "       ...,\n",
              "       [-0.51053791,  0.13352863,  0.12214549, ...,  1.        ,\n",
              "         0.        ,  0.        ],\n",
              "       [-0.31607773, -0.88009566, -1.1014547 , ...,  0.        ,\n",
              "         1.        ,  0.        ],\n",
              "       [-0.75361314, -0.05417957, -0.30880804, ...,  1.        ,\n",
              "         0.        ,  0.        ]])"
            ]
          },
          "execution_count": 53,
          "metadata": {},
          "output_type": "execute_result"
        }
      ],
      "source": [
        "cpu_prepared"
      ]
    },
    {
      "cell_type": "markdown",
      "metadata": {},
      "source": [
        "##### Treinamento do modelo - Regressão Linear"
      ]
    },
    {
      "cell_type": "code",
      "execution_count": 86,
      "metadata": {},
      "outputs": [
        {
          "data": {
            "text/html": [
              "<style>#sk-container-id-5 {color: black;background-color: white;}#sk-container-id-5 pre{padding: 0;}#sk-container-id-5 div.sk-toggleable {background-color: white;}#sk-container-id-5 label.sk-toggleable__label {cursor: pointer;display: block;width: 100%;margin-bottom: 0;padding: 0.3em;box-sizing: border-box;text-align: center;}#sk-container-id-5 label.sk-toggleable__label-arrow:before {content: \"▸\";float: left;margin-right: 0.25em;color: #696969;}#sk-container-id-5 label.sk-toggleable__label-arrow:hover:before {color: black;}#sk-container-id-5 div.sk-estimator:hover label.sk-toggleable__label-arrow:before {color: black;}#sk-container-id-5 div.sk-toggleable__content {max-height: 0;max-width: 0;overflow: hidden;text-align: left;background-color: #f0f8ff;}#sk-container-id-5 div.sk-toggleable__content pre {margin: 0.2em;color: black;border-radius: 0.25em;background-color: #f0f8ff;}#sk-container-id-5 input.sk-toggleable__control:checked~div.sk-toggleable__content {max-height: 200px;max-width: 100%;overflow: auto;}#sk-container-id-5 input.sk-toggleable__control:checked~label.sk-toggleable__label-arrow:before {content: \"▾\";}#sk-container-id-5 div.sk-estimator input.sk-toggleable__control:checked~label.sk-toggleable__label {background-color: #d4ebff;}#sk-container-id-5 div.sk-label input.sk-toggleable__control:checked~label.sk-toggleable__label {background-color: #d4ebff;}#sk-container-id-5 input.sk-hidden--visually {border: 0;clip: rect(1px 1px 1px 1px);clip: rect(1px, 1px, 1px, 1px);height: 1px;margin: -1px;overflow: hidden;padding: 0;position: absolute;width: 1px;}#sk-container-id-5 div.sk-estimator {font-family: monospace;background-color: #f0f8ff;border: 1px dotted black;border-radius: 0.25em;box-sizing: border-box;margin-bottom: 0.5em;}#sk-container-id-5 div.sk-estimator:hover {background-color: #d4ebff;}#sk-container-id-5 div.sk-parallel-item::after {content: \"\";width: 100%;border-bottom: 1px solid gray;flex-grow: 1;}#sk-container-id-5 div.sk-label:hover label.sk-toggleable__label {background-color: #d4ebff;}#sk-container-id-5 div.sk-serial::before {content: \"\";position: absolute;border-left: 1px solid gray;box-sizing: border-box;top: 0;bottom: 0;left: 50%;z-index: 0;}#sk-container-id-5 div.sk-serial {display: flex;flex-direction: column;align-items: center;background-color: white;padding-right: 0.2em;padding-left: 0.2em;position: relative;}#sk-container-id-5 div.sk-item {position: relative;z-index: 1;}#sk-container-id-5 div.sk-parallel {display: flex;align-items: stretch;justify-content: center;background-color: white;position: relative;}#sk-container-id-5 div.sk-item::before, #sk-container-id-5 div.sk-parallel-item::before {content: \"\";position: absolute;border-left: 1px solid gray;box-sizing: border-box;top: 0;bottom: 0;left: 50%;z-index: -1;}#sk-container-id-5 div.sk-parallel-item {display: flex;flex-direction: column;z-index: 1;position: relative;background-color: white;}#sk-container-id-5 div.sk-parallel-item:first-child::after {align-self: flex-end;width: 50%;}#sk-container-id-5 div.sk-parallel-item:last-child::after {align-self: flex-start;width: 50%;}#sk-container-id-5 div.sk-parallel-item:only-child::after {width: 0;}#sk-container-id-5 div.sk-dashed-wrapped {border: 1px dashed gray;margin: 0 0.4em 0.5em 0.4em;box-sizing: border-box;padding-bottom: 0.4em;background-color: white;}#sk-container-id-5 div.sk-label label {font-family: monospace;font-weight: bold;display: inline-block;line-height: 1.2em;}#sk-container-id-5 div.sk-label-container {text-align: center;}#sk-container-id-5 div.sk-container {/* jupyter's `normalize.less` sets `[hidden] { display: none; }` but bootstrap.min.css set `[hidden] { display: none !important; }` so we also need the `!important` here to be able to override the default hidden behavior on the sphinx rendered scikit-learn.org. See: https://github.com/scikit-learn/scikit-learn/issues/21755 */display: inline-block !important;position: relative;}#sk-container-id-5 div.sk-text-repr-fallback {display: none;}</style><div id=\"sk-container-id-5\" class=\"sk-top-container\"><div class=\"sk-text-repr-fallback\"><pre>LinearRegression()</pre><b>In a Jupyter environment, please rerun this cell to show the HTML representation or trust the notebook. <br />On GitHub, the HTML representation is unable to render, please try loading this page with nbviewer.org.</b></div><div class=\"sk-container\" hidden><div class=\"sk-item\"><div class=\"sk-estimator sk-toggleable\"><input class=\"sk-toggleable__control sk-hidden--visually\" id=\"sk-estimator-id-5\" type=\"checkbox\" checked><label for=\"sk-estimator-id-5\" class=\"sk-toggleable__label sk-toggleable__label-arrow\">LinearRegression</label><div class=\"sk-toggleable__content\"><pre>LinearRegression()</pre></div></div></div></div></div>"
            ],
            "text/plain": [
              "LinearRegression()"
            ]
          },
          "execution_count": 86,
          "metadata": {},
          "output_type": "execute_result"
        }
      ],
      "source": [
        "cpu_labels = strat_train_set['Transistors (million)'].copy()\n",
        "x = df[['Transistors (million)']]\n",
        "y = df[['Die Size (mm^2)']]\n",
        "\n",
        "lin_reg = LinearRegression()\n",
        "lin_reg.fit(x, y)"
      ]
    },
    {
      "cell_type": "code",
      "execution_count": 87,
      "metadata": {},
      "outputs": [
        {
          "data": {
            "text/plain": [
              "<matplotlib.collections.PathCollection at 0x1d7f62c2e90>"
            ]
          },
          "execution_count": 87,
          "metadata": {},
          "output_type": "execute_result"
        },
        {
          "data": {
            "image/png": "[encoded data removed]",
            "text/plain": [
              "<Figure size 640x480 with 1 Axes>"
            ]
          },
          "metadata": {},
          "output_type": "display_data"
        }
      ],
      "source": [
        "plt.scatter(x, y)"
      ]
    },
    {
      "cell_type": "code",
      "execution_count": 88,
      "metadata": {},
      "outputs": [],
      "source": [
        "c_angular = lin_reg.coef_\n",
        "c_linear = lin_reg.intercept_"
      ]
    },
    {
      "cell_type": "code",
      "execution_count": 103,
      "metadata": {},
      "outputs": [
        {
          "data": {
            "image/png": "[encoded data removed]",
            "text/plain": [
              "<Figure size 640x480 with 1 Axes>"
            ]
          },
          "metadata": {},
          "output_type": "display_data"
        }
      ],
      "source": [
        "plt.scatter(x, y)\n",
        "plt.plot(x, c_linear + c_angular * x, color='red')\n",
        "plt.show()"
      ]
    },
    {
      "cell_type": "code",
      "execution_count": 104,
      "metadata": {},
      "outputs": [
        {
          "name": "stderr",
          "output_type": "stream",
          "text": [
            "C:\\Users\\anjos\\AppData\\Local\\Packages\\PythonSoftwareFoundation.Python.3.10_qbz5n2kfra8p0\\LocalCache\\local-packages\\Python310\\site-packages\\sklearn\\base.py:450: UserWarning: X does not have valid feature names, but LinearRegression was fitted with feature names\n",
            "  warnings.warn(\n"
          ]
        },
        {
          "ename": "ValueError",
          "evalue": "X has 9 features, but LinearRegression is expecting 1 features as input.",
          "output_type": "error",
          "traceback": [
            "\u001b[1;31m---------------------------------------------------------------------------\u001b[0m",
            "\u001b[1;31mValueError\u001b[0m                                Traceback (most recent call last)",
            "Cell \u001b[1;32mIn [104], line 3\u001b[0m\n\u001b[0;32m      1\u001b[0m \u001b[39mfrom\u001b[39;00m \u001b[39msklearn\u001b[39;00m\u001b[39m.\u001b[39;00m\u001b[39mmetrics\u001b[39;00m \u001b[39mimport\u001b[39;00m mean_squared_error\n\u001b[1;32m----> 3\u001b[0m cpu_predictions \u001b[39m=\u001b[39m lin_reg\u001b[39m.\u001b[39;49mpredict(cpu_prepared)\n\u001b[0;32m      4\u001b[0m lin_rmse \u001b[39m=\u001b[39m mean_squared_error(cpu_labels, cpu_predictions, squared\u001b[39m=\u001b[39m\u001b[39mFalse\u001b[39;00m)\n",
            "File \u001b[1;32m~\\AppData\\Local\\Packages\\PythonSoftwareFoundation.Python.3.10_qbz5n2kfra8p0\\LocalCache\\local-packages\\Python310\\site-packages\\sklearn\\linear_model\\_base.py:386\u001b[0m, in \u001b[0;36mLinearModel.predict\u001b[1;34m(self, X)\u001b[0m\n\u001b[0;32m    372\u001b[0m \u001b[39mdef\u001b[39;00m \u001b[39mpredict\u001b[39m(\u001b[39mself\u001b[39m, X):\n\u001b[0;32m    373\u001b[0m     \u001b[39m\"\"\"\u001b[39;00m\n\u001b[0;32m    374\u001b[0m \u001b[39m    Predict using the linear model.\u001b[39;00m\n\u001b[0;32m    375\u001b[0m \n\u001b[1;32m   (...)\u001b[0m\n\u001b[0;32m    384\u001b[0m \u001b[39m        Returns predicted values.\u001b[39;00m\n\u001b[0;32m    385\u001b[0m \u001b[39m    \"\"\"\u001b[39;00m\n\u001b[1;32m--> 386\u001b[0m     \u001b[39mreturn\u001b[39;00m \u001b[39mself\u001b[39;49m\u001b[39m.\u001b[39;49m_decision_function(X)\n",
            "File \u001b[1;32m~\\AppData\\Local\\Packages\\PythonSoftwareFoundation.Python.3.10_qbz5n2kfra8p0\\LocalCache\\local-packages\\Python310\\site-packages\\sklearn\\linear_model\\_base.py:369\u001b[0m, in \u001b[0;36mLinearModel._decision_function\u001b[1;34m(self, X)\u001b[0m\n\u001b[0;32m    366\u001b[0m \u001b[39mdef\u001b[39;00m \u001b[39m_decision_function\u001b[39m(\u001b[39mself\u001b[39m, X):\n\u001b[0;32m    367\u001b[0m     check_is_fitted(\u001b[39mself\u001b[39m)\n\u001b[1;32m--> 369\u001b[0m     X \u001b[39m=\u001b[39m \u001b[39mself\u001b[39;49m\u001b[39m.\u001b[39;49m_validate_data(X, accept_sparse\u001b[39m=\u001b[39;49m[\u001b[39m\"\u001b[39;49m\u001b[39mcsr\u001b[39;49m\u001b[39m\"\u001b[39;49m, \u001b[39m\"\u001b[39;49m\u001b[39mcsc\u001b[39;49m\u001b[39m\"\u001b[39;49m, \u001b[39m\"\u001b[39;49m\u001b[39mcoo\u001b[39;49m\u001b[39m\"\u001b[39;49m], reset\u001b[39m=\u001b[39;49m\u001b[39mFalse\u001b[39;49;00m)\n\u001b[0;32m    370\u001b[0m     \u001b[39mreturn\u001b[39;00m safe_sparse_dot(X, \u001b[39mself\u001b[39m\u001b[39m.\u001b[39mcoef_\u001b[39m.\u001b[39mT, dense_output\u001b[39m=\u001b[39m\u001b[39mTrue\u001b[39;00m) \u001b[39m+\u001b[39m \u001b[39mself\u001b[39m\u001b[39m.\u001b[39mintercept_\n",
            "File \u001b[1;32m~\\AppData\\Local\\Packages\\PythonSoftwareFoundation.Python.3.10_qbz5n2kfra8p0\\LocalCache\\local-packages\\Python310\\site-packages\\sklearn\\base.py:600\u001b[0m, in \u001b[0;36mBaseEstimator._validate_data\u001b[1;34m(self, X, y, reset, validate_separately, **check_params)\u001b[0m\n\u001b[0;32m    597\u001b[0m     out \u001b[39m=\u001b[39m X, y\n\u001b[0;32m    599\u001b[0m \u001b[39mif\u001b[39;00m \u001b[39mnot\u001b[39;00m no_val_X \u001b[39mand\u001b[39;00m check_params\u001b[39m.\u001b[39mget(\u001b[39m\"\u001b[39m\u001b[39mensure_2d\u001b[39m\u001b[39m\"\u001b[39m, \u001b[39mTrue\u001b[39;00m):\n\u001b[1;32m--> 600\u001b[0m     \u001b[39mself\u001b[39;49m\u001b[39m.\u001b[39;49m_check_n_features(X, reset\u001b[39m=\u001b[39;49mreset)\n\u001b[0;32m    602\u001b[0m \u001b[39mreturn\u001b[39;00m out\n",
            "File \u001b[1;32m~\\AppData\\Local\\Packages\\PythonSoftwareFoundation.Python.3.10_qbz5n2kfra8p0\\LocalCache\\local-packages\\Python310\\site-packages\\sklearn\\base.py:400\u001b[0m, in \u001b[0;36mBaseEstimator._check_n_features\u001b[1;34m(self, X, reset)\u001b[0m\n\u001b[0;32m    397\u001b[0m     \u001b[39mreturn\u001b[39;00m\n\u001b[0;32m    399\u001b[0m \u001b[39mif\u001b[39;00m n_features \u001b[39m!=\u001b[39m \u001b[39mself\u001b[39m\u001b[39m.\u001b[39mn_features_in_:\n\u001b[1;32m--> 400\u001b[0m     \u001b[39mraise\u001b[39;00m \u001b[39mValueError\u001b[39;00m(\n\u001b[0;32m    401\u001b[0m         \u001b[39mf\u001b[39m\u001b[39m\"\u001b[39m\u001b[39mX has \u001b[39m\u001b[39m{\u001b[39;00mn_features\u001b[39m}\u001b[39;00m\u001b[39m features, but \u001b[39m\u001b[39m{\u001b[39;00m\u001b[39mself\u001b[39m\u001b[39m.\u001b[39m\u001b[39m__class__\u001b[39m\u001b[39m.\u001b[39m\u001b[39m__name__\u001b[39m\u001b[39m}\u001b[39;00m\u001b[39m \u001b[39m\u001b[39m\"\u001b[39m\n\u001b[0;32m    402\u001b[0m         \u001b[39mf\u001b[39m\u001b[39m\"\u001b[39m\u001b[39mis expecting \u001b[39m\u001b[39m{\u001b[39;00m\u001b[39mself\u001b[39m\u001b[39m.\u001b[39mn_features_in_\u001b[39m}\u001b[39;00m\u001b[39m features as input.\u001b[39m\u001b[39m\"\u001b[39m\n\u001b[0;32m    403\u001b[0m     )\n",
            "\u001b[1;31mValueError\u001b[0m: X has 9 features, but LinearRegression is expecting 1 features as input."
          ]
        }
      ],
      "source": [
        "from sklearn.metrics import mean_squared_error\n",
        "\n",
        "cpu_predictions = lin_reg.predict(cpu_prepared)\n",
        "lin_rmse = mean_squared_error(cpu_labels, cpu_predictions, squared=False)"
      ]
    },
    {
      "cell_type": "code",
      "execution_count": 56,
      "metadata": {},
      "outputs": [
        {
          "data": {
            "text/plain": [
              "array([ 2239.17928815, -1256.94052508,   845.05035726, ...,\n",
              "        2844.59120132,    29.77466634,  1867.84899323])"
            ]
          },
          "execution_count": 56,
          "metadata": {},
          "output_type": "execute_result"
        }
      ],
      "source": [
        "cpu_predictions"
      ]
    },
    {
      "cell_type": "code",
      "execution_count": 57,
      "metadata": {},
      "outputs": [
        {
          "data": {
            "text/plain": [
              "3074.63"
            ]
          },
          "execution_count": 57,
          "metadata": {},
          "output_type": "execute_result"
        }
      ],
      "source": [
        "round(lin_rmse, 2)"
      ]
    },
    {
      "cell_type": "markdown",
      "metadata": {},
      "source": [
        "# 2.4 Requisitos da Construção dos Modelos e Aprendizado de Máquina \n",
        "\n",
        "### Seleção dos Modelos"
      ]
    },
    {
      "cell_type": "code",
      "execution_count": null,
      "metadata": {},
      "outputs": [],
      "source": []
    }
  ],
  "metadata": {
    "colab": {
      "provenance": []
    },
    "kernelspec": {
      "display_name": "Python 3.10.8 64-bit (microsoft store)",
      "language": "python",
      "name": "python3"
    },
    "language_info": {
      "codemirror_mode": {
        "name": "ipython",
        "version": 3
      },
      "file_extension": ".py",
      "mimetype": "text/x-python",
      "name": "python",
      "nbconvert_exporter": "python",
      "pygments_lexer": "ipython3",
      "version": "3.10.8"
    },
    "vscode": {
      "interpreter": {
        "hash": "1411826be7eae97a21cd32c3ad68577137fa7ead80dc4d38e556535e3b8866d8"
      }
    }
  },
  "nbformat": 4,
  "nbformat_minor": 0
}
