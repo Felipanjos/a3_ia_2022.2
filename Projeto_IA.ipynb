{
  "cells": [
    {
      "cell_type": "markdown",
      "metadata": {
        "colab_type": "text",
        "id": "view-in-github"
      },
      "source": [
        "<a href=\"https://colab.research.google.com/github/Felipanjos/a3_ia_2022.2/blob/main/Projeto_IA.ipynb\" target=\"_parent\"><img src=\"https://colab.research.google.com/assets/colab-badge.svg\" alt=\"Open In Colab\"/></a>"
      ]
    },
    {
      "cell_type": "code",
      "execution_count": 325,
      "metadata": {
        "id": "FGHweZQuwPte"
      },
      "outputs": [],
      "source": [
        "import pandas as pd\n",
        "import numpy as np\n",
        "import random\n",
        "import string\n",
        "import sklearn\n",
        "from itertools import groupby\n",
        "\n",
        "from sklearn.model_selection import StratifiedShuffleSplit\n",
        "from sklearn.pipeline import Pipeline\n",
        "from sklearn.preprocessing import StandardScaler\n",
        "from sklearn.impute import SimpleImputer\n",
        "from sklearn.preprocessing import OneHotEncoder\n",
        "from sklearn.compose import ColumnTransformer\n",
        "import matplotlib.pyplot as plt"
      ]
    },
    {
      "cell_type": "code",
      "execution_count": 326,
      "metadata": {},
      "outputs": [],
      "source": [
        "df = pd.read_csv('chip_dataset.csv', index_col=[0])\n",
        "df.drop('FP16 GFLOPS', axis=1, inplace=True)\n",
        "df.drop('FP32 GFLOPS', axis=1, inplace=True)\n",
        "df.drop('FP64 GFLOPS', axis=1, inplace=True)\n",
        "vendors = list(np.unique(df['Vendor']))"
      ]
    },
    {
      "cell_type": "code",
      "execution_count": 327,
      "metadata": {},
      "outputs": [
        {
          "name": "stdout",
          "output_type": "stream",
          "text": [
            "<class 'pandas.core.frame.DataFrame'>\n",
            "Int64Index: 4854 entries, 0 to 4853\n",
            "Data columns (total 10 columns):\n",
            " #   Column                 Non-Null Count  Dtype  \n",
            "---  ------                 --------------  -----  \n",
            " 0   Product                4854 non-null   object \n",
            " 1   Type                   4854 non-null   object \n",
            " 2   Release Date           4854 non-null   object \n",
            " 3   Process Size (nm)      4845 non-null   float64\n",
            " 4   TDP (W)                4228 non-null   float64\n",
            " 5   Die Size (mm^2)        4139 non-null   float64\n",
            " 6   Transistors (million)  4143 non-null   float64\n",
            " 7   Freq (MHz)             4854 non-null   float64\n",
            " 8   Foundry                4854 non-null   object \n",
            " 9   Vendor                 4854 non-null   object \n",
            "dtypes: float64(5), object(5)\n",
            "memory usage: 417.1+ KB\n"
          ]
        }
      ],
      "source": [
        "df.info()"
      ]
    },
    {
      "cell_type": "code",
      "execution_count": 328,
      "metadata": {},
      "outputs": [],
      "source": [
        "num_attribs = list(df.describe().columns)\n",
        "cat_attribs = ['Vendor']"
      ]
    },
    {
      "cell_type": "markdown",
      "metadata": {},
      "source": [
        "### B. Divisão "
      ]
    },
    {
      "cell_type": "code",
      "execution_count": 345,
      "metadata": {},
      "outputs": [
        {
          "data": {
            "text/html": [
              "<div>\n",
              "<style scoped>\n",
              "    .dataframe tbody tr th:only-of-type {\n",
              "        vertical-align: middle;\n",
              "    }\n",
              "\n",
              "    .dataframe tbody tr th {\n",
              "        vertical-align: top;\n",
              "    }\n",
              "\n",
              "    .dataframe thead th {\n",
              "        text-align: right;\n",
              "    }\n",
              "</style>\n",
              "<table border=\"1\" class=\"dataframe\">\n",
              "  <thead>\n",
              "    <tr style=\"text-align: right;\">\n",
              "      <th></th>\n",
              "      <th>Process Size (nm)</th>\n",
              "      <th>TDP (W)</th>\n",
              "      <th>Die Size (mm^2)</th>\n",
              "      <th>Transistors (million)</th>\n",
              "      <th>Freq (MHz)</th>\n",
              "    </tr>\n",
              "  </thead>\n",
              "  <tbody>\n",
              "    <tr>\n",
              "      <th>count</th>\n",
              "      <td>4845.000000</td>\n",
              "      <td>4228.000000</td>\n",
              "      <td>4014.000000</td>\n",
              "      <td>4143.000000</td>\n",
              "      <td>4854.000000</td>\n",
              "    </tr>\n",
              "    <tr>\n",
              "      <th>mean</th>\n",
              "      <td>55.109598</td>\n",
              "      <td>81.359981</td>\n",
              "      <td>199.945192</td>\n",
              "      <td>1929.922279</td>\n",
              "      <td>1484.406057</td>\n",
              "    </tr>\n",
              "    <tr>\n",
              "      <th>std</th>\n",
              "      <td>44.998676</td>\n",
              "      <td>76.807808</td>\n",
              "      <td>147.199301</td>\n",
              "      <td>4044.891098</td>\n",
              "      <td>1066.701523</td>\n",
              "    </tr>\n",
              "    <tr>\n",
              "      <th>min</th>\n",
              "      <td>0.000000</td>\n",
              "      <td>1.000000</td>\n",
              "      <td>1.000000</td>\n",
              "      <td>8.000000</td>\n",
              "      <td>100.000000</td>\n",
              "    </tr>\n",
              "    <tr>\n",
              "      <th>25%</th>\n",
              "      <td>22.000000</td>\n",
              "      <td>33.000000</td>\n",
              "      <td>104.000000</td>\n",
              "      <td>154.000000</td>\n",
              "      <td>590.000000</td>\n",
              "    </tr>\n",
              "    <tr>\n",
              "      <th>50%</th>\n",
              "      <td>40.000000</td>\n",
              "      <td>65.000000</td>\n",
              "      <td>150.000000</td>\n",
              "      <td>624.000000</td>\n",
              "      <td>1073.500000</td>\n",
              "    </tr>\n",
              "    <tr>\n",
              "      <th>75%</th>\n",
              "      <td>90.000000</td>\n",
              "      <td>100.000000</td>\n",
              "      <td>246.000000</td>\n",
              "      <td>1550.000000</td>\n",
              "      <td>2400.000000</td>\n",
              "    </tr>\n",
              "    <tr>\n",
              "      <th>max</th>\n",
              "      <td>250.000000</td>\n",
              "      <td>900.000000</td>\n",
              "      <td>990.000000</td>\n",
              "      <td>54200.000000</td>\n",
              "      <td>4700.000000</td>\n",
              "    </tr>\n",
              "  </tbody>\n",
              "</table>\n",
              "</div>"
            ],
            "text/plain": [
              "       Process Size (nm)      TDP (W)  Die Size (mm^2)  Transistors (million)  \\\n",
              "count        4845.000000  4228.000000      4014.000000            4143.000000   \n",
              "mean           55.109598    81.359981       199.945192            1929.922279   \n",
              "std            44.998676    76.807808       147.199301            4044.891098   \n",
              "min             0.000000     1.000000         1.000000               8.000000   \n",
              "25%            22.000000    33.000000       104.000000             154.000000   \n",
              "50%            40.000000    65.000000       150.000000             624.000000   \n",
              "75%            90.000000   100.000000       246.000000            1550.000000   \n",
              "max           250.000000   900.000000       990.000000           54200.000000   \n",
              "\n",
              "        Freq (MHz)  \n",
              "count  4854.000000  \n",
              "mean   1484.406057  \n",
              "std    1066.701523  \n",
              "min     100.000000  \n",
              "25%     590.000000  \n",
              "50%    1073.500000  \n",
              "75%    2400.000000  \n",
              "max    4700.000000  "
            ]
          },
          "execution_count": 345,
          "metadata": {},
          "output_type": "execute_result"
        }
      ],
      "source": [
        "df.describe()"
      ]
    },
    {
      "cell_type": "code",
      "execution_count": 346,
      "metadata": {},
      "outputs": [
        {
          "data": {
            "text/plain": [
              "<AxesSubplot: >"
            ]
          },
          "execution_count": 346,
          "metadata": {},
          "output_type": "execute_result"
        },
        {
          "data": {
            "image/png": "[encoded data removed]",
            "text/plain": [
              "<Figure size 640x480 with 1 Axes>"
            ]
          },
          "metadata": {},
          "output_type": "display_data"
        }
      ],
      "source": [
        "# matplotlib\n",
        "df['Transistors (million)'].hist()"
      ]
    },
    {
      "cell_type": "code",
      "execution_count": 329,
      "metadata": {},
      "outputs": [],
      "source": [
        "ranges = [df.min()['total'], df['total'].describe()['25%'], 4500, 9000, 10000, 25000, 100000, 200000, np.inf]\n",
        "tiers = ['F', 'E', 'D', 'C', 'B', 'A', 'S', 'S+']\n",
        "\n",
        "df['nome_col_cat'] = pd.cut(df['total'], bins = ranges, labels = tiers)"
      ]
    },
    {
      "cell_type": "code",
      "execution_count": 330,
      "metadata": {},
      "outputs": [],
      "source": [
        "# df_num = pd.DataFrame(df_num, index=df.index, columns=df.columns)"
      ]
    },
    {
      "cell_type": "code",
      "execution_count": 331,
      "metadata": {},
      "outputs": [],
      "source": [
        "splitter = StratifiedShuffleSplit(n_splits=1, test_size=0.2, random_state=42)\n",
        "for train_index, test_index in splitter.split(df, df['total_cat']):\n",
        "  strat_train_set = df.loc[train_index]\n",
        "  strat_test_set = df.loc[test_index]"
      ]
    },
    {
      "cell_type": "code",
      "execution_count": 332,
      "metadata": {},
      "outputs": [],
      "source": [
        "strat_train_set.drop(columns=['income_cat'], inplace=True)\n",
        "strat_test_set.drop(columns=['income_cat'], inplace=True)"
      ]
    },
    {
      "cell_type": "code",
      "execution_count": 333,
      "metadata": {},
      "outputs": [],
      "source": [
        "strat_test_set['total_cat'].value_counts()"
      ]
    },
    {
      "cell_type": "markdown",
      "metadata": {},
      "source": [
        "### C. Exploração "
      ]
    },
    {
      "cell_type": "markdown",
      "metadata": {},
      "source": [
        "### D. Preparação"
      ]
    },
    {
      "cell_type": "markdown",
      "metadata": {
        "id": "Np4v0J4Lb5p_"
      },
      "source": [
        "##### a) Selecionando 10% das colunas"
      ]
    },
    {
      "cell_type": "markdown",
      "metadata": {},
      "source": [
        "No dataset utilizado existem somente 9 colunas, dessa forma:\n",
        "\n",
        "*    10% de 9 = 0.9\n",
        "*    Aproximando para 1, fica somente uma coluna a ser selecionada como referência para a modificação dos dados\n",
        "\n"
      ]
    },
    {
      "cell_type": "code",
      "execution_count": 334,
      "metadata": {
        "colab": {
          "base_uri": "https://localhost:8080/"
        },
        "id": "5q4KQCWnb8E0",
        "outputId": "9b709cec-a07f-4915-bfa5-26b318191d37"
      },
      "outputs": [
        {
          "data": {
            "text/plain": [
              "'Die Size (mm^2)'"
            ]
          },
          "execution_count": 334,
          "metadata": {},
          "output_type": "execute_result"
        }
      ],
      "source": [
        "qtd_colunas = len(df.columns)\n",
        "p_colunas = round(qtd_colunas * 10 / 100)\n",
        "coluna_aleatoria = df.sample(n=p_colunas, axis='columns').keys()[0]\n",
        "colunas_numericas = df.describe().columns\n",
        "colunas_categoricas = df.describe(exclude=np.number).columns\n",
        "coluna_aleatoria # escolhendo uma coluna aleatoriamente"
      ]
    },
    {
      "cell_type": "markdown",
      "metadata": {
        "id": "Hkopa3lohtjf"
      },
      "source": [
        "##### a) Selecionando 3% dos dados"
      ]
    },
    {
      "cell_type": "code",
      "execution_count": 335,
      "metadata": {
        "id": "HOtcB92hhvLg"
      },
      "outputs": [
        {
          "data": {
            "text/plain": [
              "145"
            ]
          },
          "execution_count": 335,
          "metadata": {},
          "output_type": "execute_result"
        }
      ],
      "source": [
        "p_3 = int(df.shape[0] * 3 / 100)\n",
        "p_3 # 3% de 1000 é igual a 30"
      ]
    },
    {
      "cell_type": "markdown",
      "metadata": {
        "id": "FQ4KHum3skz7"
      },
      "source": [
        "##### a) Excluindo 3% dos dados aleatoriamente"
      ]
    },
    {
      "cell_type": "code",
      "execution_count": 336,
      "metadata": {
        "id": "gzSYvbRDysNe"
      },
      "outputs": [],
      "source": [
        "reg_nulos = df[df[coluna_aleatoria].isnull()]\n",
        "qtd_reg_nulos = reg_nulos.shape[0]\n",
        "reg_excluidos = df.sample(n=p_3)\n",
        "reg_exc_index = reg_excluidos.index.array\n",
        "df.loc[reg_exc_index, coluna_aleatoria] = np.nan"
      ]
    },
    {
      "cell_type": "markdown",
      "metadata": {
        "id": "Sxh3uWeotHrS"
      },
      "source": [
        "##### a) Alterando 3% dos dados aleatoriamente"
      ]
    },
    {
      "cell_type": "code",
      "execution_count": 337,
      "metadata": {
        "id": "inRW488117mR"
      },
      "outputs": [],
      "source": [
        "def gerar_string_aleatoria():\n",
        "  letters = string.ascii_lowercase\n",
        "  return ''.join(random.choice(letters) for i in range(10)) \n",
        "\n",
        "def gerar_numero_aleatorio():\n",
        "  return random.randint(0, 999)"
      ]
    },
    {
      "cell_type": "code",
      "execution_count": 338,
      "metadata": {
        "id": "yMzmcXenuM7q"
      },
      "outputs": [],
      "source": [
        "df_selecao_nao_nulo = df[~df[coluna_aleatoria].isnull()]\n",
        "reg_alterados = df_selecao_nao_nulo.sample(n=p_3)\n",
        "reg_alter_index = reg_alterados.index.array"
      ]
    },
    {
      "cell_type": "code",
      "execution_count": 339,
      "metadata": {},
      "outputs": [],
      "source": [
        "if coluna_aleatoria in colunas_numericas:\n",
        "    for index in reg_alter_index:\n",
        "        df.loc[[index],[coluna_aleatoria]] = gerar_numero_aleatorio()\n",
        "else:\n",
        "    for index in reg_alter_index:\n",
        "        df.loc[[index],[coluna_aleatoria]] = gerar_string_aleatoria()"
      ]
    },
    {
      "cell_type": "markdown",
      "metadata": {},
      "source": [
        "#### b) Limpeza dos dados"
      ]
    },
    {
      "cell_type": "markdown",
      "metadata": {},
      "source": [
        "i. Codificação One-Hot"
      ]
    },
    {
      "cell_type": "code",
      "execution_count": 340,
      "metadata": {},
      "outputs": [
        {
          "data": {
            "text/html": [
              "<div>\n",
              "<style scoped>\n",
              "    .dataframe tbody tr th:only-of-type {\n",
              "        vertical-align: middle;\n",
              "    }\n",
              "\n",
              "    .dataframe tbody tr th {\n",
              "        vertical-align: top;\n",
              "    }\n",
              "\n",
              "    .dataframe thead th {\n",
              "        text-align: right;\n",
              "    }\n",
              "</style>\n",
              "<table border=\"1\" class=\"dataframe\">\n",
              "  <thead>\n",
              "    <tr style=\"text-align: right;\">\n",
              "      <th></th>\n",
              "      <th>Product</th>\n",
              "      <th>Type</th>\n",
              "      <th>Release Date</th>\n",
              "      <th>Process Size (nm)</th>\n",
              "      <th>TDP (W)</th>\n",
              "      <th>Die Size (mm^2)</th>\n",
              "      <th>Transistors (million)</th>\n",
              "      <th>Freq (MHz)</th>\n",
              "      <th>Foundry</th>\n",
              "      <th>AMD</th>\n",
              "      <th>ATI</th>\n",
              "      <th>Intel</th>\n",
              "      <th>NVIDIA</th>\n",
              "      <th>Other</th>\n",
              "    </tr>\n",
              "  </thead>\n",
              "  <tbody>\n",
              "    <tr>\n",
              "      <th>0</th>\n",
              "      <td>AMD Athlon 64 3500+</td>\n",
              "      <td>CPU</td>\n",
              "      <td>2007-02-20</td>\n",
              "      <td>65.0</td>\n",
              "      <td>45.0</td>\n",
              "      <td>77.0</td>\n",
              "      <td>122.0</td>\n",
              "      <td>2200.0</td>\n",
              "      <td>Unknown</td>\n",
              "      <td>1.0</td>\n",
              "      <td>0.0</td>\n",
              "      <td>0.0</td>\n",
              "      <td>0.0</td>\n",
              "      <td>0.0</td>\n",
              "    </tr>\n",
              "    <tr>\n",
              "      <th>1</th>\n",
              "      <td>AMD Athlon 200GE</td>\n",
              "      <td>CPU</td>\n",
              "      <td>2018-09-06</td>\n",
              "      <td>14.0</td>\n",
              "      <td>35.0</td>\n",
              "      <td>192.0</td>\n",
              "      <td>4800.0</td>\n",
              "      <td>3200.0</td>\n",
              "      <td>Unknown</td>\n",
              "      <td>1.0</td>\n",
              "      <td>0.0</td>\n",
              "      <td>0.0</td>\n",
              "      <td>0.0</td>\n",
              "      <td>0.0</td>\n",
              "    </tr>\n",
              "    <tr>\n",
              "      <th>2</th>\n",
              "      <td>Intel Core i5-1145G7</td>\n",
              "      <td>CPU</td>\n",
              "      <td>2020-09-02</td>\n",
              "      <td>10.0</td>\n",
              "      <td>28.0</td>\n",
              "      <td>NaN</td>\n",
              "      <td>NaN</td>\n",
              "      <td>2600.0</td>\n",
              "      <td>Intel</td>\n",
              "      <td>0.0</td>\n",
              "      <td>0.0</td>\n",
              "      <td>1.0</td>\n",
              "      <td>0.0</td>\n",
              "      <td>0.0</td>\n",
              "    </tr>\n",
              "    <tr>\n",
              "      <th>3</th>\n",
              "      <td>Intel Xeon E5-2603 v2</td>\n",
              "      <td>CPU</td>\n",
              "      <td>2013-09-01</td>\n",
              "      <td>22.0</td>\n",
              "      <td>80.0</td>\n",
              "      <td>160.0</td>\n",
              "      <td>1400.0</td>\n",
              "      <td>1800.0</td>\n",
              "      <td>Intel</td>\n",
              "      <td>0.0</td>\n",
              "      <td>0.0</td>\n",
              "      <td>1.0</td>\n",
              "      <td>0.0</td>\n",
              "      <td>0.0</td>\n",
              "    </tr>\n",
              "    <tr>\n",
              "      <th>4</th>\n",
              "      <td>AMD Phenom II X4 980 BE</td>\n",
              "      <td>CPU</td>\n",
              "      <td>2011-05-03</td>\n",
              "      <td>45.0</td>\n",
              "      <td>125.0</td>\n",
              "      <td>258.0</td>\n",
              "      <td>758.0</td>\n",
              "      <td>3700.0</td>\n",
              "      <td>Unknown</td>\n",
              "      <td>1.0</td>\n",
              "      <td>0.0</td>\n",
              "      <td>0.0</td>\n",
              "      <td>0.0</td>\n",
              "      <td>0.0</td>\n",
              "    </tr>\n",
              "    <tr>\n",
              "      <th>...</th>\n",
              "      <td>...</td>\n",
              "      <td>...</td>\n",
              "      <td>...</td>\n",
              "      <td>...</td>\n",
              "      <td>...</td>\n",
              "      <td>...</td>\n",
              "      <td>...</td>\n",
              "      <td>...</td>\n",
              "      <td>...</td>\n",
              "      <td>...</td>\n",
              "      <td>...</td>\n",
              "      <td>...</td>\n",
              "      <td>...</td>\n",
              "      <td>...</td>\n",
              "    </tr>\n",
              "    <tr>\n",
              "      <th>4849</th>\n",
              "      <td>NVIDIA Quadro 3000M</td>\n",
              "      <td>GPU</td>\n",
              "      <td>2011-02-22</td>\n",
              "      <td>40.0</td>\n",
              "      <td>75.0</td>\n",
              "      <td>332.0</td>\n",
              "      <td>1950.0</td>\n",
              "      <td>450.0</td>\n",
              "      <td>TSMC</td>\n",
              "      <td>0.0</td>\n",
              "      <td>0.0</td>\n",
              "      <td>0.0</td>\n",
              "      <td>1.0</td>\n",
              "      <td>0.0</td>\n",
              "    </tr>\n",
              "    <tr>\n",
              "      <th>4850</th>\n",
              "      <td>Intel GMA 950</td>\n",
              "      <td>GPU</td>\n",
              "      <td>2005-06-01</td>\n",
              "      <td>90.0</td>\n",
              "      <td>7.0</td>\n",
              "      <td>NaN</td>\n",
              "      <td>NaN</td>\n",
              "      <td>250.0</td>\n",
              "      <td>Intel</td>\n",
              "      <td>0.0</td>\n",
              "      <td>0.0</td>\n",
              "      <td>1.0</td>\n",
              "      <td>0.0</td>\n",
              "      <td>0.0</td>\n",
              "    </tr>\n",
              "    <tr>\n",
              "      <th>4851</th>\n",
              "      <td>NVIDIA GeForce GT 320M</td>\n",
              "      <td>GPU</td>\n",
              "      <td>2010-03-03</td>\n",
              "      <td>40.0</td>\n",
              "      <td>23.0</td>\n",
              "      <td>100.0</td>\n",
              "      <td>486.0</td>\n",
              "      <td>500.0</td>\n",
              "      <td>TSMC</td>\n",
              "      <td>0.0</td>\n",
              "      <td>0.0</td>\n",
              "      <td>0.0</td>\n",
              "      <td>1.0</td>\n",
              "      <td>0.0</td>\n",
              "    </tr>\n",
              "    <tr>\n",
              "      <th>4852</th>\n",
              "      <td>NVIDIA GeForce FX 5200</td>\n",
              "      <td>GPU</td>\n",
              "      <td>2003-03-06</td>\n",
              "      <td>150.0</td>\n",
              "      <td>NaN</td>\n",
              "      <td>65.0</td>\n",
              "      <td>29.0</td>\n",
              "      <td>250.0</td>\n",
              "      <td>TSMC</td>\n",
              "      <td>0.0</td>\n",
              "      <td>0.0</td>\n",
              "      <td>0.0</td>\n",
              "      <td>1.0</td>\n",
              "      <td>0.0</td>\n",
              "    </tr>\n",
              "    <tr>\n",
              "      <th>4853</th>\n",
              "      <td>NVIDIA GeForce 9300 SE</td>\n",
              "      <td>GPU</td>\n",
              "      <td>2008-06-01</td>\n",
              "      <td>65.0</td>\n",
              "      <td>NaN</td>\n",
              "      <td>86.0</td>\n",
              "      <td>210.0</td>\n",
              "      <td>540.0</td>\n",
              "      <td>TSMC</td>\n",
              "      <td>0.0</td>\n",
              "      <td>0.0</td>\n",
              "      <td>0.0</td>\n",
              "      <td>1.0</td>\n",
              "      <td>0.0</td>\n",
              "    </tr>\n",
              "  </tbody>\n",
              "</table>\n",
              "<p>4854 rows × 14 columns</p>\n",
              "</div>"
            ],
            "text/plain": [
              "                      Product Type Release Date  Process Size (nm)  TDP (W)  \\\n",
              "0         AMD Athlon 64 3500+  CPU   2007-02-20               65.0     45.0   \n",
              "1            AMD Athlon 200GE  CPU   2018-09-06               14.0     35.0   \n",
              "2        Intel Core i5-1145G7  CPU   2020-09-02               10.0     28.0   \n",
              "3       Intel Xeon E5-2603 v2  CPU   2013-09-01               22.0     80.0   \n",
              "4     AMD Phenom II X4 980 BE  CPU   2011-05-03               45.0    125.0   \n",
              "...                       ...  ...          ...                ...      ...   \n",
              "4849      NVIDIA Quadro 3000M  GPU   2011-02-22               40.0     75.0   \n",
              "4850            Intel GMA 950  GPU   2005-06-01               90.0      7.0   \n",
              "4851   NVIDIA GeForce GT 320M  GPU   2010-03-03               40.0     23.0   \n",
              "4852   NVIDIA GeForce FX 5200  GPU   2003-03-06              150.0      NaN   \n",
              "4853   NVIDIA GeForce 9300 SE  GPU   2008-06-01               65.0      NaN   \n",
              "\n",
              "      Die Size (mm^2)  Transistors (million)  Freq (MHz)  Foundry  AMD  ATI  \\\n",
              "0                77.0                  122.0      2200.0  Unknown  1.0  0.0   \n",
              "1               192.0                 4800.0      3200.0  Unknown  1.0  0.0   \n",
              "2                 NaN                    NaN      2600.0    Intel  0.0  0.0   \n",
              "3               160.0                 1400.0      1800.0    Intel  0.0  0.0   \n",
              "4               258.0                  758.0      3700.0  Unknown  1.0  0.0   \n",
              "...               ...                    ...         ...      ...  ...  ...   \n",
              "4849            332.0                 1950.0       450.0     TSMC  0.0  0.0   \n",
              "4850              NaN                    NaN       250.0    Intel  0.0  0.0   \n",
              "4851            100.0                  486.0       500.0     TSMC  0.0  0.0   \n",
              "4852             65.0                   29.0       250.0     TSMC  0.0  0.0   \n",
              "4853             86.0                  210.0       540.0     TSMC  0.0  0.0   \n",
              "\n",
              "      Intel  NVIDIA  Other  \n",
              "0       0.0     0.0    0.0  \n",
              "1       0.0     0.0    0.0  \n",
              "2       1.0     0.0    0.0  \n",
              "3       1.0     0.0    0.0  \n",
              "4       0.0     0.0    0.0  \n",
              "...     ...     ...    ...  \n",
              "4849    0.0     1.0    0.0  \n",
              "4850    1.0     0.0    0.0  \n",
              "4851    0.0     1.0    0.0  \n",
              "4852    0.0     1.0    0.0  \n",
              "4853    0.0     1.0    0.0  \n",
              "\n",
              "[4854 rows x 14 columns]"
            ]
          },
          "execution_count": 340,
          "metadata": {},
          "output_type": "execute_result"
        }
      ],
      "source": [
        "encoder = OneHotEncoder()\n",
        "onehot_encoded_df = pd.DataFrame(encoder.fit_transform(df[['Vendor']]).toarray())\n",
        "onehot_encoded_df.columns = vendors\n",
        "\n",
        "onehot_encoded_df = df.join(onehot_encoded_df)\n",
        "onehot_encoded_df.drop('Vendor', axis=1, inplace=True)\n",
        "onehot_encoded_df"
      ]
    },
    {
      "cell_type": "markdown",
      "metadata": {},
      "source": [
        "ii. Estratégia para dados numéricos ausentes - média"
      ]
    },
    {
      "cell_type": "markdown",
      "metadata": {},
      "source": [
        "A atribuição da mediana geral foi utilizada para lidar com os valores nulos das colunas em que existiam, pelos seguintes motivos:\n",
        "\n",
        "*   Número pequeno de colunas, logo a remoção completa de cada coluna em que houvesse valor nulo acarretaria na perda desnecessária de informações\n",
        "*   Facilidade na implementação em comparação com o treinamento de predição e atribuição\n",
        "*   Coesão com o dataset, visto que logo no primeiro quartil a coluna 'Meta_score' apresenta valor próximo à média\n"
      ]
    },
    {
      "cell_type": "markdown",
      "metadata": {},
      "source": [
        "iii. Escalonamento de características: Padronização"
      ]
    },
    {
      "cell_type": "markdown",
      "metadata": {},
      "source": [
        "iv. Pipeline transformadora"
      ]
    },
    {
      "cell_type": "code",
      "execution_count": 341,
      "metadata": {},
      "outputs": [],
      "source": [
        "num_pipeline = Pipeline([\n",
        "        ('imputer', SimpleImputer(strategy=\"mean\")),        \n",
        "        ('std_scaler', StandardScaler()),\n",
        "    ])\n",
        "\n",
        "full_pipeline = ColumnTransformer([\n",
        "        ('num', num_pipeline, num_attribs),\n",
        "        ('cat', OneHotEncoder(), cat_attribs),\n",
        "    ])"
      ]
    },
    {
      "cell_type": "code",
      "execution_count": 342,
      "metadata": {},
      "outputs": [],
      "source": [
        "df_prepared = full_pipeline.fit_transform(df)"
      ]
    }
  ],
  "metadata": {
    "colab": {
      "include_colab_link": true,
      "provenance": []
    },
    "kernelspec": {
      "display_name": "Python 3.10.8 64-bit (microsoft store)",
      "language": "python",
      "name": "python3"
    },
    "language_info": {
      "codemirror_mode": {
        "name": "ipython",
        "version": 3
      },
      "file_extension": ".py",
      "mimetype": "text/x-python",
      "name": "python",
      "nbconvert_exporter": "python",
      "pygments_lexer": "ipython3",
      "version": "3.10.8"
    },
    "vscode": {
      "interpreter": {
        "hash": "1411826be7eae97a21cd32c3ad68577137fa7ead80dc4d38e556535e3b8866d8"
      }
    }
  },
  "nbformat": 4,
  "nbformat_minor": 0
}
