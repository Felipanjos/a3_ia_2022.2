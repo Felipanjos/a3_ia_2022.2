{
  "cells": [
    {
      "cell_type": "markdown",
      "metadata": {
        "colab_type": "text",
        "id": "view-in-github"
      },
      "source": [
        "<a href=\"https://colab.research.google.com/github/Felipanjos/a3_ia_2022.2/blob/main/Projeto_IA.ipynb\" target=\"_parent\"><img src=\"https://colab.research.google.com/assets/colab-badge.svg\" alt=\"Open In Colab\"/></a>"
      ]
    },
    {
      "cell_type": "markdown",
      "metadata": {},
      "source": [
        "### D. Preparação dos dados"
      ]
    },
    {
      "cell_type": "code",
      "execution_count": 9,
      "metadata": {
        "id": "FGHweZQuwPte"
      },
      "outputs": [],
      "source": [
        "import pandas as pd\n",
        "import numpy as np\n",
        "import random\n",
        "import string\n",
        "import sklearn\n",
        "from itertools import groupby"
      ]
    },
    {
      "cell_type": "code",
      "execution_count": 59,
      "metadata": {},
      "outputs": [
        {
          "data": {
            "text/html": [
              "<div>\n",
              "<style scoped>\n",
              "    .dataframe tbody tr th:only-of-type {\n",
              "        vertical-align: middle;\n",
              "    }\n",
              "\n",
              "    .dataframe tbody tr th {\n",
              "        vertical-align: top;\n",
              "    }\n",
              "\n",
              "    .dataframe thead th {\n",
              "        text-align: right;\n",
              "    }\n",
              "</style>\n",
              "<table border=\"1\" class=\"dataframe\">\n",
              "  <thead>\n",
              "    <tr style=\"text-align: right;\">\n",
              "      <th></th>\n",
              "      <th>area</th>\n",
              "      <th>rooms</th>\n",
              "      <th>bathroom</th>\n",
              "      <th>parking spaces</th>\n",
              "      <th>floor</th>\n",
              "      <th>animal</th>\n",
              "      <th>furniture</th>\n",
              "      <th>hoa</th>\n",
              "      <th>rent amount</th>\n",
              "      <th>property tax</th>\n",
              "      <th>fire insurance</th>\n",
              "      <th>total</th>\n",
              "    </tr>\n",
              "  </thead>\n",
              "  <tbody>\n",
              "    <tr>\n",
              "      <th>0</th>\n",
              "      <td>240</td>\n",
              "      <td>3</td>\n",
              "      <td>3</td>\n",
              "      <td>4</td>\n",
              "      <td>-</td>\n",
              "      <td>acept</td>\n",
              "      <td>furnished</td>\n",
              "      <td>R$0</td>\n",
              "      <td>R$8,000</td>\n",
              "      <td>R$1,000</td>\n",
              "      <td>R$121</td>\n",
              "      <td>R$9,121</td>\n",
              "    </tr>\n",
              "    <tr>\n",
              "      <th>1</th>\n",
              "      <td>64</td>\n",
              "      <td>2</td>\n",
              "      <td>1</td>\n",
              "      <td>1</td>\n",
              "      <td>10</td>\n",
              "      <td>acept</td>\n",
              "      <td>not furnished</td>\n",
              "      <td>R$540</td>\n",
              "      <td>R$820</td>\n",
              "      <td>R$122</td>\n",
              "      <td>R$11</td>\n",
              "      <td>R$1,493</td>\n",
              "    </tr>\n",
              "    <tr>\n",
              "      <th>2</th>\n",
              "      <td>443</td>\n",
              "      <td>5</td>\n",
              "      <td>5</td>\n",
              "      <td>4</td>\n",
              "      <td>3</td>\n",
              "      <td>acept</td>\n",
              "      <td>furnished</td>\n",
              "      <td>R$4,172</td>\n",
              "      <td>R$7,000</td>\n",
              "      <td>R$1,417</td>\n",
              "      <td>R$89</td>\n",
              "      <td>R$12,680</td>\n",
              "    </tr>\n",
              "    <tr>\n",
              "      <th>3</th>\n",
              "      <td>73</td>\n",
              "      <td>2</td>\n",
              "      <td>2</td>\n",
              "      <td>1</td>\n",
              "      <td>12</td>\n",
              "      <td>acept</td>\n",
              "      <td>not furnished</td>\n",
              "      <td>R$700</td>\n",
              "      <td>R$1,250</td>\n",
              "      <td>R$150</td>\n",
              "      <td>R$16</td>\n",
              "      <td>R$2,116</td>\n",
              "    </tr>\n",
              "    <tr>\n",
              "      <th>4</th>\n",
              "      <td>19</td>\n",
              "      <td>1</td>\n",
              "      <td>1</td>\n",
              "      <td>0</td>\n",
              "      <td>-</td>\n",
              "      <td>not acept</td>\n",
              "      <td>not furnished</td>\n",
              "      <td>R$0</td>\n",
              "      <td>R$1,200</td>\n",
              "      <td>R$41</td>\n",
              "      <td>R$16</td>\n",
              "      <td>R$1,257</td>\n",
              "    </tr>\n",
              "    <tr>\n",
              "      <th>...</th>\n",
              "      <td>...</td>\n",
              "      <td>...</td>\n",
              "      <td>...</td>\n",
              "      <td>...</td>\n",
              "      <td>...</td>\n",
              "      <td>...</td>\n",
              "      <td>...</td>\n",
              "      <td>...</td>\n",
              "      <td>...</td>\n",
              "      <td>...</td>\n",
              "      <td>...</td>\n",
              "      <td>...</td>\n",
              "    </tr>\n",
              "    <tr>\n",
              "      <th>6075</th>\n",
              "      <td>50</td>\n",
              "      <td>2</td>\n",
              "      <td>1</td>\n",
              "      <td>1</td>\n",
              "      <td>2</td>\n",
              "      <td>acept</td>\n",
              "      <td>not furnished</td>\n",
              "      <td>R$420</td>\n",
              "      <td>R$1,150</td>\n",
              "      <td>R$0</td>\n",
              "      <td>R$15</td>\n",
              "      <td>R$1,585</td>\n",
              "    </tr>\n",
              "    <tr>\n",
              "      <th>6076</th>\n",
              "      <td>84</td>\n",
              "      <td>2</td>\n",
              "      <td>2</td>\n",
              "      <td>1</td>\n",
              "      <td>16</td>\n",
              "      <td>not acept</td>\n",
              "      <td>furnished</td>\n",
              "      <td>R$768</td>\n",
              "      <td>R$2,900</td>\n",
              "      <td>R$63</td>\n",
              "      <td>R$37</td>\n",
              "      <td>R$3,768</td>\n",
              "    </tr>\n",
              "    <tr>\n",
              "      <th>6077</th>\n",
              "      <td>48</td>\n",
              "      <td>1</td>\n",
              "      <td>1</td>\n",
              "      <td>0</td>\n",
              "      <td>13</td>\n",
              "      <td>acept</td>\n",
              "      <td>not furnished</td>\n",
              "      <td>R$250</td>\n",
              "      <td>R$950</td>\n",
              "      <td>R$42</td>\n",
              "      <td>R$13</td>\n",
              "      <td>R$1,255</td>\n",
              "    </tr>\n",
              "    <tr>\n",
              "      <th>6078</th>\n",
              "      <td>160</td>\n",
              "      <td>3</td>\n",
              "      <td>2</td>\n",
              "      <td>2</td>\n",
              "      <td>-</td>\n",
              "      <td>not acept</td>\n",
              "      <td>not furnished</td>\n",
              "      <td>R$0</td>\n",
              "      <td>R$3,500</td>\n",
              "      <td>R$250</td>\n",
              "      <td>R$53</td>\n",
              "      <td>R$3,803</td>\n",
              "    </tr>\n",
              "    <tr>\n",
              "      <th>6079</th>\n",
              "      <td>60</td>\n",
              "      <td>2</td>\n",
              "      <td>1</td>\n",
              "      <td>1</td>\n",
              "      <td>4</td>\n",
              "      <td>acept</td>\n",
              "      <td>furnished</td>\n",
              "      <td>R$489</td>\n",
              "      <td>R$1,900</td>\n",
              "      <td>R$0</td>\n",
              "      <td>R$25</td>\n",
              "      <td>R$2,414</td>\n",
              "    </tr>\n",
              "  </tbody>\n",
              "</table>\n",
              "<p>6080 rows × 12 columns</p>\n",
              "</div>"
            ],
            "text/plain": [
              "      area  rooms  bathroom  parking spaces floor     animal      furniture  \\\n",
              "0      240      3         3               4     -      acept      furnished   \n",
              "1       64      2         1               1    10      acept  not furnished   \n",
              "2      443      5         5               4     3      acept      furnished   \n",
              "3       73      2         2               1    12      acept  not furnished   \n",
              "4       19      1         1               0     -  not acept  not furnished   \n",
              "...    ...    ...       ...             ...   ...        ...            ...   \n",
              "6075    50      2         1               1     2      acept  not furnished   \n",
              "6076    84      2         2               1    16  not acept      furnished   \n",
              "6077    48      1         1               0    13      acept  not furnished   \n",
              "6078   160      3         2               2     -  not acept  not furnished   \n",
              "6079    60      2         1               1     4      acept      furnished   \n",
              "\n",
              "          hoa rent amount property tax fire insurance     total  \n",
              "0         R$0     R$8,000      R$1,000          R$121   R$9,121  \n",
              "1       R$540       R$820        R$122           R$11   R$1,493  \n",
              "2     R$4,172     R$7,000      R$1,417           R$89  R$12,680  \n",
              "3       R$700     R$1,250        R$150           R$16   R$2,116  \n",
              "4         R$0     R$1,200         R$41           R$16   R$1,257  \n",
              "...       ...         ...          ...            ...       ...  \n",
              "6075    R$420     R$1,150          R$0           R$15   R$1,585  \n",
              "6076    R$768     R$2,900         R$63           R$37   R$3,768  \n",
              "6077    R$250       R$950         R$42           R$13   R$1,255  \n",
              "6078      R$0     R$3,500        R$250           R$53   R$3,803  \n",
              "6079    R$489     R$1,900          R$0           R$25   R$2,414  \n",
              "\n",
              "[6080 rows x 12 columns]"
            ]
          },
          "execution_count": 59,
          "metadata": {},
          "output_type": "execute_result"
        }
      ],
      "source": [
        "df = pd.read_csv('houses_to_rent.csv', index_col=[0])\n",
        "df.drop('city', axis=1)"
      ]
    },
    {
      "cell_type": "code",
      "execution_count": 51,
      "metadata": {},
      "outputs": [
        {
          "data": {
            "text/plain": [
              "array(['furnished', 'not furnished'], dtype=object)"
            ]
          },
          "execution_count": 51,
          "metadata": {},
          "output_type": "execute_result"
        }
      ],
      "source": [
        "np.unique(df['furniture'])"
      ]
    },
    {
      "cell_type": "markdown",
      "metadata": {
        "id": "Np4v0J4Lb5p_"
      },
      "source": [
        "##### a) Selecionando 10% das colunas"
      ]
    },
    {
      "cell_type": "markdown",
      "metadata": {},
      "source": [
        "No dataset utilizado existem somente 9 colunas, dessa forma:\n",
        "\n",
        "*    10% de 9 = 0.9\n",
        "*    Aproximando para 1, fica somente uma coluna a ser selecionada como referência para a modificação dos dados\n",
        "\n"
      ]
    },
    {
      "cell_type": "code",
      "execution_count": 69,
      "metadata": {
        "colab": {
          "base_uri": "https://localhost:8080/"
        },
        "id": "5q4KQCWnb8E0",
        "outputId": "9b709cec-a07f-4915-bfa5-26b318191d37"
      },
      "outputs": [
        {
          "data": {
            "text/plain": [
              "'Player'"
            ]
          },
          "execution_count": 69,
          "metadata": {},
          "output_type": "execute_result"
        }
      ],
      "source": [
        "qtd_colunas = len(df.columns)\n",
        "p_colunas = round(qtd_colunas * 10 / 100)\n",
        "coluna_aleatoria = df.sample(n=p_colunas, axis='columns').keys()[0]\n",
        "colunas_numericas = df.describe().columns\n",
        "colunas_categoricas = df.describe(exclude=np.number).columns\n",
        "coluna_aleatoria # escolhendo uma coluna aleatoriamente"
      ]
    },
    {
      "cell_type": "markdown",
      "metadata": {
        "id": "Hkopa3lohtjf"
      },
      "source": [
        "##### a) Selecionando 3% dos dados"
      ]
    },
    {
      "cell_type": "code",
      "execution_count": 71,
      "metadata": {
        "id": "HOtcB92hhvLg"
      },
      "outputs": [
        {
          "data": {
            "text/plain": [
              "13"
            ]
          },
          "execution_count": 71,
          "metadata": {},
          "output_type": "execute_result"
        }
      ],
      "source": [
        "p_3 = int(df.shape[0] * 3 / 100)\n",
        "p_3 # 3% de 1000 é igual a 30"
      ]
    },
    {
      "cell_type": "markdown",
      "metadata": {
        "id": "FQ4KHum3skz7"
      },
      "source": [
        "##### a) Excluindo 3% dos dados aleatoriamente"
      ]
    },
    {
      "cell_type": "code",
      "execution_count": 72,
      "metadata": {
        "id": "gzSYvbRDysNe"
      },
      "outputs": [],
      "source": [
        "reg_nulos = df[df[coluna_aleatoria].isnull()]\n",
        "qtd_reg_nulos = reg_nulos.shape[0]\n",
        "reg_excluidos = df.sample(n=p_3)\n",
        "reg_exc_index = reg_excluidos.index.array\n",
        "df.loc[reg_exc_index, coluna_aleatoria] = np.nan"
      ]
    },
    {
      "cell_type": "code",
      "execution_count": 144,
      "metadata": {},
      "outputs": [
        {
          "name": "stdout",
          "output_type": "stream",
          "text": [
            "<class 'pandas.core.frame.DataFrame'>\n",
            "RangeIndex: 439 entries, 0 to 438\n",
            "Data columns (total 9 columns):\n",
            " #   Column  Non-Null Count  Dtype  \n",
            "---  ------  --------------  -----  \n",
            " 0   Player  426 non-null    object \n",
            " 1   Pos     439 non-null    object \n",
            " 2   Age     439 non-null    int64  \n",
            " 3   Tm      439 non-null    object \n",
            " 4   G       439 non-null    int64  \n",
            " 5   GS      439 non-null    int64  \n",
            " 6   MP      439 non-null    float64\n",
            " 7   FG      439 non-null    float64\n",
            " 8   FGA     439 non-null    float64\n",
            "dtypes: float64(3), int64(3), object(3)\n",
            "memory usage: 31.0+ KB\n"
          ]
        }
      ],
      "source": [
        "df.info()"
      ]
    },
    {
      "cell_type": "markdown",
      "metadata": {
        "id": "Sxh3uWeotHrS"
      },
      "source": [
        "##### a) Alterando 3% dos dados aleatoriamente"
      ]
    },
    {
      "cell_type": "code",
      "execution_count": 73,
      "metadata": {
        "id": "inRW488117mR"
      },
      "outputs": [],
      "source": [
        "def gerar_string_aleatoria():\n",
        "  letters = string.ascii_lowercase\n",
        "  return ''.join(random.choice(letters) for i in range(10)) \n",
        "\n",
        "def gerar_numero_aleatorio():\n",
        "  return random.randint(0, 999)"
      ]
    },
    {
      "cell_type": "code",
      "execution_count": 74,
      "metadata": {
        "id": "yMzmcXenuM7q"
      },
      "outputs": [
        {
          "data": {
            "text/plain": [
              "<PandasArray>\n",
              "[206, 117, 403, 193, 134, 175, 255, 343, 207, 405, 72, 2, 419]\n",
              "Length: 13, dtype: int64"
            ]
          },
          "execution_count": 155,
          "metadata": {},
          "output_type": "execute_result"
        }
      ],
      "source": [
        "df_selecao_nao_nulo = df[~df[coluna_aleatoria].isnull()]\n",
        "reg_alterados = df_selecao_nao_nulo.sample(n=p_3)\n",
        "reg_alter_index = reg_alterados.index.array\n",
        "reg_alter_index"
      ]
    },
    {
      "cell_type": "code",
      "execution_count": 75,
      "metadata": {},
      "outputs": [],
      "source": [
        "if coluna_aleatoria in colunas_numericas:\n",
        "    for index in reg_alter_index:\n",
        "        df.loc[[index],[coluna_aleatoria]] = gerar_numero_aleatorio()\n",
        "else:\n",
        "    for index in reg_alter_index:\n",
        "        df.loc[[index],[coluna_aleatoria]] = gerar_string_aleatoria()"
      ]
    },
    {
      "cell_type": "markdown",
      "metadata": {},
      "source": [
        "#### b) Limpeza dos dados"
      ]
    },
    {
      "cell_type": "markdown",
      "metadata": {},
      "source": [
        "i. Codificação One-Hot"
      ]
    },
    {
      "cell_type": "markdown",
      "metadata": {},
      "source": [
        "pos_encoded.toarray()"
      ]
    },
    {
      "cell_type": "markdown",
      "metadata": {},
      "source": [
        "A atribuição da mediana geral foi utilizada para lidar com os valores nulos das colunas em que existiam, pelos seguintes motivos:\n",
        "\n",
        "*   Número relativamente pequeno de linhas (1000), o que ocasionaria numa maior escassez de dados caso as linhas com valores nulos fossem removidas\n",
        "*   Número pequeno de colunas, logo a remoção completa de cada coluna em que houvesse valor nulo acarretaria na perda desnecessária de informações\n",
        "*   Facilidade na implementação em comparação com o treinamento de predição e atribuição\n",
        "*   Coesão com o dataset, visto que logo no primeiro quartil a coluna 'Meta_score' apresenta valor próximo à média\n",
        "\n",
        "Após implementação da correção, o dataset não conta mais com valores nulos.\n"
      ]
    },
    {
      "cell_type": "code",
      "execution_count": 31,
      "metadata": {},
      "outputs": [
        {
          "data": {
            "text/plain": [
              "Index(['Age', 'G', 'GS', 'MP', 'FG', 'FGA'], dtype='object')"
            ]
          },
          "execution_count": 159,
          "metadata": {},
          "output_type": "execute_result"
        }
      ],
      "source": [
        "from sklearn.pipeline import Pipeline\n",
        "from sklearn.preprocessing import StandardScaler\n",
        "from sklearn.impute import SimpleImputer\n",
        "\n",
        "num_pipeline = Pipeline([\n",
        "        ('imputer', SimpleImputer(strategy=\"mean\")),        \n",
        "        ('std_scaler', StandardScaler()),\n",
        "    ])"
      ]
    },
    {
      "cell_type": "code",
      "execution_count": 34,
      "metadata": {},
      "outputs": [],
      "source": [
        "from sklearn.preprocessing import OneHotEncoder\n",
        "\n",
        "num_attribs = list(df.describe().columns)\n",
        "cat_attribs = [\"Genre\"]"
      ]
    },
    {
      "cell_type": "code",
      "execution_count": 35,
      "metadata": {},
      "outputs": [
        {
          "data": {
            "text/plain": [
              "['IMDB_Rating', 'Meta_score', 'No_of_Votes', 'Gross']"
            ]
          },
          "execution_count": 35,
          "metadata": {},
          "output_type": "execute_result"
        }
      ],
      "source": [
        "num_attribs"
      ]
    },
    {
      "cell_type": "code",
      "execution_count": 36,
      "metadata": {},
      "outputs": [],
      "source": [
        "from sklearn.compose import ColumnTransformer\n",
        "\n",
        "full_pipeline = ColumnTransformer([\n",
        "        (\"num\", num_pipeline, num_attribs),\n",
        "        (\"cat\", OneHotEncoder(), cat_attribs),\n",
        "    ])"
      ]
    },
    {
      "cell_type": "code",
      "execution_count": 37,
      "metadata": {},
      "outputs": [],
      "source": [
        "df_prepared = full_pipeline.fit_transform(df)"
      ]
    }
  ],
  "metadata": {
    "colab": {
      "include_colab_link": true,
      "provenance": []
    },
    "kernelspec": {
      "display_name": "Python 3.10.8 64-bit (microsoft store)",
      "language": "python",
      "name": "python3"
    },
    "language_info": {
      "codemirror_mode": {
        "name": "ipython",
        "version": 3
      },
      "file_extension": ".py",
      "mimetype": "text/x-python",
      "name": "python",
      "nbconvert_exporter": "python",
      "pygments_lexer": "ipython3",
      "version": "3.10.8"
    },
    "vscode": {
      "interpreter": {
        "hash": "1411826be7eae97a21cd32c3ad68577137fa7ead80dc4d38e556535e3b8866d8"
      }
    }
  },
  "nbformat": 4,
  "nbformat_minor": 0
}
