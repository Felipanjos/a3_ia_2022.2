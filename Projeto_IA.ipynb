{
  "cells": [
    {
      "cell_type": "markdown",
      "metadata": {
        "colab_type": "text",
        "id": "view-in-github"
      },
      "source": [
        "<a href=\"https://colab.research.google.com/github/Felipanjos/a3_ia_2022.2/blob/main/Projeto_IA.ipynb\" target=\"_parent\"><img src=\"https://colab.research.google.com/assets/colab-badge.svg\" alt=\"Open In Colab\"/></a>"
      ]
    },
    {
      "cell_type": "code",
      "execution_count": 2,
      "metadata": {
        "id": "FGHweZQuwPte"
      },
      "outputs": [],
      "source": [
        "import pandas as pd\n",
        "import numpy as np\n",
        "from math import ceil, floor\n",
        "import random\n",
        "import string\n"
      ]
    },
    {
      "cell_type": "code",
      "execution_count": 3,
      "metadata": {
        "id": "oAExzSd8wzQM"
      },
      "outputs": [],
      "source": [
        "df = pd.read_csv('imdb_top_1000.csv')"
      ]
    },
    {
      "cell_type": "code",
      "execution_count": 5,
      "metadata": {
        "id": "fgbbPbFJhLe1"
      },
      "outputs": [
        {
          "data": {
            "text/html": [
              "<div>\n",
              "<style scoped>\n",
              "    .dataframe tbody tr th:only-of-type {\n",
              "        vertical-align: middle;\n",
              "    }\n",
              "\n",
              "    .dataframe tbody tr th {\n",
              "        vertical-align: top;\n",
              "    }\n",
              "\n",
              "    .dataframe thead th {\n",
              "        text-align: right;\n",
              "    }\n",
              "</style>\n",
              "<table border=\"1\" class=\"dataframe\">\n",
              "  <thead>\n",
              "    <tr style=\"text-align: right;\">\n",
              "      <th></th>\n",
              "      <th>Series_Title</th>\n",
              "      <th>Released_Year</th>\n",
              "      <th>Runtime</th>\n",
              "      <th>Genre</th>\n",
              "      <th>IMDB_Rating</th>\n",
              "      <th>Meta_score</th>\n",
              "      <th>Director</th>\n",
              "      <th>No_of_Votes</th>\n",
              "      <th>Gross</th>\n",
              "    </tr>\n",
              "  </thead>\n",
              "  <tbody>\n",
              "    <tr>\n",
              "      <th>0</th>\n",
              "      <td>The Shawshank Redemption</td>\n",
              "      <td>1994</td>\n",
              "      <td>142 min</td>\n",
              "      <td>Drama</td>\n",
              "      <td>9.3</td>\n",
              "      <td>80.0</td>\n",
              "      <td>Frank Darabont</td>\n",
              "      <td>2343110</td>\n",
              "      <td>28,341,469</td>\n",
              "    </tr>\n",
              "    <tr>\n",
              "      <th>1</th>\n",
              "      <td>The Godfather</td>\n",
              "      <td>1972</td>\n",
              "      <td>175 min</td>\n",
              "      <td>Crime, Drama</td>\n",
              "      <td>9.2</td>\n",
              "      <td>100.0</td>\n",
              "      <td>Francis Ford Coppola</td>\n",
              "      <td>1620367</td>\n",
              "      <td>134,966,411</td>\n",
              "    </tr>\n",
              "    <tr>\n",
              "      <th>2</th>\n",
              "      <td>The Dark Knight</td>\n",
              "      <td>2008</td>\n",
              "      <td>152 min</td>\n",
              "      <td>Action, Crime, Drama</td>\n",
              "      <td>9.0</td>\n",
              "      <td>84.0</td>\n",
              "      <td>Christopher Nolan</td>\n",
              "      <td>2303232</td>\n",
              "      <td>534,858,444</td>\n",
              "    </tr>\n",
              "    <tr>\n",
              "      <th>3</th>\n",
              "      <td>The Godfather: Part II</td>\n",
              "      <td>1974</td>\n",
              "      <td>202 min</td>\n",
              "      <td>Crime, Drama</td>\n",
              "      <td>9.0</td>\n",
              "      <td>90.0</td>\n",
              "      <td>Francis Ford Coppola</td>\n",
              "      <td>1129952</td>\n",
              "      <td>57,300,000</td>\n",
              "    </tr>\n",
              "    <tr>\n",
              "      <th>4</th>\n",
              "      <td>12 Angry Men</td>\n",
              "      <td>1957</td>\n",
              "      <td>96 min</td>\n",
              "      <td>Crime, Drama</td>\n",
              "      <td>9.0</td>\n",
              "      <td>96.0</td>\n",
              "      <td>Sidney Lumet</td>\n",
              "      <td>689845</td>\n",
              "      <td>4,360,000</td>\n",
              "    </tr>\n",
              "    <tr>\n",
              "      <th>...</th>\n",
              "      <td>...</td>\n",
              "      <td>...</td>\n",
              "      <td>...</td>\n",
              "      <td>...</td>\n",
              "      <td>...</td>\n",
              "      <td>...</td>\n",
              "      <td>...</td>\n",
              "      <td>...</td>\n",
              "      <td>...</td>\n",
              "    </tr>\n",
              "    <tr>\n",
              "      <th>995</th>\n",
              "      <td>Breakfast at Tiffany's</td>\n",
              "      <td>1961</td>\n",
              "      <td>115 min</td>\n",
              "      <td>Comedy, Drama, Romance</td>\n",
              "      <td>7.6</td>\n",
              "      <td>76.0</td>\n",
              "      <td>Blake Edwards</td>\n",
              "      <td>166544</td>\n",
              "      <td>NaN</td>\n",
              "    </tr>\n",
              "    <tr>\n",
              "      <th>996</th>\n",
              "      <td>Giant</td>\n",
              "      <td>1956</td>\n",
              "      <td>201 min</td>\n",
              "      <td>Drama, Western</td>\n",
              "      <td>7.6</td>\n",
              "      <td>84.0</td>\n",
              "      <td>George Stevens</td>\n",
              "      <td>34075</td>\n",
              "      <td>NaN</td>\n",
              "    </tr>\n",
              "    <tr>\n",
              "      <th>997</th>\n",
              "      <td>From Here to Eternity</td>\n",
              "      <td>1953</td>\n",
              "      <td>118 min</td>\n",
              "      <td>Drama, Romance, War</td>\n",
              "      <td>7.6</td>\n",
              "      <td>85.0</td>\n",
              "      <td>Fred Zinnemann</td>\n",
              "      <td>43374</td>\n",
              "      <td>30,500,000</td>\n",
              "    </tr>\n",
              "    <tr>\n",
              "      <th>998</th>\n",
              "      <td>Lifeboat</td>\n",
              "      <td>1944</td>\n",
              "      <td>97 min</td>\n",
              "      <td>Drama, War</td>\n",
              "      <td>7.6</td>\n",
              "      <td>78.0</td>\n",
              "      <td>Alfred Hitchcock</td>\n",
              "      <td>26471</td>\n",
              "      <td>NaN</td>\n",
              "    </tr>\n",
              "    <tr>\n",
              "      <th>999</th>\n",
              "      <td>The 39 Steps</td>\n",
              "      <td>1935</td>\n",
              "      <td>86 min</td>\n",
              "      <td>Crime, Mystery, Thriller</td>\n",
              "      <td>7.6</td>\n",
              "      <td>93.0</td>\n",
              "      <td>Alfred Hitchcock</td>\n",
              "      <td>51853</td>\n",
              "      <td>NaN</td>\n",
              "    </tr>\n",
              "  </tbody>\n",
              "</table>\n",
              "<p>1000 rows × 9 columns</p>\n",
              "</div>"
            ],
            "text/plain": [
              "                 Series_Title Released_Year  Runtime  \\\n",
              "0    The Shawshank Redemption          1994  142 min   \n",
              "1               The Godfather          1972  175 min   \n",
              "2             The Dark Knight          2008  152 min   \n",
              "3      The Godfather: Part II          1974  202 min   \n",
              "4                12 Angry Men          1957   96 min   \n",
              "..                        ...           ...      ...   \n",
              "995    Breakfast at Tiffany's          1961  115 min   \n",
              "996                     Giant          1956  201 min   \n",
              "997     From Here to Eternity          1953  118 min   \n",
              "998                  Lifeboat          1944   97 min   \n",
              "999              The 39 Steps          1935   86 min   \n",
              "\n",
              "                        Genre  IMDB_Rating  Meta_score              Director  \\\n",
              "0                       Drama          9.3        80.0        Frank Darabont   \n",
              "1                Crime, Drama          9.2       100.0  Francis Ford Coppola   \n",
              "2        Action, Crime, Drama          9.0        84.0     Christopher Nolan   \n",
              "3                Crime, Drama          9.0        90.0  Francis Ford Coppola   \n",
              "4                Crime, Drama          9.0        96.0          Sidney Lumet   \n",
              "..                        ...          ...         ...                   ...   \n",
              "995    Comedy, Drama, Romance          7.6        76.0         Blake Edwards   \n",
              "996            Drama, Western          7.6        84.0        George Stevens   \n",
              "997       Drama, Romance, War          7.6        85.0        Fred Zinnemann   \n",
              "998                Drama, War          7.6        78.0      Alfred Hitchcock   \n",
              "999  Crime, Mystery, Thriller          7.6        93.0      Alfred Hitchcock   \n",
              "\n",
              "     No_of_Votes        Gross  \n",
              "0        2343110   28,341,469  \n",
              "1        1620367  134,966,411  \n",
              "2        2303232  534,858,444  \n",
              "3        1129952   57,300,000  \n",
              "4         689845    4,360,000  \n",
              "..           ...          ...  \n",
              "995       166544          NaN  \n",
              "996        34075          NaN  \n",
              "997        43374   30,500,000  \n",
              "998        26471          NaN  \n",
              "999        51853          NaN  \n",
              "\n",
              "[1000 rows x 9 columns]"
            ]
          },
          "execution_count": 5,
          "metadata": {},
          "output_type": "execute_result"
        }
      ],
      "source": [
        "df = df[['Series_Title', 'Released_Year', 'Runtime', 'Genre', 'IMDB_Rating', 'Meta_score', 'Director', 'No_of_Votes', 'Gross']]\n",
        "df"
      ]
    },
    {
      "cell_type": "markdown",
      "metadata": {
        "id": "Np4v0J4Lb5p_"
      },
      "source": [
        "Selecionando 10% Colunas"
      ]
    },
    {
      "cell_type": "code",
      "execution_count": 6,
      "metadata": {
        "colab": {
          "base_uri": "https://localhost:8080/"
        },
        "id": "5q4KQCWnb8E0",
        "outputId": "9b709cec-a07f-4915-bfa5-26b318191d37"
      },
      "outputs": [
        {
          "data": {
            "text/plain": [
              "9"
            ]
          },
          "execution_count": 6,
          "metadata": {},
          "output_type": "execute_result"
        }
      ],
      "source": [
        "qtd_colunas = len(df.columns)\n",
        "qtd_colunas"
      ]
    },
    {
      "cell_type": "code",
      "execution_count": 7,
      "metadata": {
        "colab": {
          "base_uri": "https://localhost:8080/"
        },
        "id": "A8QHpBy6cTb8",
        "outputId": "e4e49d2e-8d01-4978-d1f2-e9a4f9680abd"
      },
      "outputs": [
        {
          "data": {
            "text/plain": [
              "1"
            ]
          },
          "execution_count": 7,
          "metadata": {},
          "output_type": "execute_result"
        }
      ],
      "source": [
        "p_colunas = round(qtd_colunas * 10 / 100)\n",
        "p_colunas"
      ]
    },
    {
      "cell_type": "markdown",
      "metadata": {},
      "source": [
        "No dataset utilizado existem somente 9 colunas, dessa forma:\n",
        "\n",
        "*    10% de 9 = 0.9\n",
        "*    Aproximando para 1, fica somente uma coluna a ser selecionada como referência para a modificação dos dados\n",
        "\n"
      ]
    },
    {
      "cell_type": "code",
      "execution_count": 37,
      "metadata": {
        "id": "y18Dx4BldtHL"
      },
      "outputs": [
        {
          "data": {
            "text/plain": [
              "'Gross'"
            ]
          },
          "execution_count": 37,
          "metadata": {},
          "output_type": "execute_result"
        }
      ],
      "source": [
        "coluna_aleatoria = df.sample(n=p_colunas, axis='columns').keys()[0]\n",
        "coluna_aleatoria"
      ]
    },
    {
      "cell_type": "markdown",
      "metadata": {
        "id": "Hkopa3lohtjf"
      },
      "source": [
        "### Selecionando 3% dos dados"
      ]
    },
    {
      "cell_type": "code",
      "execution_count": 15,
      "metadata": {
        "id": "HOtcB92hhvLg"
      },
      "outputs": [
        {
          "data": {
            "text/plain": [
              "30"
            ]
          },
          "execution_count": 15,
          "metadata": {},
          "output_type": "execute_result"
        }
      ],
      "source": [
        "p_3 = int(df.shape[0] * 3 / 100)\n",
        "p_3"
      ]
    },
    {
      "cell_type": "markdown",
      "metadata": {
        "id": "FQ4KHum3skz7"
      },
      "source": [
        "Excluindo Registros"
      ]
    },
    {
      "cell_type": "code",
      "execution_count": 38,
      "metadata": {
        "id": "gzSYvbRDysNe"
      },
      "outputs": [
        {
          "data": {
            "text/html": [
              "<div>\n",
              "<style scoped>\n",
              "    .dataframe tbody tr th:only-of-type {\n",
              "        vertical-align: middle;\n",
              "    }\n",
              "\n",
              "    .dataframe tbody tr th {\n",
              "        vertical-align: top;\n",
              "    }\n",
              "\n",
              "    .dataframe thead th {\n",
              "        text-align: right;\n",
              "    }\n",
              "</style>\n",
              "<table border=\"1\" class=\"dataframe\">\n",
              "  <thead>\n",
              "    <tr style=\"text-align: right;\">\n",
              "      <th></th>\n",
              "      <th>Series_Title</th>\n",
              "      <th>Released_Year</th>\n",
              "      <th>Runtime</th>\n",
              "      <th>Genre</th>\n",
              "      <th>IMDB_Rating</th>\n",
              "      <th>Meta_score</th>\n",
              "      <th>Director</th>\n",
              "      <th>No_of_Votes</th>\n",
              "      <th>Gross</th>\n",
              "    </tr>\n",
              "  </thead>\n",
              "  <tbody>\n",
              "    <tr>\n",
              "      <th>18</th>\n",
              "      <td>Hamilton</td>\n",
              "      <td>2020</td>\n",
              "      <td>160 min</td>\n",
              "      <td>Biography, Drama, History</td>\n",
              "      <td>8.6</td>\n",
              "      <td>90.0</td>\n",
              "      <td>Thomas Kail</td>\n",
              "      <td>55291</td>\n",
              "      <td>NaN</td>\n",
              "    </tr>\n",
              "    <tr>\n",
              "      <th>20</th>\n",
              "      <td>Soorarai Pottru</td>\n",
              "      <td>2020</td>\n",
              "      <td>153 min</td>\n",
              "      <td>Drama</td>\n",
              "      <td>8.6</td>\n",
              "      <td>NaN</td>\n",
              "      <td>Sudha Kongara</td>\n",
              "      <td>54995</td>\n",
              "      <td>NaN</td>\n",
              "    </tr>\n",
              "    <tr>\n",
              "      <th>30</th>\n",
              "      <td>Seppuku</td>\n",
              "      <td>1962</td>\n",
              "      <td>133 min</td>\n",
              "      <td>Action, Drama, Mystery</td>\n",
              "      <td>8.6</td>\n",
              "      <td>85.0</td>\n",
              "      <td>Masaki Kobayashi</td>\n",
              "      <td>42004</td>\n",
              "      <td>NaN</td>\n",
              "    </tr>\n",
              "    <tr>\n",
              "      <th>32</th>\n",
              "      <td>It's a Wonderful Life</td>\n",
              "      <td>1946</td>\n",
              "      <td>130 min</td>\n",
              "      <td>Drama, Family, Fantasy</td>\n",
              "      <td>8.6</td>\n",
              "      <td>89.0</td>\n",
              "      <td>Frank Capra</td>\n",
              "      <td>405801</td>\n",
              "      <td>NaN</td>\n",
              "    </tr>\n",
              "    <tr>\n",
              "      <th>46</th>\n",
              "      <td>Hotaru no haka</td>\n",
              "      <td>1988</td>\n",
              "      <td>89 min</td>\n",
              "      <td>Animation, Drama, War</td>\n",
              "      <td>8.5</td>\n",
              "      <td>94.0</td>\n",
              "      <td>Isao Takahata</td>\n",
              "      <td>235231</td>\n",
              "      <td>NaN</td>\n",
              "    </tr>\n",
              "    <tr>\n",
              "      <th>...</th>\n",
              "      <td>...</td>\n",
              "      <td>...</td>\n",
              "      <td>...</td>\n",
              "      <td>...</td>\n",
              "      <td>...</td>\n",
              "      <td>...</td>\n",
              "      <td>...</td>\n",
              "      <td>...</td>\n",
              "      <td>...</td>\n",
              "    </tr>\n",
              "    <tr>\n",
              "      <th>993</th>\n",
              "      <td>Blowup</td>\n",
              "      <td>1966</td>\n",
              "      <td>111 min</td>\n",
              "      <td>Drama, Mystery, Thriller</td>\n",
              "      <td>7.6</td>\n",
              "      <td>82.0</td>\n",
              "      <td>Michelangelo Antonioni</td>\n",
              "      <td>56513</td>\n",
              "      <td>NaN</td>\n",
              "    </tr>\n",
              "    <tr>\n",
              "      <th>995</th>\n",
              "      <td>Breakfast at Tiffany's</td>\n",
              "      <td>1961</td>\n",
              "      <td>115 min</td>\n",
              "      <td>Comedy, Drama, Romance</td>\n",
              "      <td>7.6</td>\n",
              "      <td>76.0</td>\n",
              "      <td>Blake Edwards</td>\n",
              "      <td>166544</td>\n",
              "      <td>NaN</td>\n",
              "    </tr>\n",
              "    <tr>\n",
              "      <th>996</th>\n",
              "      <td>Giant</td>\n",
              "      <td>1956</td>\n",
              "      <td>201 min</td>\n",
              "      <td>Drama, Western</td>\n",
              "      <td>7.6</td>\n",
              "      <td>84.0</td>\n",
              "      <td>George Stevens</td>\n",
              "      <td>34075</td>\n",
              "      <td>NaN</td>\n",
              "    </tr>\n",
              "    <tr>\n",
              "      <th>998</th>\n",
              "      <td>Lifeboat</td>\n",
              "      <td>1944</td>\n",
              "      <td>97 min</td>\n",
              "      <td>Drama, War</td>\n",
              "      <td>7.6</td>\n",
              "      <td>78.0</td>\n",
              "      <td>Alfred Hitchcock</td>\n",
              "      <td>26471</td>\n",
              "      <td>NaN</td>\n",
              "    </tr>\n",
              "    <tr>\n",
              "      <th>999</th>\n",
              "      <td>The 39 Steps</td>\n",
              "      <td>1935</td>\n",
              "      <td>86 min</td>\n",
              "      <td>Crime, Mystery, Thriller</td>\n",
              "      <td>7.6</td>\n",
              "      <td>93.0</td>\n",
              "      <td>Alfred Hitchcock</td>\n",
              "      <td>51853</td>\n",
              "      <td>NaN</td>\n",
              "    </tr>\n",
              "  </tbody>\n",
              "</table>\n",
              "<p>169 rows × 9 columns</p>\n",
              "</div>"
            ],
            "text/plain": [
              "               Series_Title Released_Year  Runtime                      Genre  \\\n",
              "18                 Hamilton          2020  160 min  Biography, Drama, History   \n",
              "20          Soorarai Pottru          2020  153 min                      Drama   \n",
              "30                  Seppuku          1962  133 min     Action, Drama, Mystery   \n",
              "32    It's a Wonderful Life          1946  130 min     Drama, Family, Fantasy   \n",
              "46           Hotaru no haka          1988   89 min      Animation, Drama, War   \n",
              "..                      ...           ...      ...                        ...   \n",
              "993                  Blowup          1966  111 min   Drama, Mystery, Thriller   \n",
              "995  Breakfast at Tiffany's          1961  115 min     Comedy, Drama, Romance   \n",
              "996                   Giant          1956  201 min             Drama, Western   \n",
              "998                Lifeboat          1944   97 min                 Drama, War   \n",
              "999            The 39 Steps          1935   86 min   Crime, Mystery, Thriller   \n",
              "\n",
              "     IMDB_Rating  Meta_score                Director  No_of_Votes Gross  \n",
              "18           8.6        90.0             Thomas Kail        55291   NaN  \n",
              "20           8.6         NaN           Sudha Kongara        54995   NaN  \n",
              "30           8.6        85.0        Masaki Kobayashi        42004   NaN  \n",
              "32           8.6        89.0             Frank Capra       405801   NaN  \n",
              "46           8.5        94.0           Isao Takahata       235231   NaN  \n",
              "..           ...         ...                     ...          ...   ...  \n",
              "993          7.6        82.0  Michelangelo Antonioni        56513   NaN  \n",
              "995          7.6        76.0           Blake Edwards       166544   NaN  \n",
              "996          7.6        84.0          George Stevens        34075   NaN  \n",
              "998          7.6        78.0        Alfred Hitchcock        26471   NaN  \n",
              "999          7.6        93.0        Alfred Hitchcock        51853   NaN  \n",
              "\n",
              "[169 rows x 9 columns]"
            ]
          },
          "execution_count": 38,
          "metadata": {},
          "output_type": "execute_result"
        }
      ],
      "source": [
        "reg_nulos = df[df[coluna_aleatoria].isnull()]\n",
        "reg_nulos"
      ]
    },
    {
      "cell_type": "code",
      "execution_count": 39,
      "metadata": {
        "id": "Srq9Yf7Dy5Ga"
      },
      "outputs": [],
      "source": [
        "qtd_reg_nulos = reg_nulos.shape[0]"
      ]
    },
    {
      "cell_type": "code",
      "execution_count": 40,
      "metadata": {
        "colab": {
          "base_uri": "https://localhost:8080/"
        },
        "id": "-VxTqoKH0C1g",
        "outputId": "7aff5a9a-9699-4872-a6e3-53a8a51d1df0"
      },
      "outputs": [
        {
          "data": {
            "text/plain": [
              "169"
            ]
          },
          "execution_count": 40,
          "metadata": {},
          "output_type": "execute_result"
        }
      ],
      "source": [
        "qtd_reg_nulos"
      ]
    },
    {
      "cell_type": "code",
      "execution_count": null,
      "metadata": {
        "id": "Itj4vJQGzarR"
      },
      "outputs": [],
      "source": [
        "if(qtd_reg_nulos < p_3):\n",
        "  qtd_sel = p_3 - qtd_reg_nulos \n",
        "  reg_excluidos = df.sample(n=qtd_sel)\n",
        "  reg_exc_index = reg_excluidos.index.array\n",
        "  df.loc[reg_exc_index, coluna_aleatoria] = np.nan"
      ]
    },
    {
      "cell_type": "markdown",
      "metadata": {
        "id": "Sxh3uWeotHrS"
      },
      "source": [
        "Alterando Registros"
      ]
    },
    {
      "cell_type": "code",
      "execution_count": null,
      "metadata": {
        "id": "inRW488117mR"
      },
      "outputs": [],
      "source": [
        "def gerar_string_aleatoria():\n",
        "  letters = string.ascii_lowercase\n",
        "  return ''.join(random.choice(letters) for i in range(10)) "
      ]
    },
    {
      "cell_type": "code",
      "execution_count": null,
      "metadata": {
        "id": "yMzmcXenuM7q"
      },
      "outputs": [],
      "source": [
        "df_selecao_nao_nulo = df[~df[coluna_aleatoria].isnull()]"
      ]
    },
    {
      "cell_type": "code",
      "execution_count": null,
      "metadata": {
        "id": "Sdt_vzErtJHh"
      },
      "outputs": [],
      "source": [
        "reg_alterados = df_selecao_nao_nulo.sample(n=p_3)"
      ]
    },
    {
      "cell_type": "code",
      "execution_count": null,
      "metadata": {
        "id": "vDgV5IEntRSx"
      },
      "outputs": [],
      "source": [
        "reg_alter_index = reg_alterados.index.array"
      ]
    },
    {
      "cell_type": "code",
      "execution_count": null,
      "metadata": {
        "colab": {
          "base_uri": "https://localhost:8080/"
        },
        "id": "z58gXZjY1l8s",
        "outputId": "cc119db6-f734-4579-e757-6afae13e4205"
      },
      "outputs": [
        {
          "data": {
            "text/plain": [
              "<PandasArray>\n",
              "[729, 686,  40, 796, 784, 304, 436, 974, 853, 873,  35, 311, 537, 545, 604,\n",
              "  86, 482, 820,  23, 312, 611, 957, 509,  51, 348, 622, 835, 531, 973, 457]\n",
              "Length: 30, dtype: int64"
            ]
          },
          "execution_count": 47,
          "metadata": {},
          "output_type": "execute_result"
        }
      ],
      "source": [
        "reg_alter_index"
      ]
    },
    {
      "cell_type": "code",
      "execution_count": null,
      "metadata": {
        "colab": {
          "base_uri": "https://localhost:8080/"
        },
        "id": "BAOLU3RJ4hMV",
        "outputId": "7403310f-aef4-488c-fd7f-8ffeac8216ee"
      },
      "outputs": [
        {
          "data": {
            "text/plain": [
              "0      2343110\n",
              "1      1620367\n",
              "2      2303232\n",
              "3      1129952\n",
              "4       689845\n",
              "        ...   \n",
              "995     166544\n",
              "996      34075\n",
              "997      43374\n",
              "998      26471\n",
              "999      51853\n",
              "Name: No_of_Votes, Length: 1000, dtype: int64"
            ]
          },
          "execution_count": 63,
          "metadata": {},
          "output_type": "execute_result"
        }
      ],
      "source": [
        "df['No_of_Votes']"
      ]
    },
    {
      "cell_type": "code",
      "execution_count": 41,
      "metadata": {
        "colab": {
          "base_uri": "https://localhost:8080/",
          "height": 165
        },
        "id": "eN8dvYsP3cCg",
        "outputId": "22674f27-4e12-4594-af95-12aba2b6ec29"
      },
      "outputs": [],
      "source": [
        "tipo_coluna = type(df['No_of_Votes'])"
      ]
    },
    {
      "cell_type": "code",
      "execution_count": null,
      "metadata": {
        "colab": {
          "base_uri": "https://localhost:8080/"
        },
        "id": "j5PQY43R3rQG",
        "outputId": "cdbf1226-825c-4f8a-8190-bc58d4ea8893"
      },
      "outputs": [
        {
          "name": "stdout",
          "output_type": "stream",
          "text": [
            "<class 'pandas.core.frame.DataFrame'>\n",
            "RangeIndex: 1000 entries, 0 to 999\n",
            "Data columns (total 9 columns):\n",
            " #   Column         Non-Null Count  Dtype  \n",
            "---  ------         --------------  -----  \n",
            " 0   Series_Title   1000 non-null   object \n",
            " 1   Released_Year  1000 non-null   object \n",
            " 2   Runtime        1000 non-null   object \n",
            " 3   Genre          1000 non-null   object \n",
            " 4   IMDB_Rating    1000 non-null   float64\n",
            " 5   Meta_score     843 non-null    float64\n",
            " 6   Director       1000 non-null   object \n",
            " 7   No_of_Votes    1000 non-null   int64  \n",
            " 8   Gross          831 non-null    object \n",
            "dtypes: float64(2), int64(1), object(6)\n",
            "memory usage: 70.4+ KB\n"
          ]
        }
      ],
      "source": [
        "df.info()"
      ]
    },
    {
      "cell_type": "code",
      "execution_count": null,
      "metadata": {
        "colab": {
          "base_uri": "https://localhost:8080/"
        },
        "id": "AP7bLR9y3i6V",
        "outputId": "1297985e-e9a8-491e-97b5-de907847328f"
      },
      "outputs": [
        {
          "data": {
            "text/plain": [
              "pandas.core.series.Series"
            ]
          },
          "execution_count": 61,
          "metadata": {},
          "output_type": "execute_result"
        }
      ],
      "source": [
        "tipo_coluna"
      ]
    },
    {
      "cell_type": "code",
      "execution_count": null,
      "metadata": {
        "id": "Cf8wunOv1yim"
      },
      "outputs": [],
      "source": [
        "for index in reg_alter_index:\n",
        "  df.loc[index, coluna_aleatoria] = "
      ]
    },
    {
      "cell_type": "code",
      "execution_count": null,
      "metadata": {
        "id": "WbymYR0kvhFJ"
      },
      "outputs": [],
      "source": [
        "df.loc[reg_exc_index, coluna_aleatoria] = map()"
      ]
    }
  ],
  "metadata": {
    "colab": {
      "include_colab_link": true,
      "provenance": []
    },
    "kernelspec": {
      "display_name": "Python 3.10.8 64-bit (microsoft store)",
      "language": "python",
      "name": "python3"
    },
    "language_info": {
      "codemirror_mode": {
        "name": "ipython",
        "version": 3
      },
      "file_extension": ".py",
      "mimetype": "text/x-python",
      "name": "python",
      "nbconvert_exporter": "python",
      "pygments_lexer": "ipython3",
      "version": "3.10.8"
    },
    "vscode": {
      "interpreter": {
        "hash": "1411826be7eae97a21cd32c3ad68577137fa7ead80dc4d38e556535e3b8866d8"
      }
    }
  },
  "nbformat": 4,
  "nbformat_minor": 0
}
