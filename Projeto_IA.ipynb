{
  "cells": [
    {
      "cell_type": "markdown",
      "metadata": {
        "id": "view-in-github"
      },
      "source": [
        "<a href=\"https://colab.research.google.com/github/Felipanjos/a3_ia_2022.2/blob/main/Projeto_IA.ipynb\" target=\"_parent\"><img src=\"https://colab.research.google.com/assets/colab-badge.svg\" alt=\"Open In Colab\"/></a>"
      ]
    },
    {
      "cell_type": "markdown",
      "metadata": {
        "id": "ncWuQ3z3FdV_"
      },
      "source": [
        "# 2.2 Requisitos da Análise do problema\n",
        "\n",
        "### A. Entendimento do Problema:\n",
        "\n",
        "#### a. Especificação do objetivo geral e dos objetivos específicos"
      ]
    },
    {
      "cell_type": "markdown",
      "metadata": {
        "id": "c6MWROvBF-ap"
      },
      "source": [
        "Para esse projeto utilizamos os conhecimentos adquiridos ao longo da nossa disciplina, para criar uma Maquina Preditiva com o objetivo de estimar quantos transistores existem em um determinado CPU. Sabemos que mais transistores em nossa CPU significa mais paralelismo para as tarefas do mesmo, permitindo que essas tarefas sejam finalizadas mais rapidamente. Historicamente vimos que os processadores se tornaram cada vez mais poderosos e junto a isso podemos perceber que o numero de transistores aumentou significativamente. "
      ]
    },
    {
      "cell_type": "markdown",
      "metadata": {
        "id": "xDwKeasUGJKG"
      },
      "source": [
        "## B. Enquadramento do Problema:\n",
        "\n",
        "### a. Especificação do tipo de problema: Quanto à Supervisão, Quanto à Tarefa, Quanto ao Modo;\n",
        "\n",
        "Para esse projeto utilizamos os conhecimentos adquiridos ao longo da nossa disciplina, para criar uma Maquina Preditiva com o objetivo de estimar quantos transistores existem em um determinado CPU. Sabemos que mais transistores em nossa CPU significa mais paralelismo para as tarefas do mesmo, permitindo que essas tarefas sejam finalizadas mais rapidamente. Historicamente vimos que os processadores se tornaram cada vez mais poderosos e junto a isso podemos perceber que o numero de transistores aumentou significativamente.\n"
      ]
    },
    {
      "cell_type": "markdown",
      "metadata": {
        "id": "rgqKC5yoG1Ce"
      },
      "source": [
        "b. Especificação das Medidas de Desempenho (para Classificação ou Regressão)\n"
      ]
    },
    {
      "cell_type": "markdown",
      "metadata": {
        "id": "qz1wI7ngHDsi"
      },
      "source": [
        "Como metódos de desempenho, os principais utilizados no nosso projeto, se tratam de acurácia para a Classicação e erro quadrático médio para Regressão, esses metódos, são extremamente importantes, pois é através deles que é possível observar o quão precisas estão sendo as predições realizadas pela máquina, por serem duas formas diferentes de Aprendizado de máquina supervisionado, cada um possui seu próprio método de desempenho, para a classificação usaremos o principal citado anteriormente, acurácia, se trata de um indicador da performance geral do modelo, contando quantas classificações foram feitas corretamente, para ser calculado, se torna necessário utilizar a Matriz de confusão, identificando os verdadeiros positivos, falso negativos, falso positivos e verdadeiros negativos, através desses dados é possível montar a Matriz e utilizar a formúla VP+VN/VP+VN+FP+FN para assim medir a acurácia do modelo, já para a regressão utilizaremos o erro quadrático médio, esse método carrega como objetivo encontrar a diferença dos valores iniciais com os valores preditos, quanto mais alta a diferença, maior o problema do modelo, pois os valores encontrados não estão sendo precisos, essa média é calculada através da diferença do valor predito para o valor real, o resultado é elevado ao quadrado, fazendo isso para todos os pontos, como já dito, quanto maior o resultado, mais pobre estão sendo as predições."
      ]
    },
    {
      "cell_type": "markdown",
      "metadata": {
        "id": "QLJ9FLBFGxjZ"
      },
      "source": [
        "# 2.3 Requisitos da Análise de Dados:"
      ]
    },
    {
      "cell_type": "code",
      "execution_count": null,
      "metadata": {
        "id": "2XXjlJX0HHo0"
      },
      "outputs": [],
      "source": [
        "import pandas as pd\n",
        "import numpy as np\n",
        "import random\n",
        "import string\n",
        "import sklearn\n",
        "from itertools import groupby\n",
        "\n",
        "from sklearn.model_selection import StratifiedShuffleSplit\n",
        "from sklearn.pipeline import Pipeline\n",
        "from sklearn.preprocessing import StandardScaler\n",
        "from sklearn.impute import SimpleImputer\n",
        "from sklearn.preprocessing import OneHotEncoder\n",
        "from sklearn.compose import ColumnTransformer\n",
        "from sklearn.linear_model import LinearRegression\n",
        "from sklearn.metrics import mean_squared_error\n",
        "import matplotlib.pyplot as plt\n",
        "import seaborn as sns\n",
        "import statistics as sts"
      ]
    },
    {
      "cell_type": "code",
      "execution_count": null,
      "metadata": {
        "id": "LZwJ8zk9HIe7"
      },
      "outputs": [],
      "source": [
        "df = pd.read_csv('chip_dataset.csv', index_col=[0])\n",
        "df.drop('FP16 GFLOPS', axis=1, inplace=True)\n",
        "df.drop('FP32 GFLOPS', axis=1, inplace=True)\n",
        "df.drop('FP64 GFLOPS', axis=1, inplace=True)\n",
        "vendors = list(np.unique(df['Vendor']))"
      ]
    },
    {
      "cell_type": "code",
      "execution_count": null,
      "metadata": {
        "id": "6liMrvbjHKX2"
      },
      "outputs": [],
      "source": [
        "num_attribs = list(df.describe().columns)\n",
        "cat_attribs = ['Vendor']"
      ]
    },
    {
      "cell_type": "code",
      "execution_count": null,
      "metadata": {
        "colab": {
          "base_uri": "https://localhost:8080/",
          "height": 354
        },
        "id": "YjZM9w28LzSi",
        "outputId": "c2dcfd0f-6b5b-49d5-86b7-d2268afe68f6"
      },
      "outputs": [],
      "source": [
        "df.head()"
      ]
    },
    {
      "cell_type": "markdown",
      "metadata": {
        "id": "2ir8zdIxEjBH"
      },
      "source": [
        "### B. Divisão"
      ]
    },
    {
      "cell_type": "markdown",
      "metadata": {
        "id": "fTMDwpmbEjBH"
      },
      "source": [
        "##### a) Amostragem estratificada em Conjunto de Treinamento e Conjunto de Teste"
      ]
    },
    {
      "cell_type": "code",
      "execution_count": null,
      "metadata": {
        "id": "VkTNGCenEjBI"
      },
      "outputs": [],
      "source": [
        "df.dropna(inplace=True)\n",
        "df.reset_index(drop=True, inplace=True)"
      ]
    },
    {
      "cell_type": "code",
      "execution_count": null,
      "metadata": {
        "id": "0HFNwq6xEjBI"
      },
      "outputs": [],
      "source": [
        "ranges = [0, df['Transistors (million)'].describe()['25%'], 500, 1000, 2000, 6000, 15000, 30000, np.inf]\n",
        "tiers = ['F', 'E', 'D', 'C', 'B', 'A', 'S', 'S+']\n",
        "\n",
        "df['Rank'] = pd.cut(df['Transistors (million)'], bins = ranges, labels = tiers)"
      ]
    },
    {
      "cell_type": "code",
      "execution_count": null,
      "metadata": {
        "id": "wBz8NnYLEjBJ"
      },
      "outputs": [],
      "source": [
        "splitter = StratifiedShuffleSplit(n_splits=1, test_size=0.2, random_state=42)\n",
        "for train_index, test_index in splitter.split(df, df['Rank']):\n",
        "  strat_train_set = df.loc[train_index]\n",
        "  strat_test_set = df.loc[test_index]"
      ]
    },
    {
      "cell_type": "code",
      "execution_count": null,
      "metadata": {
        "id": "FW08iGYuEjBJ"
      },
      "outputs": [],
      "source": [
        "def amostragem_estratificada(test_set):\n",
        "    return (test_set['Rank'].value_counts() / len(test_set))*100    "
      ]
    },
    {
      "cell_type": "code",
      "execution_count": null,
      "metadata": {
        "colab": {
          "base_uri": "https://localhost:8080/"
        },
        "id": "XMr9NMW1EjBK",
        "outputId": "4d63e9d8-c7a7-4032-d099-0dc605c44980"
      },
      "outputs": [],
      "source": [
        "amostragem_estratificada(strat_test_set)"
      ]
    },
    {
      "cell_type": "code",
      "execution_count": null,
      "metadata": {
        "id": "3Fn-4pWCEjBK"
      },
      "outputs": [],
      "source": [
        "strat_train_set.drop(columns=['Rank'], inplace=True)\n",
        "strat_test_set.drop(columns=['Rank'], inplace=True)\n",
        "cpu = strat_train_set.drop('Transistors (million)', axis=1)"
      ]
    },
    {
      "cell_type": "markdown",
      "metadata": {
        "id": "t7w4NwGZEjBK"
      },
      "source": [
        "### C. Exploração "
      ]
    },
    {
      "cell_type": "markdown",
      "metadata": {
        "id": "BlI0xflyEjBK"
      },
      "source": [
        "##### a) Visualização dos Dados com gráficos de dispersão e histograma"
      ]
    },
    {
      "cell_type": "code",
      "execution_count": null,
      "metadata": {
        "id": "Ai7EEW6aEjBL"
      },
      "outputs": [],
      "source": [
        "df['Release Date'] = pd.to_datetime(df['Release Date'])"
      ]
    },
    {
      "cell_type": "code",
      "execution_count": null,
      "metadata": {
        "colab": {
          "base_uri": "https://localhost:8080/",
          "height": 500
        },
        "id": "iNAZnEUQEjBL",
        "outputId": "db4fb2c6-9df2-4285-e869-45e85459f058"
      },
      "outputs": [],
      "source": [
        "# ampliar escala \n",
        "strat_test_set['Transistors (million)'].hist(figsize=(10, 8))"
      ]
    },
    {
      "cell_type": "code",
      "execution_count": null,
      "metadata": {
        "id": "fDyOArQ0EjBL"
      },
      "outputs": [],
      "source": [
        "strat_train_set['Transistors (million)'].hist()"
      ]
    },
    {
      "cell_type": "code",
      "execution_count": null,
      "metadata": {
        "id": "yJ56__vgEjBL"
      },
      "outputs": [],
      "source": [
        "df.plot(kind='scatter', x='Release Date', y='Transistors (million)')"
      ]
    },
    {
      "cell_type": "markdown",
      "metadata": {
        "id": "cLb3iA6nEjBL"
      },
      "source": [
        "##### b. Levantamento de hipóteses sobre as distribuições dos dados\n"
      ]
    },
    {
      "cell_type": "markdown",
      "metadata": {
        "id": "x7Lku_fJEjBL"
      },
      "source": [
        "##### c. Busca de correlações (Coeficientes de correlação)"
      ]
    },
    {
      "cell_type": "markdown",
      "metadata": {
        "id": "j1ZpMLoKHnfn"
      },
      "source": [
        "Nesta abordagem inicial do projeto, buscamos conectar o número de transistores com o sua Potência térmica máxima (TDP)  e o tamanho de sua matriz (Die size) devido a  avaliação positiva dos coeficientes de relação e a sua lógica primordial, quanto mais transistores normalmente é apresentada uma TDP mais elevada e uma matriz maior."
      ]
    },
    {
      "cell_type": "code",
      "execution_count": null,
      "metadata": {
        "id": "u1JZwfVIEjBM"
      },
      "outputs": [],
      "source": [
        "df['Release Date'] = pd.to_numeric(df['Release Date'])"
      ]
    },
    {
      "cell_type": "markdown",
      "metadata": {
        "id": "v3Y7UxPQEjBM"
      },
      "source": [
        "##### Basearemos a análise das valueelações na coluna Transistors (million), que é o nosso objeto de predição"
      ]
    },
    {
      "cell_type": "code",
      "execution_count": null,
      "metadata": {
        "id": "g5k4SvG3EjBM",
        "outputId": "7bbd43b1-4de2-49e6-f022-34e83f0da938"
      },
      "outputs": [],
      "source": [
        "for value in df.corr()['Transistors (million)']:\n",
        "    print(value)"
      ]
    },
    {
      "cell_type": "code",
      "execution_count": null,
      "metadata": {
        "id": "0fKIaxc3EjBM",
        "outputId": "73fbcd76-a6ae-4a2c-bf2d-6826aa966d54"
      },
      "outputs": [],
      "source": [
        "colunas_para_calculo = ['Release Date'] + num_attribs\n",
        "print('Coeficiente de correlação de Pearson entre a coluna Transistors (million) e:')\n",
        "\n",
        "coor_dict = {}\n",
        "r_list = []\n",
        "\n",
        "for value in df.corr()['Transistors (million)']:\n",
        "    if value == 1:\n",
        "        r = 'relação linear perfeita e positiva'\n",
        "    elif value == 0:\n",
        "        r = 'inexistência linear'\n",
        "    elif value == -1:\n",
        "        r = 'relação linear perfeita e negativa'\n",
        "    elif value > 0:\n",
        "        r = 'relação linear positiva'\n",
        "    elif value < 0:\n",
        "        r = 'relação linear negativa'\n",
        "\n",
        "    r_list.append(r)\n",
        "\n",
        "print(df.corr(method='pearson', min_periods=1)['Transistors (million)'], '\\n')\n",
        "\n",
        "count = 0\n",
        "for col in colunas_para_calculo: \n",
        "    coor_dict[col] = r_list[count]\n",
        "    print(f'{col}: {coor_dict[col]}')\n",
        "    count += 1\n"
      ]
    },
    {
      "cell_type": "markdown",
      "metadata": {
        "id": "YOGuJnsHEjBN"
      },
      "source": [
        "### D. Preparação"
      ]
    },
    {
      "cell_type": "markdown",
      "metadata": {
        "id": "Np4v0J4Lb5p_"
      },
      "source": [
        "##### a) Selecionando 10% das colunas"
      ]
    },
    {
      "cell_type": "code",
      "execution_count": null,
      "metadata": {
        "colab": {
          "base_uri": "https://localhost:8080/",
          "height": 35
        },
        "id": "5q4KQCWnb8E0",
        "outputId": "7fa93436-e9e3-4352-87ae-11928ae39ae0"
      },
      "outputs": [],
      "source": [
        "qtd_colunas = len(df.columns)\n",
        "p_colunas = round(qtd_colunas * 10 / 100)\n",
        "coluna_aleatoria = df.sample(n=p_colunas, axis='columns', random_state=1).keys()[0]\n",
        "colunas_numericas = df.describe().columns\n",
        "colunas_categoricas = df.describe(exclude=np.number).columns\n",
        "coluna_aleatoria # escolhendo uma coluna aleatoriamente"
      ]
    },
    {
      "cell_type": "markdown",
      "metadata": {
        "id": "Hkopa3lohtjf"
      },
      "source": [
        "##### a) Selecionando 3% dos dados"
      ]
    },
    {
      "cell_type": "code",
      "execution_count": null,
      "metadata": {
        "id": "gmySxE7FEjBN",
        "outputId": "62394b7d-5036-4e2d-9566-eecc89d284c0"
      },
      "outputs": [],
      "source": [
        "len(df)"
      ]
    },
    {
      "cell_type": "code",
      "execution_count": null,
      "metadata": {
        "colab": {
          "base_uri": "https://localhost:8080/"
        },
        "id": "HOtcB92hhvLg",
        "outputId": "53206894-8286-4595-f1e8-19ceabd69db8"
      },
      "outputs": [],
      "source": [
        "p_3 = round(df.shape[0] * 3 / 100)\n",
        "p_3"
      ]
    },
    {
      "cell_type": "markdown",
      "metadata": {
        "id": "FQ4KHum3skz7"
      },
      "source": [
        "##### a) Excluindo 3% dos dados aleatoriamente"
      ]
    },
    {
      "cell_type": "code",
      "execution_count": null,
      "metadata": {
        "id": "gzSYvbRDysNe"
      },
      "outputs": [],
      "source": [
        "reg_excluidos = df.sample(n=p_3)\n",
        "reg_exc_index = reg_excluidos.index.array\n",
        "df.loc[reg_exc_index, coluna_aleatoria] = np.nan"
      ]
    },
    {
      "cell_type": "markdown",
      "metadata": {
        "id": "Sxh3uWeotHrS"
      },
      "source": [
        "##### a) Alterando 3% dos dados aleatoriamente"
      ]
    },
    {
      "cell_type": "code",
      "execution_count": null,
      "metadata": {
        "id": "inRW488117mR"
      },
      "outputs": [],
      "source": [
        "def gerar_string_aleatoria():\n",
        "  letters = string.ascii_lowercase\n",
        "  return ''.join(random.choice(letters) for i in range(10)) \n",
        "\n",
        "def gerar_numero_aleatorio():\n",
        "  return random.randint(0, 999)"
      ]
    },
    {
      "cell_type": "code",
      "execution_count": null,
      "metadata": {
        "id": "yMzmcXenuM7q"
      },
      "outputs": [],
      "source": [
        "# listando indexes que sofreram alteração na coluna aleatória\n",
        "df_selecao_nao_nulo = df[~df[coluna_aleatoria].isnull()]\n",
        "reg_alterados = df_selecao_nao_nulo.sample(n=p_3)\n",
        "reg_alter_index = reg_alterados.index.array"
      ]
    },
    {
      "cell_type": "code",
      "execution_count": null,
      "metadata": {
        "id": "h-0XODObEjBO"
      },
      "outputs": [],
      "source": [
        "if coluna_aleatoria in colunas_numericas:\n",
        "    for index in reg_alter_index:\n",
        "        df.loc[[index],[coluna_aleatoria]] = gerar_numero_aleatorio()\n",
        "else:\n",
        "    for index in reg_alter_index:\n",
        "        df.loc[[index],[coluna_aleatoria]] = gerar_string_aleatoria()"
      ]
    },
    {
      "cell_type": "code",
      "execution_count": null,
      "metadata": {
        "colab": {
          "base_uri": "https://localhost:8080/"
        },
        "id": "EaiYwIkqEjBO",
        "outputId": "3c9cda06-2863-4c95-aff9-bf8d36e07e25"
      },
      "outputs": [],
      "source": [
        "# listando alterações\n",
        "count = 0\n",
        "for index in reg_alter_index:\n",
        "    print(df[coluna_aleatoria][index])\n",
        "    count += 1\n",
        "    if count == 10:\n",
        "        break"
      ]
    },
    {
      "cell_type": "markdown",
      "metadata": {
        "id": "G-2ZuRCgEjBP"
      },
      "source": [
        "#### b) Limpeza dos dados"
      ]
    },
    {
      "cell_type": "markdown",
      "metadata": {
        "id": "39VrV40GEjBP"
      },
      "source": [
        "i. Codificação One-Hot"
      ]
    },
    {
      "cell_type": "code",
      "execution_count": null,
      "metadata": {
        "colab": {
          "base_uri": "https://localhost:8080/",
          "height": 850
        },
        "id": "my6GkBc-EjBP",
        "outputId": "5ecc810c-3f57-40ab-df3d-47f39fea8fd1"
      },
      "outputs": [],
      "source": [
        "encoder = OneHotEncoder()\n",
        "onehot_encoded_df = pd.DataFrame(encoder.fit_transform(df[['Vendor']]).toarray())\n",
        "onehot_encoded_df.columns = vendors\n",
        "\n",
        "onehot_encoded_df = df.join(onehot_encoded_df)\n",
        "onehot_encoded_df.drop('Vendor', axis=1, inplace=True)\n",
        "onehot_encoded_df"
      ]
    },
    {
      "cell_type": "markdown",
      "metadata": {
        "id": "FsEuHcaMEjBP"
      },
      "source": [
        "ii. Estratégia para dados numéricos ausentes - mediana geral"
      ]
    },
    {
      "cell_type": "code",
      "execution_count": null,
      "metadata": {
        "id": "Naq7VWbEEjBP",
        "outputId": "57ea6ece-3aef-4537-891e-43ca3f76a12b"
      },
      "outputs": [],
      "source": [
        "df.describe()"
      ]
    },
    {
      "cell_type": "code",
      "execution_count": null,
      "metadata": {
        "id": "xhzVVgGIEjBP",
        "outputId": "a1455494-97e5-4fb1-ce9b-65a857a39ef1"
      },
      "outputs": [],
      "source": [
        "sts.median(df['Transistors (million)'])"
      ]
    },
    {
      "cell_type": "markdown",
      "metadata": {
        "id": "YrVsdPcmEjBP"
      },
      "source": [
        "A atribuição da mediana geral foi utilizada para lidar com os valores nulos das colunas em que existiam, pelos seguintes motivos:\n"
      ]
    },
    {
      "cell_type": "markdown",
      "metadata": {
        "id": "7zngyPI5EjBP"
      },
      "source": [
        "Utilizaremos a coluna 'Transistors (million)' como referência por acreditarmos que se trata da coluna principal do dataset.\n",
        "\n",
        "*   A remoção dos valores nulos do conjunto levaria à retirada de 29.1% dos dados, pouco mais de 1/4 do dataset original\n",
        "*   Pela forte presença de outliers no dataset, o uso da média para atribuição de dados ausentes não seria uma boa opção. A média da coluna 'Transistors (million)'     seria aproximadamente 2151 milhões.\n",
        "*   O treinamento de um preditor geraria esforço adicional e sairia do foco da entrega, então utilizamos uma estratégia mais simples para tratar dessa questão.\n",
        "*   Por isso, escolhemos o uso da mediana. Para a coluna 'Transistorts (millions)' a mediana é 731 milhões, praticamente 3 vezes menos do que a média. A partir disso, obtemos o valor central do dataset, que sofre menos com o impacto dos outliers.\n"
      ]
    },
    {
      "cell_type": "markdown",
      "metadata": {
        "id": "MyDWykk_EjBQ"
      },
      "source": [
        "iii. Escalonamento de características: Padronização e iv. Pipeline transformadora"
      ]
    },
    {
      "cell_type": "code",
      "execution_count": null,
      "metadata": {},
      "outputs": [],
      "source": [
        "num_attribs = list(cpu.describe(include=np.number))"
      ]
    },
    {
      "cell_type": "code",
      "execution_count": null,
      "metadata": {
        "id": "NkIln5EuEjBQ"
      },
      "outputs": [],
      "source": [
        "num_pipeline = Pipeline([\n",
        "        ('imputer', SimpleImputer(strategy=\"median\")),        \n",
        "        ('std_scaler', StandardScaler()),\n",
        "    ])\n",
        "\n",
        "full_pipeline = ColumnTransformer([\n",
        "        ('num', num_pipeline, num_attribs),\n",
        "        ('cat', OneHotEncoder(), cat_attribs),\n",
        "    ])"
      ]
    },
    {
      "cell_type": "code",
      "execution_count": null,
      "metadata": {},
      "outputs": [],
      "source": [
        "cpu"
      ]
    },
    {
      "cell_type": "code",
      "execution_count": null,
      "metadata": {
        "id": "d_5NVu2pEjBQ"
      },
      "outputs": [],
      "source": [
        "cpu_prepared = full_pipeline.fit_transform(cpu)"
      ]
    },
    {
      "cell_type": "markdown",
      "metadata": {
        "id": "lRKsOfU_EjBQ"
      },
      "source": [
        "Utilizando a full_pipeline, aplicamos\n",
        "*   Codificação One-Hot para dados categóricos com mais de duas categorias (escolhemos a coluna 'Vendor')\n",
        "*   Atribuição da mediana geral para os dados numéricos ausentes\n",
        "*   Escalonamento de caretísticas: Padronização\n",
        "*   Pipeline transformadora utilizando codificaçõa one hot, atribuição de mediana e padronização\n"
      ]
    },
    {
      "cell_type": "code",
      "execution_count": null,
      "metadata": {
        "colab": {
          "base_uri": "https://localhost:8080/"
        },
        "id": "TonXYt1Nonc9",
        "outputId": "33e784ba-9e06-4e4a-db35-d58ff1fbcbcf"
      },
      "outputs": [],
      "source": [
        "cpu_prepared"
      ]
    },
    {
      "cell_type": "markdown",
      "metadata": {},
      "source": [
        "##### Treinamento do modelo"
      ]
    },
    {
      "cell_type": "code",
      "execution_count": 240,
      "metadata": {},
      "outputs": [
        {
          "data": {
            "text/html": [
              "<style>#sk-container-id-1 {color: black;background-color: white;}#sk-container-id-1 pre{padding: 0;}#sk-container-id-1 div.sk-toggleable {background-color: white;}#sk-container-id-1 label.sk-toggleable__label {cursor: pointer;display: block;width: 100%;margin-bottom: 0;padding: 0.3em;box-sizing: border-box;text-align: center;}#sk-container-id-1 label.sk-toggleable__label-arrow:before {content: \"▸\";float: left;margin-right: 0.25em;color: #696969;}#sk-container-id-1 label.sk-toggleable__label-arrow:hover:before {color: black;}#sk-container-id-1 div.sk-estimator:hover label.sk-toggleable__label-arrow:before {color: black;}#sk-container-id-1 div.sk-toggleable__content {max-height: 0;max-width: 0;overflow: hidden;text-align: left;background-color: #f0f8ff;}#sk-container-id-1 div.sk-toggleable__content pre {margin: 0.2em;color: black;border-radius: 0.25em;background-color: #f0f8ff;}#sk-container-id-1 input.sk-toggleable__control:checked~div.sk-toggleable__content {max-height: 200px;max-width: 100%;overflow: auto;}#sk-container-id-1 input.sk-toggleable__control:checked~label.sk-toggleable__label-arrow:before {content: \"▾\";}#sk-container-id-1 div.sk-estimator input.sk-toggleable__control:checked~label.sk-toggleable__label {background-color: #d4ebff;}#sk-container-id-1 div.sk-label input.sk-toggleable__control:checked~label.sk-toggleable__label {background-color: #d4ebff;}#sk-container-id-1 input.sk-hidden--visually {border: 0;clip: rect(1px 1px 1px 1px);clip: rect(1px, 1px, 1px, 1px);height: 1px;margin: -1px;overflow: hidden;padding: 0;position: absolute;width: 1px;}#sk-container-id-1 div.sk-estimator {font-family: monospace;background-color: #f0f8ff;border: 1px dotted black;border-radius: 0.25em;box-sizing: border-box;margin-bottom: 0.5em;}#sk-container-id-1 div.sk-estimator:hover {background-color: #d4ebff;}#sk-container-id-1 div.sk-parallel-item::after {content: \"\";width: 100%;border-bottom: 1px solid gray;flex-grow: 1;}#sk-container-id-1 div.sk-label:hover label.sk-toggleable__label {background-color: #d4ebff;}#sk-container-id-1 div.sk-serial::before {content: \"\";position: absolute;border-left: 1px solid gray;box-sizing: border-box;top: 0;bottom: 0;left: 50%;z-index: 0;}#sk-container-id-1 div.sk-serial {display: flex;flex-direction: column;align-items: center;background-color: white;padding-right: 0.2em;padding-left: 0.2em;position: relative;}#sk-container-id-1 div.sk-item {position: relative;z-index: 1;}#sk-container-id-1 div.sk-parallel {display: flex;align-items: stretch;justify-content: center;background-color: white;position: relative;}#sk-container-id-1 div.sk-item::before, #sk-container-id-1 div.sk-parallel-item::before {content: \"\";position: absolute;border-left: 1px solid gray;box-sizing: border-box;top: 0;bottom: 0;left: 50%;z-index: -1;}#sk-container-id-1 div.sk-parallel-item {display: flex;flex-direction: column;z-index: 1;position: relative;background-color: white;}#sk-container-id-1 div.sk-parallel-item:first-child::after {align-self: flex-end;width: 50%;}#sk-container-id-1 div.sk-parallel-item:last-child::after {align-self: flex-start;width: 50%;}#sk-container-id-1 div.sk-parallel-item:only-child::after {width: 0;}#sk-container-id-1 div.sk-dashed-wrapped {border: 1px dashed gray;margin: 0 0.4em 0.5em 0.4em;box-sizing: border-box;padding-bottom: 0.4em;background-color: white;}#sk-container-id-1 div.sk-label label {font-family: monospace;font-weight: bold;display: inline-block;line-height: 1.2em;}#sk-container-id-1 div.sk-label-container {text-align: center;}#sk-container-id-1 div.sk-container {/* jupyter's `normalize.less` sets `[hidden] { display: none; }` but bootstrap.min.css set `[hidden] { display: none !important; }` so we also need the `!important` here to be able to override the default hidden behavior on the sphinx rendered scikit-learn.org. See: https://github.com/scikit-learn/scikit-learn/issues/21755 */display: inline-block !important;position: relative;}#sk-container-id-1 div.sk-text-repr-fallback {display: none;}</style><div id=\"sk-container-id-1\" class=\"sk-top-container\"><div class=\"sk-text-repr-fallback\"><pre>LinearRegression()</pre><b>In a Jupyter environment, please rerun this cell to show the HTML representation or trust the notebook. <br />On GitHub, the HTML representation is unable to render, please try loading this page with nbviewer.org.</b></div><div class=\"sk-container\" hidden><div class=\"sk-item\"><div class=\"sk-estimator sk-toggleable\"><input class=\"sk-toggleable__control sk-hidden--visually\" id=\"sk-estimator-id-1\" type=\"checkbox\" checked><label for=\"sk-estimator-id-1\" class=\"sk-toggleable__label sk-toggleable__label-arrow\">LinearRegression</label><div class=\"sk-toggleable__content\"><pre>LinearRegression()</pre></div></div></div></div></div>"
            ],
            "text/plain": [
              "LinearRegression()"
            ]
          },
          "execution_count": 240,
          "metadata": {},
          "output_type": "execute_result"
        }
      ],
      "source": [
        "cpu_labels = strat_train_set['Transistors (million)'].copy()\n",
        "\n",
        "lin_reg = LinearRegression()\n",
        "lin_reg.fit(cpu_prepared, cpu_labels)"
      ]
    },
    {
      "cell_type": "code",
      "execution_count": 241,
      "metadata": {},
      "outputs": [],
      "source": [
        "some_data = cpu.iloc[:5]\n",
        "some_labels = cpu_labels.iloc[:5]\n",
        "some_data_prepared = full_pipeline.transform(some_data)"
      ]
    },
    {
      "cell_type": "code",
      "execution_count": 242,
      "metadata": {},
      "outputs": [
        {
          "name": "stdout",
          "output_type": "stream",
          "text": [
            "Predictions: [ 2239.17928815 -1256.94052508   845.05035726   289.9519808\n",
            "  3657.93900242]\n"
          ]
        }
      ],
      "source": [
        "print(\"Predictions:\", lin_reg.predict(some_data_prepared))"
      ]
    },
    {
      "cell_type": "code",
      "execution_count": 243,
      "metadata": {},
      "outputs": [
        {
          "name": "stdout",
          "output_type": "stream",
          "text": [
            "Labels: [1040.0, 82.0, 486.0, 582.0, 1178.0]\n"
          ]
        }
      ],
      "source": [
        "print(\"Labels:\", list(some_labels))"
      ]
    },
    {
      "cell_type": "code",
      "execution_count": 244,
      "metadata": {},
      "outputs": [
        {
          "data": {
            "text/plain": [
              "3074.6307079120093"
            ]
          },
          "execution_count": 244,
          "metadata": {},
          "output_type": "execute_result"
        }
      ],
      "source": [
        "from sklearn.metrics import mean_squared_error\n",
        "\n",
        "cpu_predictions = lin_reg.predict(cpu_prepared)\n",
        "lin_rmse = mean_squared_error(cpu_labels, cpu_predictions, squared=False)\n",
        "lin_rmse"
      ]
    }
  ],
  "metadata": {
    "colab": {
      "provenance": []
    },
    "kernelspec": {
      "display_name": "Python 3.10.8 64-bit (microsoft store)",
      "language": "python",
      "name": "python3"
    },
    "language_info": {
      "codemirror_mode": {
        "name": "ipython",
        "version": 3
      },
      "file_extension": ".py",
      "mimetype": "text/x-python",
      "name": "python",
      "nbconvert_exporter": "python",
      "pygments_lexer": "ipython3",
      "version": "3.10.8"
    },
    "vscode": {
      "interpreter": {
        "hash": "1411826be7eae97a21cd32c3ad68577137fa7ead80dc4d38e556535e3b8866d8"
      }
    }
  },
  "nbformat": 4,
  "nbformat_minor": 0
}
