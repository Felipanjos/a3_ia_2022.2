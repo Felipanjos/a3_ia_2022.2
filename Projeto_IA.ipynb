{
  "cells": [
    {
      "cell_type": "markdown",
      "metadata": {
        "colab_type": "text",
        "id": "view-in-github"
      },
      "source": [
        "<a href=\"https://colab.research.google.com/github/Felipanjos/a3_ia_2022.2/blob/main/Projeto_IA.ipynb\" target=\"_parent\"><img src=\"https://colab.research.google.com/assets/colab-badge.svg\" alt=\"Open In Colab\"/></a>"
      ]
    },
    {
      "cell_type": "markdown",
      "metadata": {},
      "source": [
        "### D. Preparação dos dados"
      ]
    },
    {
      "cell_type": "code",
      "execution_count": 110,
      "metadata": {
        "id": "FGHweZQuwPte"
      },
      "outputs": [],
      "source": [
        "import pandas as pd\n",
        "import numpy as np\n",
        "import random\n",
        "import string\n",
        "import sklearn\n",
        "from itertools import groupby"
      ]
    },
    {
      "cell_type": "code",
      "execution_count": 136,
      "metadata": {},
      "outputs": [],
      "source": [
        "df = pd.read_csv('2022-2023 NBA Player Stats - Regular.csv', sep=';',encoding='latin')"
      ]
    },
    {
      "cell_type": "code",
      "execution_count": 137,
      "metadata": {},
      "outputs": [],
      "source": [
        "df = df[['Player', 'Pos', 'Age', 'Tm', 'G', 'GS', 'MP', 'FG', 'FGA']]"
      ]
    },
    {
      "cell_type": "code",
      "execution_count": 138,
      "metadata": {},
      "outputs": [
        {
          "name": "stdout",
          "output_type": "stream",
          "text": [
            "<class 'pandas.core.frame.DataFrame'>\n",
            "RangeIndex: 439 entries, 0 to 438\n",
            "Data columns (total 9 columns):\n",
            " #   Column  Non-Null Count  Dtype  \n",
            "---  ------  --------------  -----  \n",
            " 0   Player  439 non-null    object \n",
            " 1   Pos     439 non-null    object \n",
            " 2   Age     439 non-null    int64  \n",
            " 3   Tm      439 non-null    object \n",
            " 4   G       439 non-null    int64  \n",
            " 5   GS      439 non-null    int64  \n",
            " 6   MP      439 non-null    float64\n",
            " 7   FG      439 non-null    float64\n",
            " 8   FGA     439 non-null    float64\n",
            "dtypes: float64(3), int64(3), object(3)\n",
            "memory usage: 31.0+ KB\n"
          ]
        }
      ],
      "source": [
        "df.info()"
      ]
    },
    {
      "cell_type": "code",
      "execution_count": 139,
      "metadata": {},
      "outputs": [
        {
          "data": {
            "text/html": [
              "<div>\n",
              "<style scoped>\n",
              "    .dataframe tbody tr th:only-of-type {\n",
              "        vertical-align: middle;\n",
              "    }\n",
              "\n",
              "    .dataframe tbody tr th {\n",
              "        vertical-align: top;\n",
              "    }\n",
              "\n",
              "    .dataframe thead th {\n",
              "        text-align: right;\n",
              "    }\n",
              "</style>\n",
              "<table border=\"1\" class=\"dataframe\">\n",
              "  <thead>\n",
              "    <tr style=\"text-align: right;\">\n",
              "      <th></th>\n",
              "      <th>Player</th>\n",
              "      <th>Pos</th>\n",
              "      <th>Age</th>\n",
              "      <th>Tm</th>\n",
              "      <th>G</th>\n",
              "      <th>GS</th>\n",
              "      <th>MP</th>\n",
              "      <th>FG</th>\n",
              "      <th>FGA</th>\n",
              "    </tr>\n",
              "  </thead>\n",
              "  <tbody>\n",
              "    <tr>\n",
              "      <th>0</th>\n",
              "      <td>Precious Achiuwa</td>\n",
              "      <td>C</td>\n",
              "      <td>23</td>\n",
              "      <td>TOR</td>\n",
              "      <td>7</td>\n",
              "      <td>0</td>\n",
              "      <td>22.4</td>\n",
              "      <td>2.9</td>\n",
              "      <td>7.7</td>\n",
              "    </tr>\n",
              "    <tr>\n",
              "      <th>1</th>\n",
              "      <td>Steven Adams</td>\n",
              "      <td>C</td>\n",
              "      <td>29</td>\n",
              "      <td>MEM</td>\n",
              "      <td>7</td>\n",
              "      <td>7</td>\n",
              "      <td>25.9</td>\n",
              "      <td>2.3</td>\n",
              "      <td>4.1</td>\n",
              "    </tr>\n",
              "    <tr>\n",
              "      <th>2</th>\n",
              "      <td>Bam Adebayo</td>\n",
              "      <td>C</td>\n",
              "      <td>25</td>\n",
              "      <td>MIA</td>\n",
              "      <td>8</td>\n",
              "      <td>8</td>\n",
              "      <td>35.4</td>\n",
              "      <td>6.8</td>\n",
              "      <td>12.6</td>\n",
              "    </tr>\n",
              "    <tr>\n",
              "      <th>3</th>\n",
              "      <td>Ochai Agbaji</td>\n",
              "      <td>SG</td>\n",
              "      <td>22</td>\n",
              "      <td>UTA</td>\n",
              "      <td>4</td>\n",
              "      <td>0</td>\n",
              "      <td>14.8</td>\n",
              "      <td>2.0</td>\n",
              "      <td>4.8</td>\n",
              "    </tr>\n",
              "    <tr>\n",
              "      <th>4</th>\n",
              "      <td>Santi Aldama</td>\n",
              "      <td>PF</td>\n",
              "      <td>22</td>\n",
              "      <td>MEM</td>\n",
              "      <td>7</td>\n",
              "      <td>7</td>\n",
              "      <td>29.4</td>\n",
              "      <td>3.6</td>\n",
              "      <td>8.3</td>\n",
              "    </tr>\n",
              "    <tr>\n",
              "      <th>...</th>\n",
              "      <td>...</td>\n",
              "      <td>...</td>\n",
              "      <td>...</td>\n",
              "      <td>...</td>\n",
              "      <td>...</td>\n",
              "      <td>...</td>\n",
              "      <td>...</td>\n",
              "      <td>...</td>\n",
              "      <td>...</td>\n",
              "    </tr>\n",
              "    <tr>\n",
              "      <th>434</th>\n",
              "      <td>Delon Wright</td>\n",
              "      <td>PG</td>\n",
              "      <td>30</td>\n",
              "      <td>WAS</td>\n",
              "      <td>4</td>\n",
              "      <td>0</td>\n",
              "      <td>22.8</td>\n",
              "      <td>2.5</td>\n",
              "      <td>6.0</td>\n",
              "    </tr>\n",
              "    <tr>\n",
              "      <th>435</th>\n",
              "      <td>McKinley Wright IV</td>\n",
              "      <td>PG</td>\n",
              "      <td>24</td>\n",
              "      <td>DAL</td>\n",
              "      <td>1</td>\n",
              "      <td>0</td>\n",
              "      <td>5.0</td>\n",
              "      <td>1.0</td>\n",
              "      <td>4.0</td>\n",
              "    </tr>\n",
              "    <tr>\n",
              "      <th>436</th>\n",
              "      <td>Thaddeus Young</td>\n",
              "      <td>PF</td>\n",
              "      <td>34</td>\n",
              "      <td>TOR</td>\n",
              "      <td>4</td>\n",
              "      <td>0</td>\n",
              "      <td>8.0</td>\n",
              "      <td>0.8</td>\n",
              "      <td>2.0</td>\n",
              "    </tr>\n",
              "    <tr>\n",
              "      <th>437</th>\n",
              "      <td>Trae Young</td>\n",
              "      <td>PG</td>\n",
              "      <td>24</td>\n",
              "      <td>ATL</td>\n",
              "      <td>7</td>\n",
              "      <td>7</td>\n",
              "      <td>35.0</td>\n",
              "      <td>8.9</td>\n",
              "      <td>22.4</td>\n",
              "    </tr>\n",
              "    <tr>\n",
              "      <th>438</th>\n",
              "      <td>Ivica Zubac</td>\n",
              "      <td>C</td>\n",
              "      <td>25</td>\n",
              "      <td>LAC</td>\n",
              "      <td>7</td>\n",
              "      <td>7</td>\n",
              "      <td>29.3</td>\n",
              "      <td>4.0</td>\n",
              "      <td>6.6</td>\n",
              "    </tr>\n",
              "  </tbody>\n",
              "</table>\n",
              "<p>439 rows × 9 columns</p>\n",
              "</div>"
            ],
            "text/plain": [
              "                 Player Pos  Age   Tm  G  GS    MP   FG   FGA\n",
              "0      Precious Achiuwa   C   23  TOR  7   0  22.4  2.9   7.7\n",
              "1          Steven Adams   C   29  MEM  7   7  25.9  2.3   4.1\n",
              "2           Bam Adebayo   C   25  MIA  8   8  35.4  6.8  12.6\n",
              "3          Ochai Agbaji  SG   22  UTA  4   0  14.8  2.0   4.8\n",
              "4          Santi Aldama  PF   22  MEM  7   7  29.4  3.6   8.3\n",
              "..                  ...  ..  ...  ... ..  ..   ...  ...   ...\n",
              "434        Delon Wright  PG   30  WAS  4   0  22.8  2.5   6.0\n",
              "435  McKinley Wright IV  PG   24  DAL  1   0   5.0  1.0   4.0\n",
              "436      Thaddeus Young  PF   34  TOR  4   0   8.0  0.8   2.0\n",
              "437          Trae Young  PG   24  ATL  7   7  35.0  8.9  22.4\n",
              "438         Ivica Zubac   C   25  LAC  7   7  29.3  4.0   6.6\n",
              "\n",
              "[439 rows x 9 columns]"
            ]
          },
          "execution_count": 139,
          "metadata": {},
          "output_type": "execute_result"
        }
      ],
      "source": [
        "df"
      ]
    },
    {
      "cell_type": "code",
      "execution_count": 140,
      "metadata": {},
      "outputs": [
        {
          "data": {
            "text/plain": [
              "array(['C', 'PF', 'PG', 'SF', 'SG'], dtype=object)"
            ]
          },
          "execution_count": 140,
          "metadata": {},
          "output_type": "execute_result"
        }
      ],
      "source": [
        "np.unique(df['Pos'])"
      ]
    },
    {
      "cell_type": "markdown",
      "metadata": {
        "id": "Np4v0J4Lb5p_"
      },
      "source": [
        "##### a) Selecionando 10% das colunas"
      ]
    },
    {
      "cell_type": "markdown",
      "metadata": {},
      "source": [
        "No dataset utilizado existem somente 9 colunas, dessa forma:\n",
        "\n",
        "*    10% de 9 = 0.9\n",
        "*    Aproximando para 1, fica somente uma coluna a ser selecionada como referência para a modificação dos dados\n",
        "\n"
      ]
    },
    {
      "cell_type": "code",
      "execution_count": 141,
      "metadata": {
        "colab": {
          "base_uri": "https://localhost:8080/"
        },
        "id": "5q4KQCWnb8E0",
        "outputId": "9b709cec-a07f-4915-bfa5-26b318191d37"
      },
      "outputs": [
        {
          "data": {
            "text/plain": [
              "'Player'"
            ]
          },
          "execution_count": 141,
          "metadata": {},
          "output_type": "execute_result"
        }
      ],
      "source": [
        "qtd_colunas = len(df.columns)\n",
        "p_colunas = round(qtd_colunas * 10 / 100)\n",
        "coluna_aleatoria = df.sample(n=p_colunas, axis='columns').keys()[0]\n",
        "colunas_numericas = df.describe().columns\n",
        "colunas_categoricas = df.describe(exclude=np.number).columns\n",
        "coluna_aleatoria # escolhendo uma coluna aleatoriamente"
      ]
    },
    {
      "cell_type": "markdown",
      "metadata": {
        "id": "Hkopa3lohtjf"
      },
      "source": [
        "##### a) Selecionando 3% dos dados"
      ]
    },
    {
      "cell_type": "code",
      "execution_count": 142,
      "metadata": {
        "id": "HOtcB92hhvLg"
      },
      "outputs": [
        {
          "data": {
            "text/plain": [
              "13"
            ]
          },
          "execution_count": 142,
          "metadata": {},
          "output_type": "execute_result"
        }
      ],
      "source": [
        "p_3 = int(df.shape[0] * 3 / 100)\n",
        "p_3 # 3% de 1000 é igual a 30"
      ]
    },
    {
      "cell_type": "markdown",
      "metadata": {
        "id": "FQ4KHum3skz7"
      },
      "source": [
        "##### a) Excluindo 3% dos dados aleatoriamente"
      ]
    },
    {
      "cell_type": "code",
      "execution_count": 143,
      "metadata": {
        "id": "gzSYvbRDysNe"
      },
      "outputs": [],
      "source": [
        "reg_nulos = df[df[coluna_aleatoria].isnull()]\n",
        "qtd_reg_nulos = reg_nulos.shape[0]\n",
        "reg_excluidos = df.sample(n=p_3)\n",
        "reg_exc_index = reg_excluidos.index.array\n",
        "df.loc[reg_exc_index, coluna_aleatoria] = np.nan"
      ]
    },
    {
      "cell_type": "code",
      "execution_count": 144,
      "metadata": {},
      "outputs": [
        {
          "name": "stdout",
          "output_type": "stream",
          "text": [
            "<class 'pandas.core.frame.DataFrame'>\n",
            "RangeIndex: 439 entries, 0 to 438\n",
            "Data columns (total 9 columns):\n",
            " #   Column  Non-Null Count  Dtype  \n",
            "---  ------  --------------  -----  \n",
            " 0   Player  426 non-null    object \n",
            " 1   Pos     439 non-null    object \n",
            " 2   Age     439 non-null    int64  \n",
            " 3   Tm      439 non-null    object \n",
            " 4   G       439 non-null    int64  \n",
            " 5   GS      439 non-null    int64  \n",
            " 6   MP      439 non-null    float64\n",
            " 7   FG      439 non-null    float64\n",
            " 8   FGA     439 non-null    float64\n",
            "dtypes: float64(3), int64(3), object(3)\n",
            "memory usage: 31.0+ KB\n"
          ]
        }
      ],
      "source": [
        "df.info()"
      ]
    },
    {
      "cell_type": "markdown",
      "metadata": {
        "id": "Sxh3uWeotHrS"
      },
      "source": [
        "##### a) Alterando 3% dos dados aleatoriamente"
      ]
    },
    {
      "cell_type": "code",
      "execution_count": 154,
      "metadata": {
        "id": "inRW488117mR"
      },
      "outputs": [],
      "source": [
        "def gerar_string_aleatoria():\n",
        "  letters = string.ascii_lowercase\n",
        "  return ''.join(random.choice(letters) for i in range(10)) \n",
        "\n",
        "def gerar_numero_aleatorio():\n",
        "  return random.randint(0, 999)"
      ]
    },
    {
      "cell_type": "code",
      "execution_count": 155,
      "metadata": {
        "id": "yMzmcXenuM7q"
      },
      "outputs": [
        {
          "data": {
            "text/plain": [
              "<PandasArray>\n",
              "[206, 117, 403, 193, 134, 175, 255, 343, 207, 405, 72, 2, 419]\n",
              "Length: 13, dtype: int64"
            ]
          },
          "execution_count": 155,
          "metadata": {},
          "output_type": "execute_result"
        }
      ],
      "source": [
        "df_selecao_nao_nulo = df[~df[coluna_aleatoria].isnull()]\n",
        "reg_alterados = df_selecao_nao_nulo.sample(n=p_3)\n",
        "reg_alter_index = reg_alterados.index.array\n",
        "reg_alter_index"
      ]
    },
    {
      "cell_type": "code",
      "execution_count": 156,
      "metadata": {},
      "outputs": [],
      "source": [
        "if coluna_aleatoria in colunas_numericas:\n",
        "    for index in reg_alter_index:\n",
        "        df.loc[[index],[coluna_aleatoria]] = gerar_numero_aleatorio()\n",
        "else:\n",
        "    for index in reg_alter_index:\n",
        "        df.loc[[index],[coluna_aleatoria]] = gerar_string_aleatoria()"
      ]
    },
    {
      "cell_type": "markdown",
      "metadata": {},
      "source": [
        "#### b) Limpeza dos dados"
      ]
    },
    {
      "cell_type": "markdown",
      "metadata": {},
      "source": [
        "i. Codificação One-Hot"
      ]
    },
    {
      "cell_type": "markdown",
      "metadata": {},
      "source": [
        "ii. Dados numéricos ausentes - Atribuição da mediana geral"
      ]
    },
    {
      "cell_type": "markdown",
      "metadata": {},
      "source": [
        "A atribuição da mediana geral foi utilizada para lidar com os valores nulos das colunas em que existiam, pelos seguintes motivos:\n",
        "\n",
        "*   Número relativamente pequeno de linhas (1000), o que ocasionaria numa maior escassez de dados caso as linhas com valores nulos fossem removidas\n",
        "*   Número pequeno de colunas, logo a remoção completa de cada coluna em que houvesse valor nulo acarretaria na perda desnecessária de informações\n",
        "*   Facilidade na implementação em comparação com o treinamento de predição e atribuição\n",
        "*   Coesão com o dataset, visto que logo no primeiro quartil a coluna 'Meta_score' apresenta valor próximo à média\n",
        "\n",
        "Após implementação da correção, o dataset não conta mais com valores nulos.\n"
      ]
    },
    {
      "cell_type": "code",
      "execution_count": 166,
      "metadata": {},
      "outputs": [
        {
          "data": {
            "text/plain": [
              "<10x5 sparse matrix of type '<class 'numpy.float64'>'\n",
              "\twith 10 stored elements in Compressed Sparse Row format>"
            ]
          },
          "execution_count": 166,
          "metadata": {},
          "output_type": "execute_result"
        }
      ],
      "source": [
        "from sklearn.preprocessing import OneHotEncoder\n",
        "\n",
        "one_hot_encoder = OneHotEncoder()\n",
        "pos_encoded = one_hot_encoder.fit_transform(df[['Pos']])"
      ]
    },
    {
      "cell_type": "code",
      "execution_count": 168,
      "metadata": {},
      "outputs": [
        {
          "data": {
            "text/plain": [
              "array([[1., 0., 0., 0., 0.],\n",
              "       [1., 0., 0., 0., 0.],\n",
              "       [1., 0., 0., 0., 0.],\n",
              "       ...,\n",
              "       [0., 1., 0., 0., 0.],\n",
              "       [0., 0., 1., 0., 0.],\n",
              "       [1., 0., 0., 0., 0.]])"
            ]
          },
          "execution_count": 168,
          "metadata": {},
          "output_type": "execute_result"
        }
      ],
      "source": [
        "pos_encoded.toarray()"
      ]
    },
    {
      "cell_type": "code",
      "execution_count": 158,
      "metadata": {},
      "outputs": [],
      "source": [
        "from sklearn.pipeline import Pipeline\n",
        "from sklearn.preprocessing import StandardScaler\n",
        "from sklearn.impute import SimpleImputer\n",
        "\n",
        "num_pipeline = Pipeline([\n",
        "        ('imputer', SimpleImputer()),        \n",
        "        ('std_scaler', StandardScaler()),\n",
        "    ])"
      ]
    },
    {
      "cell_type": "code",
      "execution_count": 159,
      "metadata": {},
      "outputs": [
        {
          "data": {
            "text/plain": [
              "Index(['Age', 'G', 'GS', 'MP', 'FG', 'FGA'], dtype='object')"
            ]
          },
          "execution_count": 159,
          "metadata": {},
          "output_type": "execute_result"
        }
      ],
      "source": [
        "df.describe().columns"
      ]
    },
    {
      "cell_type": "code",
      "execution_count": 160,
      "metadata": {},
      "outputs": [],
      "source": [
        "from sklearn.preprocessing import OneHotEncoder\n",
        "\n",
        "num_attribs = list(df.describe().columns)\n",
        "cat_attribs = ['Pos']"
      ]
    },
    {
      "cell_type": "code",
      "execution_count": 161,
      "metadata": {},
      "outputs": [
        {
          "data": {
            "text/plain": [
              "['Age', 'G', 'GS', 'MP', 'FG', 'FGA']"
            ]
          },
          "execution_count": 161,
          "metadata": {},
          "output_type": "execute_result"
        }
      ],
      "source": [
        "num_attribs"
      ]
    },
    {
      "cell_type": "code",
      "execution_count": 162,
      "metadata": {},
      "outputs": [],
      "source": [
        "from sklearn.compose import ColumnTransformer\n",
        "\n",
        "full_pipeline = ColumnTransformer([\n",
        "        (\"num\", num_pipeline, num_attribs),\n",
        "        (\"cat\", OneHotEncoder(), cat_attribs),\n",
        "    ])"
      ]
    },
    {
      "cell_type": "code",
      "execution_count": 163,
      "metadata": {},
      "outputs": [],
      "source": [
        "df_prepared = full_pipeline.fit_transform(df)"
      ]
    },
    {
      "cell_type": "code",
      "execution_count": 165,
      "metadata": {},
      "outputs": [
        {
          "data": {
            "text/plain": [
              "(439, 11)"
            ]
          },
          "execution_count": 165,
          "metadata": {},
          "output_type": "execute_result"
        }
      ],
      "source": [
        "df_prepared.shape"
      ]
    },
    {
      "cell_type": "code",
      "execution_count": 176,
      "metadata": {},
      "outputs": [
        {
          "data": {
            "text/plain": [
              "array([[-0.65004877,  0.76317871, -0.7776295 , ...,  0.        ,\n",
              "         0.        ,  0.        ],\n",
              "       [ 0.72083071,  0.76317871,  1.47676243, ...,  0.        ,\n",
              "         0.        ,  0.        ],\n",
              "       [-0.19308895,  1.22466006,  1.79881842, ...,  0.        ,\n",
              "         0.        ,  0.        ],\n",
              "       ...,\n",
              "       [ 1.86323027, -0.62126532, -0.7776295 , ...,  0.        ,\n",
              "         0.        ,  0.        ],\n",
              "       [-0.42156886,  0.76317871,  1.47676243, ...,  1.        ,\n",
              "         0.        ,  0.        ],\n",
              "       [-0.19308895,  0.76317871,  1.47676243, ...,  0.        ,\n",
              "         0.        ,  0.        ]])"
            ]
          },
          "execution_count": 176,
          "metadata": {},
          "output_type": "execute_result"
        }
      ],
      "source": [
        "df_prepared"
      ]
    }
  ],
  "metadata": {
    "colab": {
      "include_colab_link": true,
      "provenance": []
    },
    "kernelspec": {
      "display_name": "Python 3.10.8 64-bit (microsoft store)",
      "language": "python",
      "name": "python3"
    },
    "language_info": {
      "codemirror_mode": {
        "name": "ipython",
        "version": 3
      },
      "file_extension": ".py",
      "mimetype": "text/x-python",
      "name": "python",
      "nbconvert_exporter": "python",
      "pygments_lexer": "ipython3",
      "version": "3.10.8"
    },
    "vscode": {
      "interpreter": {
        "hash": "1411826be7eae97a21cd32c3ad68577137fa7ead80dc4d38e556535e3b8866d8"
      }
    }
  },
  "nbformat": 4,
  "nbformat_minor": 0
}
