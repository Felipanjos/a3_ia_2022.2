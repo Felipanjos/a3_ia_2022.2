{
  "cells": [
    {
      "cell_type": "markdown",
      "metadata": {
        "colab_type": "text",
        "id": "view-in-github"
      },
      "source": [
        "<a href=\"https://colab.research.google.com/github/Felipanjos/a3_ia_2022.2/blob/main/Projeto_IA.ipynb\" target=\"_parent\"><img src=\"https://colab.research.google.com/assets/colab-badge.svg\" alt=\"Open In Colab\"/></a>"
      ]
    },
    {
      "cell_type": "code",
      "execution_count": 202,
      "metadata": {
        "id": "FGHweZQuwPte"
      },
      "outputs": [],
      "source": [
        "import pandas as pd\n",
        "import numpy as np\n",
        "import random\n",
        "import string\n",
        "import sklearn\n",
        "from itertools import groupby\n",
        "\n",
        "from sklearn.model_selection import StratifiedShuffleSplit\n",
        "from sklearn.pipeline import Pipeline\n",
        "from sklearn.preprocessing import StandardScaler\n",
        "from sklearn.impute import SimpleImputer\n",
        "from sklearn.preprocessing import OneHotEncoder\n",
        "from sklearn.compose import ColumnTransformer\n",
        "import matplotlib.pyplot as plt"
      ]
    },
    {
      "cell_type": "code",
      "execution_count": 203,
      "metadata": {},
      "outputs": [],
      "source": [
        "df = pd.read_csv('chip_dataset.csv', index_col=[0])\n",
        "df.drop('FP16 GFLOPS', axis=1, inplace=True)\n",
        "df.drop('FP32 GFLOPS', axis=1, inplace=True)\n",
        "df.drop('FP64 GFLOPS', axis=1, inplace=True)\n",
        "vendors = list(np.unique(df['Vendor']))"
      ]
    },
    {
      "cell_type": "code",
      "execution_count": 204,
      "metadata": {},
      "outputs": [
        {
          "data": {
            "text/html": [
              "<div>\n",
              "<style scoped>\n",
              "    .dataframe tbody tr th:only-of-type {\n",
              "        vertical-align: middle;\n",
              "    }\n",
              "\n",
              "    .dataframe tbody tr th {\n",
              "        vertical-align: top;\n",
              "    }\n",
              "\n",
              "    .dataframe thead th {\n",
              "        text-align: right;\n",
              "    }\n",
              "</style>\n",
              "<table border=\"1\" class=\"dataframe\">\n",
              "  <thead>\n",
              "    <tr style=\"text-align: right;\">\n",
              "      <th></th>\n",
              "      <th>Product</th>\n",
              "      <th>Type</th>\n",
              "      <th>Release Date</th>\n",
              "      <th>Process Size (nm)</th>\n",
              "      <th>TDP (W)</th>\n",
              "      <th>Die Size (mm^2)</th>\n",
              "      <th>Transistors (million)</th>\n",
              "      <th>Freq (MHz)</th>\n",
              "      <th>Foundry</th>\n",
              "      <th>Vendor</th>\n",
              "    </tr>\n",
              "  </thead>\n",
              "  <tbody>\n",
              "    <tr>\n",
              "      <th>0</th>\n",
              "      <td>AMD Athlon 64 3500+</td>\n",
              "      <td>CPU</td>\n",
              "      <td>2007-02-20</td>\n",
              "      <td>65.0</td>\n",
              "      <td>45.0</td>\n",
              "      <td>77.0</td>\n",
              "      <td>122.0</td>\n",
              "      <td>2200.0</td>\n",
              "      <td>Unknown</td>\n",
              "      <td>AMD</td>\n",
              "    </tr>\n",
              "    <tr>\n",
              "      <th>1</th>\n",
              "      <td>AMD Athlon 200GE</td>\n",
              "      <td>CPU</td>\n",
              "      <td>2018-09-06</td>\n",
              "      <td>14.0</td>\n",
              "      <td>35.0</td>\n",
              "      <td>192.0</td>\n",
              "      <td>4800.0</td>\n",
              "      <td>3200.0</td>\n",
              "      <td>Unknown</td>\n",
              "      <td>AMD</td>\n",
              "    </tr>\n",
              "    <tr>\n",
              "      <th>2</th>\n",
              "      <td>Intel Core i5-1145G7</td>\n",
              "      <td>CPU</td>\n",
              "      <td>2020-09-02</td>\n",
              "      <td>10.0</td>\n",
              "      <td>28.0</td>\n",
              "      <td>NaN</td>\n",
              "      <td>NaN</td>\n",
              "      <td>2600.0</td>\n",
              "      <td>Intel</td>\n",
              "      <td>Intel</td>\n",
              "    </tr>\n",
              "    <tr>\n",
              "      <th>3</th>\n",
              "      <td>Intel Xeon E5-2603 v2</td>\n",
              "      <td>CPU</td>\n",
              "      <td>2013-09-01</td>\n",
              "      <td>22.0</td>\n",
              "      <td>80.0</td>\n",
              "      <td>160.0</td>\n",
              "      <td>1400.0</td>\n",
              "      <td>1800.0</td>\n",
              "      <td>Intel</td>\n",
              "      <td>Intel</td>\n",
              "    </tr>\n",
              "    <tr>\n",
              "      <th>4</th>\n",
              "      <td>AMD Phenom II X4 980 BE</td>\n",
              "      <td>CPU</td>\n",
              "      <td>2011-05-03</td>\n",
              "      <td>45.0</td>\n",
              "      <td>125.0</td>\n",
              "      <td>258.0</td>\n",
              "      <td>758.0</td>\n",
              "      <td>3700.0</td>\n",
              "      <td>Unknown</td>\n",
              "      <td>AMD</td>\n",
              "    </tr>\n",
              "  </tbody>\n",
              "</table>\n",
              "</div>"
            ],
            "text/plain": [
              "                   Product Type Release Date  Process Size (nm)  TDP (W)  \\\n",
              "0      AMD Athlon 64 3500+  CPU   2007-02-20               65.0     45.0   \n",
              "1         AMD Athlon 200GE  CPU   2018-09-06               14.0     35.0   \n",
              "2     Intel Core i5-1145G7  CPU   2020-09-02               10.0     28.0   \n",
              "3    Intel Xeon E5-2603 v2  CPU   2013-09-01               22.0     80.0   \n",
              "4  AMD Phenom II X4 980 BE  CPU   2011-05-03               45.0    125.0   \n",
              "\n",
              "   Die Size (mm^2)  Transistors (million)  Freq (MHz)  Foundry Vendor  \n",
              "0             77.0                  122.0      2200.0  Unknown    AMD  \n",
              "1            192.0                 4800.0      3200.0  Unknown    AMD  \n",
              "2              NaN                    NaN      2600.0    Intel  Intel  \n",
              "3            160.0                 1400.0      1800.0    Intel  Intel  \n",
              "4            258.0                  758.0      3700.0  Unknown    AMD  "
            ]
          },
          "execution_count": 204,
          "metadata": {},
          "output_type": "execute_result"
        }
      ],
      "source": [
        "#aaaa\n",
        "df.head()"
      ]
    },
    {
      "cell_type": "code",
      "execution_count": 205,
      "metadata": {},
      "outputs": [],
      "source": [
        "df ['Transistors (million)'] = df ['Transistors (million)'].fillna(1)"
      ]
    },
    {
      "cell_type": "code",
      "execution_count": 206,
      "metadata": {},
      "outputs": [],
      "source": [
        "x = df[df['Transistors (million)'] == 0].index.to_list()"
      ]
    },
    {
      "cell_type": "code",
      "execution_count": 207,
      "metadata": {},
      "outputs": [
        {
          "name": "stdout",
          "output_type": "stream",
          "text": [
            "0\n"
          ]
        }
      ],
      "source": [
        "print(len(x))"
      ]
    },
    {
      "cell_type": "code",
      "execution_count": 208,
      "metadata": {},
      "outputs": [
        {
          "name": "stdout",
          "output_type": "stream",
          "text": [
            "<class 'pandas.core.frame.DataFrame'>\n",
            "Int64Index: 4854 entries, 0 to 4853\n",
            "Data columns (total 10 columns):\n",
            " #   Column                 Non-Null Count  Dtype  \n",
            "---  ------                 --------------  -----  \n",
            " 0   Product                4854 non-null   object \n",
            " 1   Type                   4854 non-null   object \n",
            " 2   Release Date           4854 non-null   object \n",
            " 3   Process Size (nm)      4845 non-null   float64\n",
            " 4   TDP (W)                4228 non-null   float64\n",
            " 5   Die Size (mm^2)        4139 non-null   float64\n",
            " 6   Transistors (million)  4854 non-null   float64\n",
            " 7   Freq (MHz)             4854 non-null   float64\n",
            " 8   Foundry                4854 non-null   object \n",
            " 9   Vendor                 4854 non-null   object \n",
            "dtypes: float64(5), object(5)\n",
            "memory usage: 417.1+ KB\n"
          ]
        }
      ],
      "source": [
        "df.info()"
      ]
    },
    {
      "cell_type": "code",
      "execution_count": 209,
      "metadata": {},
      "outputs": [],
      "source": [
        "num_attribs = list(df.describe().columns)\n",
        "cat_attribs = ['Vendor']"
      ]
    },
    {
      "cell_type": "markdown",
      "metadata": {},
      "source": [
        "### B. Divisão "
      ]
    },
    {
      "cell_type": "code",
      "execution_count": 210,
      "metadata": {},
      "outputs": [],
      "source": [
        "ranges = [df.min()['Transistors (million)'], df['Transistors (million)'].describe()['25%'], 500, 1000, 2000, 6000, 15000, 30000, np.inf]\n",
        "tiers = ['F', 'E', 'D', 'C', 'B', 'A', 'S', 'S+']\n",
        "\n",
        "df['Rank'] = pd.cut(df['Transistors (million)'], bins = ranges, labels = tiers)"
      ]
    },
    {
      "cell_type": "code",
      "execution_count": 211,
      "metadata": {},
      "outputs": [
        {
          "name": "stdout",
          "output_type": "stream",
          "text": [
            "<class 'pandas.core.frame.DataFrame'>\n",
            "Int64Index: 4854 entries, 0 to 4853\n",
            "Data columns (total 11 columns):\n",
            " #   Column                 Non-Null Count  Dtype   \n",
            "---  ------                 --------------  -----   \n",
            " 0   Product                4854 non-null   object  \n",
            " 1   Type                   4854 non-null   object  \n",
            " 2   Release Date           4854 non-null   object  \n",
            " 3   Process Size (nm)      4845 non-null   float64 \n",
            " 4   TDP (W)                4228 non-null   float64 \n",
            " 5   Die Size (mm^2)        4139 non-null   float64 \n",
            " 6   Transistors (million)  4854 non-null   float64 \n",
            " 7   Freq (MHz)             4854 non-null   float64 \n",
            " 8   Foundry                4854 non-null   object  \n",
            " 9   Vendor                 4854 non-null   object  \n",
            " 10  Rank                   4143 non-null   category\n",
            "dtypes: category(1), float64(5), object(5)\n",
            "memory usage: 422.2+ KB\n"
          ]
        }
      ],
      "source": [
        "df.info()\n",
        "#df_num = pd.DataFrame(df_num, index=df.index, columns=df.columns)"
      ]
    },
    {
      "cell_type": "code",
      "execution_count": 212,
      "metadata": {},
      "outputs": [
        {
          "ename": "ValueError",
          "evalue": "Input contains NaN",
          "output_type": "error",
          "traceback": [
            "\u001b[1;31m---------------------------------------------------------------------------\u001b[0m",
            "\u001b[1;31mValueError\u001b[0m                                Traceback (most recent call last)",
            "Cell \u001b[1;32mIn [212], line 2\u001b[0m\n\u001b[0;32m      1\u001b[0m splitter \u001b[39m=\u001b[39m StratifiedShuffleSplit(n_splits\u001b[39m=\u001b[39m\u001b[39m1\u001b[39m, test_size\u001b[39m=\u001b[39m\u001b[39m0.2\u001b[39m, random_state\u001b[39m=\u001b[39m\u001b[39m42\u001b[39m)\n\u001b[1;32m----> 2\u001b[0m \u001b[39mfor\u001b[39;00m train_index, test_index \u001b[39min\u001b[39;00m splitter\u001b[39m.\u001b[39;49msplit(df, df[\u001b[39m'\u001b[39;49m\u001b[39mRank\u001b[39;49m\u001b[39m'\u001b[39;49m]):\n\u001b[0;32m      3\u001b[0m   strat_train_set \u001b[39m=\u001b[39m df\u001b[39m.\u001b[39mloc[train_index]\n\u001b[0;32m      4\u001b[0m   strat_test_set \u001b[39m=\u001b[39m df\u001b[39m.\u001b[39mloc[test_index]\n",
            "File \u001b[1;32mc:\\Users\\Mateus\\AppData\\Local\\Programs\\Python\\Python310\\lib\\site-packages\\sklearn\\model_selection\\_split.py:2050\u001b[0m, in \u001b[0;36mStratifiedShuffleSplit.split\u001b[1;34m(self, X, y, groups)\u001b[0m\n\u001b[0;32m   2016\u001b[0m \u001b[39mdef\u001b[39;00m \u001b[39msplit\u001b[39m(\u001b[39mself\u001b[39m, X, y, groups\u001b[39m=\u001b[39m\u001b[39mNone\u001b[39;00m):\n\u001b[0;32m   2017\u001b[0m     \u001b[39m\"\"\"Generate indices to split data into training and test set.\u001b[39;00m\n\u001b[0;32m   2018\u001b[0m \n\u001b[0;32m   2019\u001b[0m \u001b[39m    Parameters\u001b[39;00m\n\u001b[1;32m   (...)\u001b[0m\n\u001b[0;32m   2048\u001b[0m \u001b[39m    to an integer.\u001b[39;00m\n\u001b[0;32m   2049\u001b[0m \u001b[39m    \"\"\"\u001b[39;00m\n\u001b[1;32m-> 2050\u001b[0m     y \u001b[39m=\u001b[39m check_array(y, input_name\u001b[39m=\u001b[39;49m\u001b[39m\"\u001b[39;49m\u001b[39my\u001b[39;49m\u001b[39m\"\u001b[39;49m, ensure_2d\u001b[39m=\u001b[39;49m\u001b[39mFalse\u001b[39;49;00m, dtype\u001b[39m=\u001b[39;49m\u001b[39mNone\u001b[39;49;00m)\n\u001b[0;32m   2051\u001b[0m     \u001b[39mreturn\u001b[39;00m \u001b[39msuper\u001b[39m()\u001b[39m.\u001b[39msplit(X, y, groups)\n",
            "File \u001b[1;32mc:\\Users\\Mateus\\AppData\\Local\\Programs\\Python\\Python310\\lib\\site-packages\\sklearn\\utils\\validation.py:899\u001b[0m, in \u001b[0;36mcheck_array\u001b[1;34m(array, accept_sparse, accept_large_sparse, dtype, order, copy, force_all_finite, ensure_2d, allow_nd, ensure_min_samples, ensure_min_features, estimator, input_name)\u001b[0m\n\u001b[0;32m    893\u001b[0m         \u001b[39mraise\u001b[39;00m \u001b[39mValueError\u001b[39;00m(\n\u001b[0;32m    894\u001b[0m             \u001b[39m\"\u001b[39m\u001b[39mFound array with dim \u001b[39m\u001b[39m%d\u001b[39;00m\u001b[39m. \u001b[39m\u001b[39m%s\u001b[39;00m\u001b[39m expected <= 2.\u001b[39m\u001b[39m\"\u001b[39m\n\u001b[0;32m    895\u001b[0m             \u001b[39m%\u001b[39m (array\u001b[39m.\u001b[39mndim, estimator_name)\n\u001b[0;32m    896\u001b[0m         )\n\u001b[0;32m    898\u001b[0m     \u001b[39mif\u001b[39;00m force_all_finite:\n\u001b[1;32m--> 899\u001b[0m         _assert_all_finite(\n\u001b[0;32m    900\u001b[0m             array,\n\u001b[0;32m    901\u001b[0m             input_name\u001b[39m=\u001b[39;49minput_name,\n\u001b[0;32m    902\u001b[0m             estimator_name\u001b[39m=\u001b[39;49mestimator_name,\n\u001b[0;32m    903\u001b[0m             allow_nan\u001b[39m=\u001b[39;49mforce_all_finite \u001b[39m==\u001b[39;49m \u001b[39m\"\u001b[39;49m\u001b[39mallow-nan\u001b[39;49m\u001b[39m\"\u001b[39;49m,\n\u001b[0;32m    904\u001b[0m         )\n\u001b[0;32m    906\u001b[0m \u001b[39mif\u001b[39;00m ensure_min_samples \u001b[39m>\u001b[39m \u001b[39m0\u001b[39m:\n\u001b[0;32m    907\u001b[0m     n_samples \u001b[39m=\u001b[39m _num_samples(array)\n",
            "File \u001b[1;32mc:\\Users\\Mateus\\AppData\\Local\\Programs\\Python\\Python310\\lib\\site-packages\\sklearn\\utils\\validation.py:151\u001b[0m, in \u001b[0;36m_assert_all_finite\u001b[1;34m(X, allow_nan, msg_dtype, estimator_name, input_name)\u001b[0m\n\u001b[0;32m    149\u001b[0m \u001b[39melif\u001b[39;00m X\u001b[39m.\u001b[39mdtype \u001b[39m==\u001b[39m np\u001b[39m.\u001b[39mdtype(\u001b[39m\"\u001b[39m\u001b[39mobject\u001b[39m\u001b[39m\"\u001b[39m) \u001b[39mand\u001b[39;00m \u001b[39mnot\u001b[39;00m allow_nan:\n\u001b[0;32m    150\u001b[0m     \u001b[39mif\u001b[39;00m _object_dtype_isnan(X)\u001b[39m.\u001b[39many():\n\u001b[1;32m--> 151\u001b[0m         \u001b[39mraise\u001b[39;00m \u001b[39mValueError\u001b[39;00m(\u001b[39m\"\u001b[39m\u001b[39mInput contains NaN\u001b[39m\u001b[39m\"\u001b[39m)\n",
            "\u001b[1;31mValueError\u001b[0m: Input contains NaN"
          ]
        }
      ],
      "source": [
        "splitter = StratifiedShuffleSplit(n_splits=1, test_size=0.2, random_state=42)\n",
        "for train_index, test_index in splitter.split(df, df['Rank']):\n",
        "  strat_train_set = df.loc[train_index]\n",
        "  strat_test_set = df.loc[test_index]"
      ]
    },
    {
      "cell_type": "code",
      "execution_count": null,
      "metadata": {},
      "outputs": [
        {
          "ename": "NameError",
          "evalue": "name 'strat_train_set' is not defined",
          "output_type": "error",
          "traceback": [
            "\u001b[1;31m---------------------------------------------------------------------------\u001b[0m",
            "\u001b[1;31mNameError\u001b[0m                                 Traceback (most recent call last)",
            "Cell \u001b[1;32mIn [161], line 1\u001b[0m\n\u001b[1;32m----> 1\u001b[0m strat_train_set\u001b[39m.\u001b[39mdrop(columns\u001b[39m=\u001b[39m[\u001b[39m'\u001b[39m\u001b[39mincome_cat\u001b[39m\u001b[39m'\u001b[39m], inplace\u001b[39m=\u001b[39m\u001b[39mTrue\u001b[39;00m)\n\u001b[0;32m      2\u001b[0m strat_test_set\u001b[39m.\u001b[39mdrop(columns\u001b[39m=\u001b[39m[\u001b[39m'\u001b[39m\u001b[39mincome_cat\u001b[39m\u001b[39m'\u001b[39m], inplace\u001b[39m=\u001b[39m\u001b[39mTrue\u001b[39;00m)\n",
            "\u001b[1;31mNameError\u001b[0m: name 'strat_train_set' is not defined"
          ]
        }
      ],
      "source": [
        "strat_train_set.drop(columns=['income_cat'], inplace=True)\n",
        "strat_test_set.drop(columns=['income_cat'], inplace=True)"
      ]
    },
    {
      "cell_type": "code",
      "execution_count": null,
      "metadata": {},
      "outputs": [
        {
          "ename": "NameError",
          "evalue": "name 'strat_test_set' is not defined",
          "output_type": "error",
          "traceback": [
            "\u001b[1;31m---------------------------------------------------------------------------\u001b[0m",
            "\u001b[1;31mNameError\u001b[0m                                 Traceback (most recent call last)",
            "Cell \u001b[1;32mIn [162], line 1\u001b[0m\n\u001b[1;32m----> 1\u001b[0m strat_test_set[\u001b[39m'\u001b[39m\u001b[39mtotal_cat\u001b[39m\u001b[39m'\u001b[39m]\u001b[39m.\u001b[39mvalue_counts()\n",
            "\u001b[1;31mNameError\u001b[0m: name 'strat_test_set' is not defined"
          ]
        }
      ],
      "source": [
        "strat_test_set['total_cat'].value_counts()"
      ]
    },
    {
      "cell_type": "markdown",
      "metadata": {},
      "source": [
        "### C. Exploração "
      ]
    },
    {
      "cell_type": "markdown",
      "metadata": {},
      "source": [
        "### D. Preparação"
      ]
    },
    {
      "cell_type": "markdown",
      "metadata": {
        "id": "Np4v0J4Lb5p_"
      },
      "source": [
        "##### a) Selecionando 10% das colunas"
      ]
    },
    {
      "cell_type": "markdown",
      "metadata": {},
      "source": [
        "No dataset utilizado existem somente 9 colunas, dessa forma:\n",
        "\n",
        "*    10% de 9 = 0.9\n",
        "*    Aproximando para 1, fica somente uma coluna a ser selecionada como referência para a modificação dos dados\n",
        "\n"
      ]
    },
    {
      "cell_type": "code",
      "execution_count": null,
      "metadata": {
        "colab": {
          "base_uri": "https://localhost:8080/"
        },
        "id": "5q4KQCWnb8E0",
        "outputId": "9b709cec-a07f-4915-bfa5-26b318191d37"
      },
      "outputs": [
        {
          "data": {
            "text/plain": [
              "'Die Size (mm^2)'"
            ]
          },
          "execution_count": 334,
          "metadata": {},
          "output_type": "execute_result"
        }
      ],
      "source": [
        "qtd_colunas = len(df.columns)\n",
        "p_colunas = round(qtd_colunas * 10 / 100)\n",
        "coluna_aleatoria = df.sample(n=p_colunas, axis='columns').keys()[0]\n",
        "colunas_numericas = df.describe().columns\n",
        "colunas_categoricas = df.describe(exclude=np.number).columns\n",
        "coluna_aleatoria # escolhendo uma coluna aleatoriamente"
      ]
    },
    {
      "cell_type": "markdown",
      "metadata": {
        "id": "Hkopa3lohtjf"
      },
      "source": [
        "##### a) Selecionando 3% dos dados"
      ]
    },
    {
      "cell_type": "code",
      "execution_count": null,
      "metadata": {
        "id": "HOtcB92hhvLg"
      },
      "outputs": [
        {
          "data": {
            "text/plain": [
              "145"
            ]
          },
          "execution_count": 335,
          "metadata": {},
          "output_type": "execute_result"
        }
      ],
      "source": [
        "p_3 = int(df.shape[0] * 3 / 100)\n",
        "p_3 # 3% de 1000 é igual a 30"
      ]
    },
    {
      "cell_type": "markdown",
      "metadata": {
        "id": "FQ4KHum3skz7"
      },
      "source": [
        "##### a) Excluindo 3% dos dados aleatoriamente"
      ]
    },
    {
      "cell_type": "code",
      "execution_count": null,
      "metadata": {
        "id": "gzSYvbRDysNe"
      },
      "outputs": [],
      "source": [
        "reg_nulos = df[df[coluna_aleatoria].isnull()]\n",
        "qtd_reg_nulos = reg_nulos.shape[0]\n",
        "reg_excluidos = df.sample(n=p_3)\n",
        "reg_exc_index = reg_excluidos.index.array\n",
        "df.loc[reg_exc_index, coluna_aleatoria] = np.nan"
      ]
    },
    {
      "cell_type": "markdown",
      "metadata": {
        "id": "Sxh3uWeotHrS"
      },
      "source": [
        "##### a) Alterando 3% dos dados aleatoriamente"
      ]
    },
    {
      "cell_type": "code",
      "execution_count": null,
      "metadata": {
        "id": "inRW488117mR"
      },
      "outputs": [],
      "source": [
        "def gerar_string_aleatoria():\n",
        "  letters = string.ascii_lowercase\n",
        "  return ''.join(random.choice(letters) for i in range(10)) \n",
        "\n",
        "def gerar_numero_aleatorio():\n",
        "  return random.randint(0, 999)"
      ]
    },
    {
      "cell_type": "code",
      "execution_count": null,
      "metadata": {
        "id": "yMzmcXenuM7q"
      },
      "outputs": [],
      "source": [
        "df_selecao_nao_nulo = df[~df[coluna_aleatoria].isnull()]\n",
        "reg_alterados = df_selecao_nao_nulo.sample(n=p_3)\n",
        "reg_alter_index = reg_alterados.index.array"
      ]
    },
    {
      "cell_type": "code",
      "execution_count": null,
      "metadata": {},
      "outputs": [],
      "source": [
        "if coluna_aleatoria in colunas_numericas:\n",
        "    for index in reg_alter_index:\n",
        "        df.loc[[index],[coluna_aleatoria]] = gerar_numero_aleatorio()\n",
        "else:\n",
        "    for index in reg_alter_index:\n",
        "        df.loc[[index],[coluna_aleatoria]] = gerar_string_aleatoria()"
      ]
    },
    {
      "cell_type": "markdown",
      "metadata": {},
      "source": [
        "#### b) Limpeza dos dados"
      ]
    },
    {
      "cell_type": "markdown",
      "metadata": {},
      "source": [
        "i. Codificação One-Hot"
      ]
    },
    {
      "cell_type": "code",
      "execution_count": null,
      "metadata": {},
      "outputs": [
        {
          "data": {
            "text/html": [
              "<div>\n",
              "<style scoped>\n",
              "    .dataframe tbody tr th:only-of-type {\n",
              "        vertical-align: middle;\n",
              "    }\n",
              "\n",
              "    .dataframe tbody tr th {\n",
              "        vertical-align: top;\n",
              "    }\n",
              "\n",
              "    .dataframe thead th {\n",
              "        text-align: right;\n",
              "    }\n",
              "</style>\n",
              "<table border=\"1\" class=\"dataframe\">\n",
              "  <thead>\n",
              "    <tr style=\"text-align: right;\">\n",
              "      <th></th>\n",
              "      <th>Product</th>\n",
              "      <th>Type</th>\n",
              "      <th>Release Date</th>\n",
              "      <th>Process Size (nm)</th>\n",
              "      <th>TDP (W)</th>\n",
              "      <th>Die Size (mm^2)</th>\n",
              "      <th>Transistors (million)</th>\n",
              "      <th>Freq (MHz)</th>\n",
              "      <th>Foundry</th>\n",
              "      <th>AMD</th>\n",
              "      <th>ATI</th>\n",
              "      <th>Intel</th>\n",
              "      <th>NVIDIA</th>\n",
              "      <th>Other</th>\n",
              "    </tr>\n",
              "  </thead>\n",
              "  <tbody>\n",
              "    <tr>\n",
              "      <th>0</th>\n",
              "      <td>AMD Athlon 64 3500+</td>\n",
              "      <td>CPU</td>\n",
              "      <td>2007-02-20</td>\n",
              "      <td>65.0</td>\n",
              "      <td>45.0</td>\n",
              "      <td>77.0</td>\n",
              "      <td>122.0</td>\n",
              "      <td>2200.0</td>\n",
              "      <td>Unknown</td>\n",
              "      <td>1.0</td>\n",
              "      <td>0.0</td>\n",
              "      <td>0.0</td>\n",
              "      <td>0.0</td>\n",
              "      <td>0.0</td>\n",
              "    </tr>\n",
              "    <tr>\n",
              "      <th>1</th>\n",
              "      <td>AMD Athlon 200GE</td>\n",
              "      <td>CPU</td>\n",
              "      <td>2018-09-06</td>\n",
              "      <td>14.0</td>\n",
              "      <td>35.0</td>\n",
              "      <td>192.0</td>\n",
              "      <td>4800.0</td>\n",
              "      <td>3200.0</td>\n",
              "      <td>Unknown</td>\n",
              "      <td>1.0</td>\n",
              "      <td>0.0</td>\n",
              "      <td>0.0</td>\n",
              "      <td>0.0</td>\n",
              "      <td>0.0</td>\n",
              "    </tr>\n",
              "    <tr>\n",
              "      <th>2</th>\n",
              "      <td>Intel Core i5-1145G7</td>\n",
              "      <td>CPU</td>\n",
              "      <td>2020-09-02</td>\n",
              "      <td>10.0</td>\n",
              "      <td>28.0</td>\n",
              "      <td>NaN</td>\n",
              "      <td>NaN</td>\n",
              "      <td>2600.0</td>\n",
              "      <td>Intel</td>\n",
              "      <td>0.0</td>\n",
              "      <td>0.0</td>\n",
              "      <td>1.0</td>\n",
              "      <td>0.0</td>\n",
              "      <td>0.0</td>\n",
              "    </tr>\n",
              "    <tr>\n",
              "      <th>3</th>\n",
              "      <td>Intel Xeon E5-2603 v2</td>\n",
              "      <td>CPU</td>\n",
              "      <td>2013-09-01</td>\n",
              "      <td>22.0</td>\n",
              "      <td>80.0</td>\n",
              "      <td>160.0</td>\n",
              "      <td>1400.0</td>\n",
              "      <td>1800.0</td>\n",
              "      <td>Intel</td>\n",
              "      <td>0.0</td>\n",
              "      <td>0.0</td>\n",
              "      <td>1.0</td>\n",
              "      <td>0.0</td>\n",
              "      <td>0.0</td>\n",
              "    </tr>\n",
              "    <tr>\n",
              "      <th>4</th>\n",
              "      <td>AMD Phenom II X4 980 BE</td>\n",
              "      <td>CPU</td>\n",
              "      <td>2011-05-03</td>\n",
              "      <td>45.0</td>\n",
              "      <td>125.0</td>\n",
              "      <td>258.0</td>\n",
              "      <td>758.0</td>\n",
              "      <td>3700.0</td>\n",
              "      <td>Unknown</td>\n",
              "      <td>1.0</td>\n",
              "      <td>0.0</td>\n",
              "      <td>0.0</td>\n",
              "      <td>0.0</td>\n",
              "      <td>0.0</td>\n",
              "    </tr>\n",
              "    <tr>\n",
              "      <th>...</th>\n",
              "      <td>...</td>\n",
              "      <td>...</td>\n",
              "      <td>...</td>\n",
              "      <td>...</td>\n",
              "      <td>...</td>\n",
              "      <td>...</td>\n",
              "      <td>...</td>\n",
              "      <td>...</td>\n",
              "      <td>...</td>\n",
              "      <td>...</td>\n",
              "      <td>...</td>\n",
              "      <td>...</td>\n",
              "      <td>...</td>\n",
              "      <td>...</td>\n",
              "    </tr>\n",
              "    <tr>\n",
              "      <th>4849</th>\n",
              "      <td>NVIDIA Quadro 3000M</td>\n",
              "      <td>GPU</td>\n",
              "      <td>2011-02-22</td>\n",
              "      <td>40.0</td>\n",
              "      <td>75.0</td>\n",
              "      <td>332.0</td>\n",
              "      <td>1950.0</td>\n",
              "      <td>450.0</td>\n",
              "      <td>TSMC</td>\n",
              "      <td>0.0</td>\n",
              "      <td>0.0</td>\n",
              "      <td>0.0</td>\n",
              "      <td>1.0</td>\n",
              "      <td>0.0</td>\n",
              "    </tr>\n",
              "    <tr>\n",
              "      <th>4850</th>\n",
              "      <td>Intel GMA 950</td>\n",
              "      <td>GPU</td>\n",
              "      <td>2005-06-01</td>\n",
              "      <td>90.0</td>\n",
              "      <td>7.0</td>\n",
              "      <td>NaN</td>\n",
              "      <td>NaN</td>\n",
              "      <td>250.0</td>\n",
              "      <td>Intel</td>\n",
              "      <td>0.0</td>\n",
              "      <td>0.0</td>\n",
              "      <td>1.0</td>\n",
              "      <td>0.0</td>\n",
              "      <td>0.0</td>\n",
              "    </tr>\n",
              "    <tr>\n",
              "      <th>4851</th>\n",
              "      <td>NVIDIA GeForce GT 320M</td>\n",
              "      <td>GPU</td>\n",
              "      <td>2010-03-03</td>\n",
              "      <td>40.0</td>\n",
              "      <td>23.0</td>\n",
              "      <td>100.0</td>\n",
              "      <td>486.0</td>\n",
              "      <td>500.0</td>\n",
              "      <td>TSMC</td>\n",
              "      <td>0.0</td>\n",
              "      <td>0.0</td>\n",
              "      <td>0.0</td>\n",
              "      <td>1.0</td>\n",
              "      <td>0.0</td>\n",
              "    </tr>\n",
              "    <tr>\n",
              "      <th>4852</th>\n",
              "      <td>NVIDIA GeForce FX 5200</td>\n",
              "      <td>GPU</td>\n",
              "      <td>2003-03-06</td>\n",
              "      <td>150.0</td>\n",
              "      <td>NaN</td>\n",
              "      <td>65.0</td>\n",
              "      <td>29.0</td>\n",
              "      <td>250.0</td>\n",
              "      <td>TSMC</td>\n",
              "      <td>0.0</td>\n",
              "      <td>0.0</td>\n",
              "      <td>0.0</td>\n",
              "      <td>1.0</td>\n",
              "      <td>0.0</td>\n",
              "    </tr>\n",
              "    <tr>\n",
              "      <th>4853</th>\n",
              "      <td>NVIDIA GeForce 9300 SE</td>\n",
              "      <td>GPU</td>\n",
              "      <td>2008-06-01</td>\n",
              "      <td>65.0</td>\n",
              "      <td>NaN</td>\n",
              "      <td>86.0</td>\n",
              "      <td>210.0</td>\n",
              "      <td>540.0</td>\n",
              "      <td>TSMC</td>\n",
              "      <td>0.0</td>\n",
              "      <td>0.0</td>\n",
              "      <td>0.0</td>\n",
              "      <td>1.0</td>\n",
              "      <td>0.0</td>\n",
              "    </tr>\n",
              "  </tbody>\n",
              "</table>\n",
              "<p>4854 rows × 14 columns</p>\n",
              "</div>"
            ],
            "text/plain": [
              "                      Product Type Release Date  Process Size (nm)  TDP (W)  \\\n",
              "0         AMD Athlon 64 3500+  CPU   2007-02-20               65.0     45.0   \n",
              "1            AMD Athlon 200GE  CPU   2018-09-06               14.0     35.0   \n",
              "2        Intel Core i5-1145G7  CPU   2020-09-02               10.0     28.0   \n",
              "3       Intel Xeon E5-2603 v2  CPU   2013-09-01               22.0     80.0   \n",
              "4     AMD Phenom II X4 980 BE  CPU   2011-05-03               45.0    125.0   \n",
              "...                       ...  ...          ...                ...      ...   \n",
              "4849      NVIDIA Quadro 3000M  GPU   2011-02-22               40.0     75.0   \n",
              "4850            Intel GMA 950  GPU   2005-06-01               90.0      7.0   \n",
              "4851   NVIDIA GeForce GT 320M  GPU   2010-03-03               40.0     23.0   \n",
              "4852   NVIDIA GeForce FX 5200  GPU   2003-03-06              150.0      NaN   \n",
              "4853   NVIDIA GeForce 9300 SE  GPU   2008-06-01               65.0      NaN   \n",
              "\n",
              "      Die Size (mm^2)  Transistors (million)  Freq (MHz)  Foundry  AMD  ATI  \\\n",
              "0                77.0                  122.0      2200.0  Unknown  1.0  0.0   \n",
              "1               192.0                 4800.0      3200.0  Unknown  1.0  0.0   \n",
              "2                 NaN                    NaN      2600.0    Intel  0.0  0.0   \n",
              "3               160.0                 1400.0      1800.0    Intel  0.0  0.0   \n",
              "4               258.0                  758.0      3700.0  Unknown  1.0  0.0   \n",
              "...               ...                    ...         ...      ...  ...  ...   \n",
              "4849            332.0                 1950.0       450.0     TSMC  0.0  0.0   \n",
              "4850              NaN                    NaN       250.0    Intel  0.0  0.0   \n",
              "4851            100.0                  486.0       500.0     TSMC  0.0  0.0   \n",
              "4852             65.0                   29.0       250.0     TSMC  0.0  0.0   \n",
              "4853             86.0                  210.0       540.0     TSMC  0.0  0.0   \n",
              "\n",
              "      Intel  NVIDIA  Other  \n",
              "0       0.0     0.0    0.0  \n",
              "1       0.0     0.0    0.0  \n",
              "2       1.0     0.0    0.0  \n",
              "3       1.0     0.0    0.0  \n",
              "4       0.0     0.0    0.0  \n",
              "...     ...     ...    ...  \n",
              "4849    0.0     1.0    0.0  \n",
              "4850    1.0     0.0    0.0  \n",
              "4851    0.0     1.0    0.0  \n",
              "4852    0.0     1.0    0.0  \n",
              "4853    0.0     1.0    0.0  \n",
              "\n",
              "[4854 rows x 14 columns]"
            ]
          },
          "execution_count": 340,
          "metadata": {},
          "output_type": "execute_result"
        }
      ],
      "source": [
        "encoder = OneHotEncoder()\n",
        "onehot_encoded_df = pd.DataFrame(encoder.fit_transform(df[['Vendor']]).toarray())\n",
        "onehot_encoded_df.columns = vendors\n",
        "\n",
        "onehot_encoded_df = df.join(onehot_encoded_df)\n",
        "onehot_encoded_df.drop('Vendor', axis=1, inplace=True)\n",
        "onehot_encoded_df"
      ]
    },
    {
      "cell_type": "markdown",
      "metadata": {},
      "source": [
        "ii. Estratégia para dados numéricos ausentes - média"
      ]
    },
    {
      "cell_type": "markdown",
      "metadata": {},
      "source": [
        "A atribuição da mediana geral foi utilizada para lidar com os valores nulos das colunas em que existiam, pelos seguintes motivos:\n",
        "\n",
        "*   Número pequeno de colunas, logo a remoção completa de cada coluna em que houvesse valor nulo acarretaria na perda desnecessária de informações\n",
        "*   Facilidade na implementação em comparação com o treinamento de predição e atribuição\n",
        "*   Coesão com o dataset, visto que logo no primeiro quartil a coluna 'Meta_score' apresenta valor próximo à média\n"
      ]
    },
    {
      "cell_type": "markdown",
      "metadata": {},
      "source": [
        "iii. Escalonamento de características: Padronização"
      ]
    },
    {
      "cell_type": "markdown",
      "metadata": {},
      "source": [
        "iv. Pipeline transformadora"
      ]
    },
    {
      "cell_type": "code",
      "execution_count": null,
      "metadata": {},
      "outputs": [],
      "source": [
        "num_pipeline = Pipeline([\n",
        "        ('imputer', SimpleImputer(strategy=\"mean\")),        \n",
        "        ('std_scaler', StandardScaler()),\n",
        "    ])\n",
        "\n",
        "full_pipeline = ColumnTransformer([\n",
        "        ('num', num_pipeline, num_attribs),\n",
        "        ('cat', OneHotEncoder(), cat_attribs),\n",
        "    ])"
      ]
    },
    {
      "cell_type": "code",
      "execution_count": null,
      "metadata": {},
      "outputs": [],
      "source": [
        "df_prepared = full_pipeline.fit_transform(df)"
      ]
    }
  ],
  "metadata": {
    "colab": {
      "include_colab_link": true,
      "provenance": []
    },
    "kernelspec": {
      "display_name": "Python 3.10.5 64-bit",
      "language": "python",
      "name": "python3"
    },
    "language_info": {
      "codemirror_mode": {
        "name": "ipython",
        "version": 3
      },
      "file_extension": ".py",
      "mimetype": "text/x-python",
      "name": "python",
      "nbconvert_exporter": "python",
      "pygments_lexer": "ipython3",
      "version": "3.10.5"
    },
    "vscode": {
      "interpreter": {
        "hash": "5d9fba1cd5e1ffbfbb421c0ed9a1d458d6f881796a532c13386a7fee90909a26"
      }
    }
  },
  "nbformat": 4,
  "nbformat_minor": 0
}
