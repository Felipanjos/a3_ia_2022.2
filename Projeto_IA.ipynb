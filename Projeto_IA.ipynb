{
  "cells": [
    {
      "cell_type": "markdown",
      "metadata": {
        "colab_type": "text",
        "id": "view-in-github"
      },
      "source": [
        "<a href=\"https://colab.research.google.com/github/Felipanjos/a3_ia_2022.2/blob/main/Projeto_IA.ipynb\" target=\"_parent\"><img src=\"https://colab.research.google.com/assets/colab-badge.svg\" alt=\"Open In Colab\"/></a>"
      ]
    },
    {
      "cell_type": "markdown",
      "metadata": {},
      "source": [
        "### D. Preparação dos dados"
      ]
    },
    {
      "cell_type": "code",
      "execution_count": 92,
      "metadata": {
        "id": "FGHweZQuwPte"
      },
      "outputs": [],
      "source": [
        "import pandas as pd\n",
        "import numpy as np\n",
        "import random\n",
        "import string\n",
        "import sklearn\n",
        "from itertools import groupby"
      ]
    },
    {
      "cell_type": "code",
      "execution_count": 93,
      "metadata": {},
      "outputs": [],
      "source": [
        "df = pd.read_csv('houses_to_rent.csv', index_col=[0])\n",
        "df = df[['area', 'rooms', 'bathroom', 'parking spaces', 'floor', 'animal', 'furniture', 'hoa']]"
      ]
    },
    {
      "cell_type": "code",
      "execution_count": 94,
      "metadata": {},
      "outputs": [
        {
          "data": {
            "text/plain": [
              "array(['-', '1', '10', '11', '12', '13', '14', '15', '16', '17', '18',\n",
              "       '19', '2', '20', '21', '22', '23', '24', '25', '26', '27', '28',\n",
              "       '29', '3', '31', '32', '35', '4', '5', '51', '6', '68', '7', '8',\n",
              "       '85', '9', '99'], dtype=object)"
            ]
          },
          "execution_count": 94,
          "metadata": {},
          "output_type": "execute_result"
        }
      ],
      "source": [
        "np.unique(df['floor'])"
      ]
    },
    {
      "cell_type": "code",
      "execution_count": 95,
      "metadata": {},
      "outputs": [
        {
          "name": "stderr",
          "output_type": "stream",
          "text": [
            "C:\\Users\\anjos\\AppData\\Local\\Temp\\ipykernel_16332\\1024998385.py:7: SettingWithCopyWarning: \n",
            "A value is trying to be set on a copy of a slice from a DataFrame\n",
            "\n",
            "See the caveats in the documentation: https://pandas.pydata.org/pandas-docs/stable/user_guide/indexing.html#returning-a-view-versus-a-copy\n",
            "  df['hoa'][index] = float(\"nan\")\n",
            "C:\\Users\\anjos\\AppData\\Local\\Temp\\ipykernel_16332\\1024998385.py:9: SettingWithCopyWarning: \n",
            "A value is trying to be set on a copy of a slice from a DataFrame\n",
            "\n",
            "See the caveats in the documentation: https://pandas.pydata.org/pandas-docs/stable/user_guide/indexing.html#returning-a-view-versus-a-copy\n",
            "  df['floor'][index] = 0\n"
          ]
        }
      ],
      "source": [
        "sem_aluguel = df.index[df['hoa'] == 'R$0'].tolist()\n",
        "terreo = df.index[df['floor'] == '-'].tolist()\n",
        "df['hoa'] = df['hoa'].str.replace(',', '')\n",
        "df['hoa'] = df['hoa'].str.replace(r'\\D+','', regex=True)\n",
        "\n",
        "for index in sem_aluguel:\n",
        "    df['hoa'][index] = float(\"nan\")\n",
        "for index in terreo:\n",
        "    df['floor'][index] = 0"
      ]
    },
    {
      "cell_type": "code",
      "execution_count": 96,
      "metadata": {},
      "outputs": [
        {
          "data": {
            "text/html": [
              "<div>\n",
              "<style scoped>\n",
              "    .dataframe tbody tr th:only-of-type {\n",
              "        vertical-align: middle;\n",
              "    }\n",
              "\n",
              "    .dataframe tbody tr th {\n",
              "        vertical-align: top;\n",
              "    }\n",
              "\n",
              "    .dataframe thead th {\n",
              "        text-align: right;\n",
              "    }\n",
              "</style>\n",
              "<table border=\"1\" class=\"dataframe\">\n",
              "  <thead>\n",
              "    <tr style=\"text-align: right;\">\n",
              "      <th></th>\n",
              "      <th>area</th>\n",
              "      <th>rooms</th>\n",
              "      <th>bathroom</th>\n",
              "      <th>parking spaces</th>\n",
              "      <th>floor</th>\n",
              "      <th>animal</th>\n",
              "      <th>furniture</th>\n",
              "      <th>hoa</th>\n",
              "    </tr>\n",
              "  </thead>\n",
              "  <tbody>\n",
              "    <tr>\n",
              "      <th>0</th>\n",
              "      <td>240</td>\n",
              "      <td>3</td>\n",
              "      <td>3</td>\n",
              "      <td>4</td>\n",
              "      <td>0</td>\n",
              "      <td>acept</td>\n",
              "      <td>furnished</td>\n",
              "      <td>NaN</td>\n",
              "    </tr>\n",
              "    <tr>\n",
              "      <th>1</th>\n",
              "      <td>64</td>\n",
              "      <td>2</td>\n",
              "      <td>1</td>\n",
              "      <td>1</td>\n",
              "      <td>10</td>\n",
              "      <td>acept</td>\n",
              "      <td>not furnished</td>\n",
              "      <td>540</td>\n",
              "    </tr>\n",
              "    <tr>\n",
              "      <th>2</th>\n",
              "      <td>443</td>\n",
              "      <td>5</td>\n",
              "      <td>5</td>\n",
              "      <td>4</td>\n",
              "      <td>3</td>\n",
              "      <td>acept</td>\n",
              "      <td>furnished</td>\n",
              "      <td>4172</td>\n",
              "    </tr>\n",
              "    <tr>\n",
              "      <th>3</th>\n",
              "      <td>73</td>\n",
              "      <td>2</td>\n",
              "      <td>2</td>\n",
              "      <td>1</td>\n",
              "      <td>12</td>\n",
              "      <td>acept</td>\n",
              "      <td>not furnished</td>\n",
              "      <td>700</td>\n",
              "    </tr>\n",
              "    <tr>\n",
              "      <th>4</th>\n",
              "      <td>19</td>\n",
              "      <td>1</td>\n",
              "      <td>1</td>\n",
              "      <td>0</td>\n",
              "      <td>0</td>\n",
              "      <td>not acept</td>\n",
              "      <td>not furnished</td>\n",
              "      <td>NaN</td>\n",
              "    </tr>\n",
              "    <tr>\n",
              "      <th>...</th>\n",
              "      <td>...</td>\n",
              "      <td>...</td>\n",
              "      <td>...</td>\n",
              "      <td>...</td>\n",
              "      <td>...</td>\n",
              "      <td>...</td>\n",
              "      <td>...</td>\n",
              "      <td>...</td>\n",
              "    </tr>\n",
              "    <tr>\n",
              "      <th>6075</th>\n",
              "      <td>50</td>\n",
              "      <td>2</td>\n",
              "      <td>1</td>\n",
              "      <td>1</td>\n",
              "      <td>2</td>\n",
              "      <td>acept</td>\n",
              "      <td>not furnished</td>\n",
              "      <td>420</td>\n",
              "    </tr>\n",
              "    <tr>\n",
              "      <th>6076</th>\n",
              "      <td>84</td>\n",
              "      <td>2</td>\n",
              "      <td>2</td>\n",
              "      <td>1</td>\n",
              "      <td>16</td>\n",
              "      <td>not acept</td>\n",
              "      <td>furnished</td>\n",
              "      <td>768</td>\n",
              "    </tr>\n",
              "    <tr>\n",
              "      <th>6077</th>\n",
              "      <td>48</td>\n",
              "      <td>1</td>\n",
              "      <td>1</td>\n",
              "      <td>0</td>\n",
              "      <td>13</td>\n",
              "      <td>acept</td>\n",
              "      <td>not furnished</td>\n",
              "      <td>250</td>\n",
              "    </tr>\n",
              "    <tr>\n",
              "      <th>6078</th>\n",
              "      <td>160</td>\n",
              "      <td>3</td>\n",
              "      <td>2</td>\n",
              "      <td>2</td>\n",
              "      <td>0</td>\n",
              "      <td>not acept</td>\n",
              "      <td>not furnished</td>\n",
              "      <td>NaN</td>\n",
              "    </tr>\n",
              "    <tr>\n",
              "      <th>6079</th>\n",
              "      <td>60</td>\n",
              "      <td>2</td>\n",
              "      <td>1</td>\n",
              "      <td>1</td>\n",
              "      <td>4</td>\n",
              "      <td>acept</td>\n",
              "      <td>furnished</td>\n",
              "      <td>489</td>\n",
              "    </tr>\n",
              "  </tbody>\n",
              "</table>\n",
              "<p>6080 rows × 8 columns</p>\n",
              "</div>"
            ],
            "text/plain": [
              "      area  rooms  bathroom  parking spaces floor     animal      furniture  \\\n",
              "0      240      3         3               4     0      acept      furnished   \n",
              "1       64      2         1               1    10      acept  not furnished   \n",
              "2      443      5         5               4     3      acept      furnished   \n",
              "3       73      2         2               1    12      acept  not furnished   \n",
              "4       19      1         1               0     0  not acept  not furnished   \n",
              "...    ...    ...       ...             ...   ...        ...            ...   \n",
              "6075    50      2         1               1     2      acept  not furnished   \n",
              "6076    84      2         2               1    16  not acept      furnished   \n",
              "6077    48      1         1               0    13      acept  not furnished   \n",
              "6078   160      3         2               2     0  not acept  not furnished   \n",
              "6079    60      2         1               1     4      acept      furnished   \n",
              "\n",
              "       hoa  \n",
              "0      NaN  \n",
              "1      540  \n",
              "2     4172  \n",
              "3      700  \n",
              "4      NaN  \n",
              "...    ...  \n",
              "6075   420  \n",
              "6076   768  \n",
              "6077   250  \n",
              "6078   NaN  \n",
              "6079   489  \n",
              "\n",
              "[6080 rows x 8 columns]"
            ]
          },
          "execution_count": 96,
          "metadata": {},
          "output_type": "execute_result"
        }
      ],
      "source": [
        "df"
      ]
    },
    {
      "cell_type": "code",
      "execution_count": 97,
      "metadata": {},
      "outputs": [],
      "source": [
        "def obj_column_to_int(column):\n",
        "    column.convert_dtypes()\n",
        "    pd.to_numeric(column, errors='coerce')\n",
        "    return pd.to_numeric(column.convert_dtypes(), errors='coerce').convert_dtypes() \n",
        "\n",
        "df['floor'] = obj_column_to_int(df['floor'])\n",
        "df['hoa'] = obj_column_to_int(df['hoa'])\n"
      ]
    },
    {
      "cell_type": "markdown",
      "metadata": {
        "id": "Np4v0J4Lb5p_"
      },
      "source": [
        "##### a) Selecionando 10% das colunas"
      ]
    },
    {
      "cell_type": "markdown",
      "metadata": {},
      "source": [
        "No dataset utilizado existem somente 9 colunas, dessa forma:\n",
        "\n",
        "*    10% de 9 = 0.9\n",
        "*    Aproximando para 1, fica somente uma coluna a ser selecionada como referência para a modificação dos dados\n",
        "\n"
      ]
    },
    {
      "cell_type": "code",
      "execution_count": 98,
      "metadata": {
        "colab": {
          "base_uri": "https://localhost:8080/"
        },
        "id": "5q4KQCWnb8E0",
        "outputId": "9b709cec-a07f-4915-bfa5-26b318191d37"
      },
      "outputs": [
        {
          "data": {
            "text/plain": [
              "'bathroom'"
            ]
          },
          "execution_count": 98,
          "metadata": {},
          "output_type": "execute_result"
        }
      ],
      "source": [
        "qtd_colunas = len(df.columns)\n",
        "p_colunas = round(qtd_colunas * 10 / 100)\n",
        "coluna_aleatoria = df.sample(n=p_colunas, axis='columns').keys()[0]\n",
        "colunas_numericas = df.describe().columns\n",
        "colunas_categoricas = df.describe(exclude=np.number).columns\n",
        "coluna_aleatoria # escolhendo uma coluna aleatoriamente"
      ]
    },
    {
      "cell_type": "markdown",
      "metadata": {
        "id": "Hkopa3lohtjf"
      },
      "source": [
        "##### a) Selecionando 3% dos dados"
      ]
    },
    {
      "cell_type": "code",
      "execution_count": 99,
      "metadata": {
        "id": "HOtcB92hhvLg"
      },
      "outputs": [
        {
          "data": {
            "text/plain": [
              "182"
            ]
          },
          "execution_count": 99,
          "metadata": {},
          "output_type": "execute_result"
        }
      ],
      "source": [
        "p_3 = int(df.shape[0] * 3 / 100)\n",
        "p_3 # 3% de 1000 é igual a 30"
      ]
    },
    {
      "cell_type": "markdown",
      "metadata": {
        "id": "FQ4KHum3skz7"
      },
      "source": [
        "##### a) Excluindo 3% dos dados aleatoriamente"
      ]
    },
    {
      "cell_type": "code",
      "execution_count": 100,
      "metadata": {
        "id": "gzSYvbRDysNe"
      },
      "outputs": [],
      "source": [
        "reg_nulos = df[df[coluna_aleatoria].isnull()]\n",
        "qtd_reg_nulos = reg_nulos.shape[0]\n",
        "reg_excluidos = df.sample(n=p_3)\n",
        "reg_exc_index = reg_excluidos.index.array\n",
        "df.loc[reg_exc_index, coluna_aleatoria] = np.nan"
      ]
    },
    {
      "cell_type": "markdown",
      "metadata": {
        "id": "Sxh3uWeotHrS"
      },
      "source": [
        "##### a) Alterando 3% dos dados aleatoriamente"
      ]
    },
    {
      "cell_type": "code",
      "execution_count": 101,
      "metadata": {
        "id": "inRW488117mR"
      },
      "outputs": [],
      "source": [
        "def gerar_string_aleatoria():\n",
        "  letters = string.ascii_lowercase\n",
        "  return ''.join(random.choice(letters) for i in range(10)) \n",
        "\n",
        "def gerar_numero_aleatorio():\n",
        "  return random.randint(0, 999)"
      ]
    },
    {
      "cell_type": "code",
      "execution_count": 102,
      "metadata": {
        "id": "yMzmcXenuM7q"
      },
      "outputs": [],
      "source": [
        "df_selecao_nao_nulo = df[~df[coluna_aleatoria].isnull()]\n",
        "reg_alterados = df_selecao_nao_nulo.sample(n=p_3)\n",
        "reg_alter_index = reg_alterados.index.array"
      ]
    },
    {
      "cell_type": "code",
      "execution_count": 103,
      "metadata": {},
      "outputs": [],
      "source": [
        "if coluna_aleatoria in colunas_numericas:\n",
        "    for index in reg_alter_index:\n",
        "        df.loc[[index],[coluna_aleatoria]] = gerar_numero_aleatorio()\n",
        "else:\n",
        "    for index in reg_alter_index:\n",
        "        df.loc[[index],[coluna_aleatoria]] = gerar_string_aleatoria()"
      ]
    },
    {
      "cell_type": "markdown",
      "metadata": {},
      "source": [
        "#### b) Limpeza dos dados"
      ]
    },
    {
      "cell_type": "markdown",
      "metadata": {},
      "source": [
        "i. Codificação One-Hot"
      ]
    },
    {
      "cell_type": "markdown",
      "metadata": {},
      "source": [
        "pos_encoded.toarray()"
      ]
    },
    {
      "cell_type": "markdown",
      "metadata": {},
      "source": [
        "A atribuição da mediana geral foi utilizada para lidar com os valores nulos das colunas em que existiam, pelos seguintes motivos:\n",
        "\n",
        "*   Número relativamente pequeno de linhas (1000), o que ocasionaria numa maior escassez de dados caso as linhas com valores nulos fossem removidas\n",
        "*   Número pequeno de colunas, logo a remoção completa de cada coluna em que houvesse valor nulo acarretaria na perda desnecessária de informações\n",
        "*   Facilidade na implementação em comparação com o treinamento de predição e atribuição\n",
        "*   Coesão com o dataset, visto que logo no primeiro quartil a coluna 'Meta_score' apresenta valor próximo à média\n",
        "\n",
        "Após implementação da correção, o dataset não conta mais com valores nulos.\n"
      ]
    },
    {
      "cell_type": "code",
      "execution_count": 104,
      "metadata": {},
      "outputs": [],
      "source": [
        "from sklearn.pipeline import Pipeline\n",
        "from sklearn.preprocessing import StandardScaler\n",
        "from sklearn.impute import SimpleImputer\n",
        "\n",
        "num_pipeline = Pipeline([\n",
        "        ('imputer', SimpleImputer(strategy=\"mean\")),        \n",
        "        ('std_scaler', StandardScaler()),\n",
        "    ])"
      ]
    },
    {
      "cell_type": "code",
      "execution_count": 105,
      "metadata": {},
      "outputs": [],
      "source": [
        "from sklearn.preprocessing import OneHotEncoder\n",
        "\n",
        "num_attribs = list(df.describe().columns)\n",
        "cat_attribs = ['animal', 'furniture']"
      ]
    },
    {
      "cell_type": "code",
      "execution_count": 106,
      "metadata": {},
      "outputs": [],
      "source": [
        "from sklearn.compose import ColumnTransformer\n",
        "\n",
        "full_pipeline = ColumnTransformer([\n",
        "        (\"num\", num_pipeline, num_attribs),\n",
        "        (\"cat\", OneHotEncoder(), cat_attribs),\n",
        "    ])"
      ]
    },
    {
      "cell_type": "code",
      "execution_count": 107,
      "metadata": {},
      "outputs": [],
      "source": [
        "hoa = df['hoa']\n",
        "df.drop('hoa', axis=1, inplace=True)\n",
        "df.insert(5, 'hoa', hoa.values)\n",
        "df.insert(6, 'no_animal', df['animal'].values)\n",
        "df.insert(9, 'no_furniture', df['furniture'].values)\n",
        "df.rename({'no_animal': 'animal', 'animal':'no_animal'}, axis=1, inplace=True)\n",
        "\n",
        "df_prepared = full_pipeline.fit_transform(df)"
      ]
    },
    {
      "cell_type": "code",
      "execution_count": 108,
      "metadata": {},
      "outputs": [],
      "source": [
        "scaled_df = pd.DataFrame(df_prepared, index=df.index, columns=df.columns)"
      ]
    },
    {
      "cell_type": "code",
      "execution_count": 109,
      "metadata": {},
      "outputs": [
        {
          "data": {
            "text/html": [
              "<div>\n",
              "<style scoped>\n",
              "    .dataframe tbody tr th:only-of-type {\n",
              "        vertical-align: middle;\n",
              "    }\n",
              "\n",
              "    .dataframe tbody tr th {\n",
              "        vertical-align: top;\n",
              "    }\n",
              "\n",
              "    .dataframe thead th {\n",
              "        text-align: right;\n",
              "    }\n",
              "</style>\n",
              "<table border=\"1\" class=\"dataframe\">\n",
              "  <thead>\n",
              "    <tr style=\"text-align: right;\">\n",
              "      <th></th>\n",
              "      <th>area</th>\n",
              "      <th>rooms</th>\n",
              "      <th>bathroom</th>\n",
              "      <th>parking spaces</th>\n",
              "      <th>floor</th>\n",
              "      <th>hoa</th>\n",
              "      <th>animal</th>\n",
              "      <th>no_animal</th>\n",
              "      <th>furniture</th>\n",
              "      <th>no_furniture</th>\n",
              "    </tr>\n",
              "  </thead>\n",
              "  <tbody>\n",
              "    <tr>\n",
              "      <th>0</th>\n",
              "      <td>240</td>\n",
              "      <td>3</td>\n",
              "      <td>3.0</td>\n",
              "      <td>4</td>\n",
              "      <td>0</td>\n",
              "      <td>&lt;NA&gt;</td>\n",
              "      <td>acept</td>\n",
              "      <td>acept</td>\n",
              "      <td>furnished</td>\n",
              "      <td>furnished</td>\n",
              "    </tr>\n",
              "    <tr>\n",
              "      <th>1</th>\n",
              "      <td>64</td>\n",
              "      <td>2</td>\n",
              "      <td>1.0</td>\n",
              "      <td>1</td>\n",
              "      <td>10</td>\n",
              "      <td>540</td>\n",
              "      <td>acept</td>\n",
              "      <td>acept</td>\n",
              "      <td>not furnished</td>\n",
              "      <td>not furnished</td>\n",
              "    </tr>\n",
              "    <tr>\n",
              "      <th>2</th>\n",
              "      <td>443</td>\n",
              "      <td>5</td>\n",
              "      <td>5.0</td>\n",
              "      <td>4</td>\n",
              "      <td>3</td>\n",
              "      <td>4172</td>\n",
              "      <td>acept</td>\n",
              "      <td>acept</td>\n",
              "      <td>furnished</td>\n",
              "      <td>furnished</td>\n",
              "    </tr>\n",
              "    <tr>\n",
              "      <th>3</th>\n",
              "      <td>73</td>\n",
              "      <td>2</td>\n",
              "      <td>140.0</td>\n",
              "      <td>1</td>\n",
              "      <td>12</td>\n",
              "      <td>700</td>\n",
              "      <td>acept</td>\n",
              "      <td>acept</td>\n",
              "      <td>not furnished</td>\n",
              "      <td>not furnished</td>\n",
              "    </tr>\n",
              "    <tr>\n",
              "      <th>4</th>\n",
              "      <td>19</td>\n",
              "      <td>1</td>\n",
              "      <td>1.0</td>\n",
              "      <td>0</td>\n",
              "      <td>0</td>\n",
              "      <td>&lt;NA&gt;</td>\n",
              "      <td>not acept</td>\n",
              "      <td>not acept</td>\n",
              "      <td>not furnished</td>\n",
              "      <td>not furnished</td>\n",
              "    </tr>\n",
              "    <tr>\n",
              "      <th>...</th>\n",
              "      <td>...</td>\n",
              "      <td>...</td>\n",
              "      <td>...</td>\n",
              "      <td>...</td>\n",
              "      <td>...</td>\n",
              "      <td>...</td>\n",
              "      <td>...</td>\n",
              "      <td>...</td>\n",
              "      <td>...</td>\n",
              "      <td>...</td>\n",
              "    </tr>\n",
              "    <tr>\n",
              "      <th>6075</th>\n",
              "      <td>50</td>\n",
              "      <td>2</td>\n",
              "      <td>1.0</td>\n",
              "      <td>1</td>\n",
              "      <td>2</td>\n",
              "      <td>420</td>\n",
              "      <td>acept</td>\n",
              "      <td>acept</td>\n",
              "      <td>not furnished</td>\n",
              "      <td>not furnished</td>\n",
              "    </tr>\n",
              "    <tr>\n",
              "      <th>6076</th>\n",
              "      <td>84</td>\n",
              "      <td>2</td>\n",
              "      <td>2.0</td>\n",
              "      <td>1</td>\n",
              "      <td>16</td>\n",
              "      <td>768</td>\n",
              "      <td>not acept</td>\n",
              "      <td>not acept</td>\n",
              "      <td>furnished</td>\n",
              "      <td>furnished</td>\n",
              "    </tr>\n",
              "    <tr>\n",
              "      <th>6077</th>\n",
              "      <td>48</td>\n",
              "      <td>1</td>\n",
              "      <td>1.0</td>\n",
              "      <td>0</td>\n",
              "      <td>13</td>\n",
              "      <td>250</td>\n",
              "      <td>acept</td>\n",
              "      <td>acept</td>\n",
              "      <td>not furnished</td>\n",
              "      <td>not furnished</td>\n",
              "    </tr>\n",
              "    <tr>\n",
              "      <th>6078</th>\n",
              "      <td>160</td>\n",
              "      <td>3</td>\n",
              "      <td>2.0</td>\n",
              "      <td>2</td>\n",
              "      <td>0</td>\n",
              "      <td>&lt;NA&gt;</td>\n",
              "      <td>not acept</td>\n",
              "      <td>not acept</td>\n",
              "      <td>not furnished</td>\n",
              "      <td>not furnished</td>\n",
              "    </tr>\n",
              "    <tr>\n",
              "      <th>6079</th>\n",
              "      <td>60</td>\n",
              "      <td>2</td>\n",
              "      <td>1.0</td>\n",
              "      <td>1</td>\n",
              "      <td>4</td>\n",
              "      <td>489</td>\n",
              "      <td>acept</td>\n",
              "      <td>acept</td>\n",
              "      <td>furnished</td>\n",
              "      <td>furnished</td>\n",
              "    </tr>\n",
              "  </tbody>\n",
              "</table>\n",
              "<p>6080 rows × 10 columns</p>\n",
              "</div>"
            ],
            "text/plain": [
              "      area  rooms  bathroom  parking spaces  floor   hoa     animal  \\\n",
              "0      240      3       3.0               4      0  <NA>      acept   \n",
              "1       64      2       1.0               1     10   540      acept   \n",
              "2      443      5       5.0               4      3  4172      acept   \n",
              "3       73      2     140.0               1     12   700      acept   \n",
              "4       19      1       1.0               0      0  <NA>  not acept   \n",
              "...    ...    ...       ...             ...    ...   ...        ...   \n",
              "6075    50      2       1.0               1      2   420      acept   \n",
              "6076    84      2       2.0               1     16   768  not acept   \n",
              "6077    48      1       1.0               0     13   250      acept   \n",
              "6078   160      3       2.0               2      0  <NA>  not acept   \n",
              "6079    60      2       1.0               1      4   489      acept   \n",
              "\n",
              "      no_animal      furniture   no_furniture  \n",
              "0         acept      furnished      furnished  \n",
              "1         acept  not furnished  not furnished  \n",
              "2         acept      furnished      furnished  \n",
              "3         acept  not furnished  not furnished  \n",
              "4     not acept  not furnished  not furnished  \n",
              "...         ...            ...            ...  \n",
              "6075      acept  not furnished  not furnished  \n",
              "6076  not acept      furnished      furnished  \n",
              "6077      acept  not furnished  not furnished  \n",
              "6078  not acept  not furnished  not furnished  \n",
              "6079      acept      furnished      furnished  \n",
              "\n",
              "[6080 rows x 10 columns]"
            ]
          },
          "execution_count": 109,
          "metadata": {},
          "output_type": "execute_result"
        }
      ],
      "source": [
        "df"
      ]
    },
    {
      "cell_type": "code",
      "execution_count": 110,
      "metadata": {},
      "outputs": [
        {
          "data": {
            "text/html": [
              "<div>\n",
              "<style scoped>\n",
              "    .dataframe tbody tr th:only-of-type {\n",
              "        vertical-align: middle;\n",
              "    }\n",
              "\n",
              "    .dataframe tbody tr th {\n",
              "        vertical-align: top;\n",
              "    }\n",
              "\n",
              "    .dataframe thead th {\n",
              "        text-align: right;\n",
              "    }\n",
              "</style>\n",
              "<table border=\"1\" class=\"dataframe\">\n",
              "  <thead>\n",
              "    <tr style=\"text-align: right;\">\n",
              "      <th></th>\n",
              "      <th>area</th>\n",
              "      <th>rooms</th>\n",
              "      <th>bathroom</th>\n",
              "      <th>parking spaces</th>\n",
              "      <th>floor</th>\n",
              "      <th>hoa</th>\n",
              "      <th>animal</th>\n",
              "      <th>no_animal</th>\n",
              "      <th>furniture</th>\n",
              "      <th>no_furniture</th>\n",
              "    </tr>\n",
              "  </thead>\n",
              "  <tbody>\n",
              "    <tr>\n",
              "      <th>0</th>\n",
              "      <td>0.236616</td>\n",
              "      <td>0.449198</td>\n",
              "      <td>-0.150305</td>\n",
              "      <td>1.392098</td>\n",
              "      <td>-0.919557</td>\n",
              "      <td>-5.782201e-17</td>\n",
              "      <td>1.0</td>\n",
              "      <td>0.0</td>\n",
              "      <td>1.0</td>\n",
              "      <td>0.0</td>\n",
              "    </tr>\n",
              "    <tr>\n",
              "      <th>1</th>\n",
              "      <td>-0.232057</td>\n",
              "      <td>-0.436093</td>\n",
              "      <td>-0.171133</td>\n",
              "      <td>-0.469203</td>\n",
              "      <td>0.701606</td>\n",
              "      <td>-2.295584e-01</td>\n",
              "      <td>1.0</td>\n",
              "      <td>0.0</td>\n",
              "      <td>0.0</td>\n",
              "      <td>1.0</td>\n",
              "    </tr>\n",
              "    <tr>\n",
              "      <th>2</th>\n",
              "      <td>0.777187</td>\n",
              "      <td>2.219781</td>\n",
              "      <td>-0.129476</td>\n",
              "      <td>1.392098</td>\n",
              "      <td>-0.433208</td>\n",
              "      <td>6.940734e-01</td>\n",
              "      <td>1.0</td>\n",
              "      <td>0.0</td>\n",
              "      <td>1.0</td>\n",
              "      <td>0.0</td>\n",
              "    </tr>\n",
              "    <tr>\n",
              "      <th>3</th>\n",
              "      <td>-0.208090</td>\n",
              "      <td>-0.436093</td>\n",
              "      <td>1.276421</td>\n",
              "      <td>-0.469203</td>\n",
              "      <td>1.025839</td>\n",
              "      <td>-1.888697e-01</td>\n",
              "      <td>1.0</td>\n",
              "      <td>0.0</td>\n",
              "      <td>0.0</td>\n",
              "      <td>1.0</td>\n",
              "    </tr>\n",
              "    <tr>\n",
              "      <th>4</th>\n",
              "      <td>-0.351888</td>\n",
              "      <td>-1.321385</td>\n",
              "      <td>-0.171133</td>\n",
              "      <td>-1.089636</td>\n",
              "      <td>-0.919557</td>\n",
              "      <td>-5.782201e-17</td>\n",
              "      <td>0.0</td>\n",
              "      <td>1.0</td>\n",
              "      <td>0.0</td>\n",
              "      <td>1.0</td>\n",
              "    </tr>\n",
              "    <tr>\n",
              "      <th>...</th>\n",
              "      <td>...</td>\n",
              "      <td>...</td>\n",
              "      <td>...</td>\n",
              "      <td>...</td>\n",
              "      <td>...</td>\n",
              "      <td>...</td>\n",
              "      <td>...</td>\n",
              "      <td>...</td>\n",
              "      <td>...</td>\n",
              "      <td>...</td>\n",
              "    </tr>\n",
              "    <tr>\n",
              "      <th>6075</th>\n",
              "      <td>-0.269337</td>\n",
              "      <td>-0.436093</td>\n",
              "      <td>-0.171133</td>\n",
              "      <td>-0.469203</td>\n",
              "      <td>-0.595324</td>\n",
              "      <td>-2.600748e-01</td>\n",
              "      <td>1.0</td>\n",
              "      <td>0.0</td>\n",
              "      <td>0.0</td>\n",
              "      <td>1.0</td>\n",
              "    </tr>\n",
              "    <tr>\n",
              "      <th>6076</th>\n",
              "      <td>-0.178798</td>\n",
              "      <td>-0.436093</td>\n",
              "      <td>-0.160719</td>\n",
              "      <td>-0.469203</td>\n",
              "      <td>1.674304</td>\n",
              "      <td>-1.715771e-01</td>\n",
              "      <td>0.0</td>\n",
              "      <td>1.0</td>\n",
              "      <td>1.0</td>\n",
              "      <td>0.0</td>\n",
              "    </tr>\n",
              "    <tr>\n",
              "      <th>6077</th>\n",
              "      <td>-0.274663</td>\n",
              "      <td>-1.321385</td>\n",
              "      <td>-0.171133</td>\n",
              "      <td>-1.089636</td>\n",
              "      <td>1.187955</td>\n",
              "      <td>-3.033065e-01</td>\n",
              "      <td>1.0</td>\n",
              "      <td>0.0</td>\n",
              "      <td>0.0</td>\n",
              "      <td>1.0</td>\n",
              "    </tr>\n",
              "    <tr>\n",
              "      <th>6078</th>\n",
              "      <td>0.023583</td>\n",
              "      <td>0.449198</td>\n",
              "      <td>-0.160719</td>\n",
              "      <td>0.151231</td>\n",
              "      <td>-0.919557</td>\n",
              "      <td>-5.782201e-17</td>\n",
              "      <td>0.0</td>\n",
              "      <td>1.0</td>\n",
              "      <td>0.0</td>\n",
              "      <td>1.0</td>\n",
              "    </tr>\n",
              "    <tr>\n",
              "      <th>6079</th>\n",
              "      <td>-0.242708</td>\n",
              "      <td>-0.436093</td>\n",
              "      <td>-0.171133</td>\n",
              "      <td>-0.469203</td>\n",
              "      <td>-0.271092</td>\n",
              "      <td>-2.425279e-01</td>\n",
              "      <td>1.0</td>\n",
              "      <td>0.0</td>\n",
              "      <td>1.0</td>\n",
              "      <td>0.0</td>\n",
              "    </tr>\n",
              "  </tbody>\n",
              "</table>\n",
              "<p>6080 rows × 10 columns</p>\n",
              "</div>"
            ],
            "text/plain": [
              "          area     rooms  bathroom  parking spaces     floor           hoa  \\\n",
              "0     0.236616  0.449198 -0.150305        1.392098 -0.919557 -5.782201e-17   \n",
              "1    -0.232057 -0.436093 -0.171133       -0.469203  0.701606 -2.295584e-01   \n",
              "2     0.777187  2.219781 -0.129476        1.392098 -0.433208  6.940734e-01   \n",
              "3    -0.208090 -0.436093  1.276421       -0.469203  1.025839 -1.888697e-01   \n",
              "4    -0.351888 -1.321385 -0.171133       -1.089636 -0.919557 -5.782201e-17   \n",
              "...        ...       ...       ...             ...       ...           ...   \n",
              "6075 -0.269337 -0.436093 -0.171133       -0.469203 -0.595324 -2.600748e-01   \n",
              "6076 -0.178798 -0.436093 -0.160719       -0.469203  1.674304 -1.715771e-01   \n",
              "6077 -0.274663 -1.321385 -0.171133       -1.089636  1.187955 -3.033065e-01   \n",
              "6078  0.023583  0.449198 -0.160719        0.151231 -0.919557 -5.782201e-17   \n",
              "6079 -0.242708 -0.436093 -0.171133       -0.469203 -0.271092 -2.425279e-01   \n",
              "\n",
              "      animal  no_animal  furniture  no_furniture  \n",
              "0        1.0        0.0        1.0           0.0  \n",
              "1        1.0        0.0        0.0           1.0  \n",
              "2        1.0        0.0        1.0           0.0  \n",
              "3        1.0        0.0        0.0           1.0  \n",
              "4        0.0        1.0        0.0           1.0  \n",
              "...      ...        ...        ...           ...  \n",
              "6075     1.0        0.0        0.0           1.0  \n",
              "6076     0.0        1.0        1.0           0.0  \n",
              "6077     1.0        0.0        0.0           1.0  \n",
              "6078     0.0        1.0        0.0           1.0  \n",
              "6079     1.0        0.0        1.0           0.0  \n",
              "\n",
              "[6080 rows x 10 columns]"
            ]
          },
          "execution_count": 110,
          "metadata": {},
          "output_type": "execute_result"
        }
      ],
      "source": [
        "scaled_df"
      ]
    }
  ],
  "metadata": {
    "colab": {
      "include_colab_link": true,
      "provenance": []
    },
    "kernelspec": {
      "display_name": "Python 3.10.8 64-bit (microsoft store)",
      "language": "python",
      "name": "python3"
    },
    "language_info": {
      "codemirror_mode": {
        "name": "ipython",
        "version": 3
      },
      "file_extension": ".py",
      "mimetype": "text/x-python",
      "name": "python",
      "nbconvert_exporter": "python",
      "pygments_lexer": "ipython3",
      "version": "3.10.8"
    },
    "vscode": {
      "interpreter": {
        "hash": "1411826be7eae97a21cd32c3ad68577137fa7ead80dc4d38e556535e3b8866d8"
      }
    }
  },
  "nbformat": 4,
  "nbformat_minor": 0
}
