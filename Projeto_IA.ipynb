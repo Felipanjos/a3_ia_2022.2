{
  "cells": [
    {
      "cell_type": "markdown",
      "metadata": {
        "colab_type": "text",
        "id": "view-in-github"
      },
      "source": [
        "<a href=\"https://colab.research.google.com/github/Felipanjos/a3_ia_2022.2/blob/main/Projeto_IA.ipynb\" target=\"_parent\"><img src=\"https://colab.research.google.com/assets/colab-badge.svg\" alt=\"Open In Colab\"/></a>"
      ]
    },
    {
      "cell_type": "markdown",
      "metadata": {},
      "source": [
        "### D. Preparação dos dados"
      ]
    },
    {
      "cell_type": "code",
      "execution_count": 122,
      "metadata": {
        "id": "FGHweZQuwPte"
      },
      "outputs": [],
      "source": [
        "import pandas as pd\n",
        "import numpy as np\n",
        "from math import ceil, floor\n",
        "import random\n",
        "import string\n",
        "from itertools import groupby\n"
      ]
    },
    {
      "cell_type": "code",
      "execution_count": 99,
      "metadata": {
        "id": "oAExzSd8wzQM"
      },
      "outputs": [],
      "source": [
        "df = pd.read_csv('imdb_top_1000.csv')"
      ]
    },
    {
      "cell_type": "code",
      "execution_count": 100,
      "metadata": {
        "id": "fgbbPbFJhLe1"
      },
      "outputs": [
        {
          "data": {
            "text/html": [
              "<div>\n",
              "<style scoped>\n",
              "    .dataframe tbody tr th:only-of-type {\n",
              "        vertical-align: middle;\n",
              "    }\n",
              "\n",
              "    .dataframe tbody tr th {\n",
              "        vertical-align: top;\n",
              "    }\n",
              "\n",
              "    .dataframe thead th {\n",
              "        text-align: right;\n",
              "    }\n",
              "</style>\n",
              "<table border=\"1\" class=\"dataframe\">\n",
              "  <thead>\n",
              "    <tr style=\"text-align: right;\">\n",
              "      <th></th>\n",
              "      <th>Series_Title</th>\n",
              "      <th>Released_Year</th>\n",
              "      <th>Runtime</th>\n",
              "      <th>Genre</th>\n",
              "      <th>IMDB_Rating</th>\n",
              "      <th>Meta_score</th>\n",
              "      <th>Director</th>\n",
              "      <th>No_of_Votes</th>\n",
              "      <th>Gross</th>\n",
              "    </tr>\n",
              "  </thead>\n",
              "  <tbody>\n",
              "    <tr>\n",
              "      <th>0</th>\n",
              "      <td>The Shawshank Redemption</td>\n",
              "      <td>1994</td>\n",
              "      <td>142 min</td>\n",
              "      <td>Drama</td>\n",
              "      <td>9.3</td>\n",
              "      <td>80.0</td>\n",
              "      <td>Frank Darabont</td>\n",
              "      <td>2343110</td>\n",
              "      <td>28,341,469</td>\n",
              "    </tr>\n",
              "    <tr>\n",
              "      <th>1</th>\n",
              "      <td>The Godfather</td>\n",
              "      <td>1972</td>\n",
              "      <td>175 min</td>\n",
              "      <td>Crime, Drama</td>\n",
              "      <td>9.2</td>\n",
              "      <td>100.0</td>\n",
              "      <td>Francis Ford Coppola</td>\n",
              "      <td>1620367</td>\n",
              "      <td>134,966,411</td>\n",
              "    </tr>\n",
              "    <tr>\n",
              "      <th>2</th>\n",
              "      <td>The Dark Knight</td>\n",
              "      <td>2008</td>\n",
              "      <td>152 min</td>\n",
              "      <td>Action, Crime, Drama</td>\n",
              "      <td>9.0</td>\n",
              "      <td>84.0</td>\n",
              "      <td>Christopher Nolan</td>\n",
              "      <td>2303232</td>\n",
              "      <td>534,858,444</td>\n",
              "    </tr>\n",
              "    <tr>\n",
              "      <th>3</th>\n",
              "      <td>The Godfather: Part II</td>\n",
              "      <td>1974</td>\n",
              "      <td>202 min</td>\n",
              "      <td>Crime, Drama</td>\n",
              "      <td>9.0</td>\n",
              "      <td>90.0</td>\n",
              "      <td>Francis Ford Coppola</td>\n",
              "      <td>1129952</td>\n",
              "      <td>57,300,000</td>\n",
              "    </tr>\n",
              "    <tr>\n",
              "      <th>4</th>\n",
              "      <td>12 Angry Men</td>\n",
              "      <td>1957</td>\n",
              "      <td>96 min</td>\n",
              "      <td>Crime, Drama</td>\n",
              "      <td>9.0</td>\n",
              "      <td>96.0</td>\n",
              "      <td>Sidney Lumet</td>\n",
              "      <td>689845</td>\n",
              "      <td>4,360,000</td>\n",
              "    </tr>\n",
              "    <tr>\n",
              "      <th>...</th>\n",
              "      <td>...</td>\n",
              "      <td>...</td>\n",
              "      <td>...</td>\n",
              "      <td>...</td>\n",
              "      <td>...</td>\n",
              "      <td>...</td>\n",
              "      <td>...</td>\n",
              "      <td>...</td>\n",
              "      <td>...</td>\n",
              "    </tr>\n",
              "    <tr>\n",
              "      <th>995</th>\n",
              "      <td>Breakfast at Tiffany's</td>\n",
              "      <td>1961</td>\n",
              "      <td>115 min</td>\n",
              "      <td>Comedy, Drama, Romance</td>\n",
              "      <td>7.6</td>\n",
              "      <td>76.0</td>\n",
              "      <td>Blake Edwards</td>\n",
              "      <td>166544</td>\n",
              "      <td>NaN</td>\n",
              "    </tr>\n",
              "    <tr>\n",
              "      <th>996</th>\n",
              "      <td>Giant</td>\n",
              "      <td>1956</td>\n",
              "      <td>201 min</td>\n",
              "      <td>Drama, Western</td>\n",
              "      <td>7.6</td>\n",
              "      <td>84.0</td>\n",
              "      <td>George Stevens</td>\n",
              "      <td>34075</td>\n",
              "      <td>NaN</td>\n",
              "    </tr>\n",
              "    <tr>\n",
              "      <th>997</th>\n",
              "      <td>From Here to Eternity</td>\n",
              "      <td>1953</td>\n",
              "      <td>118 min</td>\n",
              "      <td>Drama, Romance, War</td>\n",
              "      <td>7.6</td>\n",
              "      <td>85.0</td>\n",
              "      <td>Fred Zinnemann</td>\n",
              "      <td>43374</td>\n",
              "      <td>30,500,000</td>\n",
              "    </tr>\n",
              "    <tr>\n",
              "      <th>998</th>\n",
              "      <td>Lifeboat</td>\n",
              "      <td>1944</td>\n",
              "      <td>97 min</td>\n",
              "      <td>Drama, War</td>\n",
              "      <td>7.6</td>\n",
              "      <td>78.0</td>\n",
              "      <td>Alfred Hitchcock</td>\n",
              "      <td>26471</td>\n",
              "      <td>NaN</td>\n",
              "    </tr>\n",
              "    <tr>\n",
              "      <th>999</th>\n",
              "      <td>The 39 Steps</td>\n",
              "      <td>1935</td>\n",
              "      <td>86 min</td>\n",
              "      <td>Crime, Mystery, Thriller</td>\n",
              "      <td>7.6</td>\n",
              "      <td>93.0</td>\n",
              "      <td>Alfred Hitchcock</td>\n",
              "      <td>51853</td>\n",
              "      <td>NaN</td>\n",
              "    </tr>\n",
              "  </tbody>\n",
              "</table>\n",
              "<p>1000 rows × 9 columns</p>\n",
              "</div>"
            ],
            "text/plain": [
              "                 Series_Title Released_Year  Runtime  \\\n",
              "0    The Shawshank Redemption          1994  142 min   \n",
              "1               The Godfather          1972  175 min   \n",
              "2             The Dark Knight          2008  152 min   \n",
              "3      The Godfather: Part II          1974  202 min   \n",
              "4                12 Angry Men          1957   96 min   \n",
              "..                        ...           ...      ...   \n",
              "995    Breakfast at Tiffany's          1961  115 min   \n",
              "996                     Giant          1956  201 min   \n",
              "997     From Here to Eternity          1953  118 min   \n",
              "998                  Lifeboat          1944   97 min   \n",
              "999              The 39 Steps          1935   86 min   \n",
              "\n",
              "                        Genre  IMDB_Rating  Meta_score              Director  \\\n",
              "0                       Drama          9.3        80.0        Frank Darabont   \n",
              "1                Crime, Drama          9.2       100.0  Francis Ford Coppola   \n",
              "2        Action, Crime, Drama          9.0        84.0     Christopher Nolan   \n",
              "3                Crime, Drama          9.0        90.0  Francis Ford Coppola   \n",
              "4                Crime, Drama          9.0        96.0          Sidney Lumet   \n",
              "..                        ...          ...         ...                   ...   \n",
              "995    Comedy, Drama, Romance          7.6        76.0         Blake Edwards   \n",
              "996            Drama, Western          7.6        84.0        George Stevens   \n",
              "997       Drama, Romance, War          7.6        85.0        Fred Zinnemann   \n",
              "998                Drama, War          7.6        78.0      Alfred Hitchcock   \n",
              "999  Crime, Mystery, Thriller          7.6        93.0      Alfred Hitchcock   \n",
              "\n",
              "     No_of_Votes        Gross  \n",
              "0        2343110   28,341,469  \n",
              "1        1620367  134,966,411  \n",
              "2        2303232  534,858,444  \n",
              "3        1129952   57,300,000  \n",
              "4         689845    4,360,000  \n",
              "..           ...          ...  \n",
              "995       166544          NaN  \n",
              "996        34075          NaN  \n",
              "997        43374   30,500,000  \n",
              "998        26471          NaN  \n",
              "999        51853          NaN  \n",
              "\n",
              "[1000 rows x 9 columns]"
            ]
          },
          "execution_count": 100,
          "metadata": {},
          "output_type": "execute_result"
        }
      ],
      "source": [
        "df = df[['Series_Title', 'Released_Year', 'Runtime', 'Genre', 'IMDB_Rating', 'Meta_score', 'Director', 'No_of_Votes', 'Gross']]\n",
        "df"
      ]
    },
    {
      "cell_type": "markdown",
      "metadata": {
        "id": "Np4v0J4Lb5p_"
      },
      "source": [
        "##### a) Selecionando 10% das colunas"
      ]
    },
    {
      "cell_type": "code",
      "execution_count": 12,
      "metadata": {
        "colab": {
          "base_uri": "https://localhost:8080/"
        },
        "id": "5q4KQCWnb8E0",
        "outputId": "9b709cec-a07f-4915-bfa5-26b318191d37"
      },
      "outputs": [
        {
          "data": {
            "text/plain": [
              "9"
            ]
          },
          "execution_count": 12,
          "metadata": {},
          "output_type": "execute_result"
        }
      ],
      "source": [
        "qtd_colunas = len(df.columns)\n",
        "qtd_colunas"
      ]
    },
    {
      "cell_type": "code",
      "execution_count": 13,
      "metadata": {
        "colab": {
          "base_uri": "https://localhost:8080/"
        },
        "id": "A8QHpBy6cTb8",
        "outputId": "e4e49d2e-8d01-4978-d1f2-e9a4f9680abd"
      },
      "outputs": [
        {
          "data": {
            "text/plain": [
              "1"
            ]
          },
          "execution_count": 13,
          "metadata": {},
          "output_type": "execute_result"
        }
      ],
      "source": [
        "p_colunas = round(qtd_colunas * 10 / 100)\n",
        "p_colunas"
      ]
    },
    {
      "cell_type": "markdown",
      "metadata": {},
      "source": [
        "No dataset utilizado existem somente 9 colunas, dessa forma:\n",
        "\n",
        "*    10% de 9 = 0.9\n",
        "*    Aproximando para 1, fica somente uma coluna a ser selecionada como referência para a modificação dos dados\n",
        "\n"
      ]
    },
    {
      "cell_type": "code",
      "execution_count": 14,
      "metadata": {
        "id": "y18Dx4BldtHL"
      },
      "outputs": [
        {
          "data": {
            "text/plain": [
              "'Series_Title'"
            ]
          },
          "execution_count": 14,
          "metadata": {},
          "output_type": "execute_result"
        }
      ],
      "source": [
        "coluna_aleatoria = df.sample(n=p_colunas, axis='columns').keys()[0]\n",
        "coluna_aleatoria"
      ]
    },
    {
      "cell_type": "markdown",
      "metadata": {
        "id": "Hkopa3lohtjf"
      },
      "source": [
        "##### a) Selecionando 3% dos dados"
      ]
    },
    {
      "cell_type": "code",
      "execution_count": 15,
      "metadata": {
        "id": "HOtcB92hhvLg"
      },
      "outputs": [
        {
          "data": {
            "text/plain": [
              "30"
            ]
          },
          "execution_count": 15,
          "metadata": {},
          "output_type": "execute_result"
        }
      ],
      "source": [
        "p_3 = int(df.shape[0] * 3 / 100)\n",
        "p_3"
      ]
    },
    {
      "cell_type": "markdown",
      "metadata": {
        "id": "FQ4KHum3skz7"
      },
      "source": [
        "##### a) Excluindo 3% dos dados aleatoriamente"
      ]
    },
    {
      "cell_type": "code",
      "execution_count": 16,
      "metadata": {
        "id": "gzSYvbRDysNe"
      },
      "outputs": [
        {
          "data": {
            "text/html": [
              "<div>\n",
              "<style scoped>\n",
              "    .dataframe tbody tr th:only-of-type {\n",
              "        vertical-align: middle;\n",
              "    }\n",
              "\n",
              "    .dataframe tbody tr th {\n",
              "        vertical-align: top;\n",
              "    }\n",
              "\n",
              "    .dataframe thead th {\n",
              "        text-align: right;\n",
              "    }\n",
              "</style>\n",
              "<table border=\"1\" class=\"dataframe\">\n",
              "  <thead>\n",
              "    <tr style=\"text-align: right;\">\n",
              "      <th></th>\n",
              "      <th>Series_Title</th>\n",
              "      <th>Released_Year</th>\n",
              "      <th>Runtime</th>\n",
              "      <th>Genre</th>\n",
              "      <th>IMDB_Rating</th>\n",
              "      <th>Meta_score</th>\n",
              "      <th>Director</th>\n",
              "      <th>No_of_Votes</th>\n",
              "      <th>Gross</th>\n",
              "    </tr>\n",
              "  </thead>\n",
              "  <tbody>\n",
              "  </tbody>\n",
              "</table>\n",
              "</div>"
            ],
            "text/plain": [
              "Empty DataFrame\n",
              "Columns: [Series_Title, Released_Year, Runtime, Genre, IMDB_Rating, Meta_score, Director, No_of_Votes, Gross]\n",
              "Index: []"
            ]
          },
          "execution_count": 16,
          "metadata": {},
          "output_type": "execute_result"
        }
      ],
      "source": [
        "reg_nulos = df[df[coluna_aleatoria].isnull()]\n",
        "reg_nulos"
      ]
    },
    {
      "cell_type": "code",
      "execution_count": 17,
      "metadata": {
        "id": "Srq9Yf7Dy5Ga"
      },
      "outputs": [
        {
          "data": {
            "text/plain": [
              "0"
            ]
          },
          "execution_count": 17,
          "metadata": {},
          "output_type": "execute_result"
        }
      ],
      "source": [
        "qtd_reg_nulos = reg_nulos.shape[0]\n",
        "qtd_reg_nulos"
      ]
    },
    {
      "cell_type": "code",
      "execution_count": 18,
      "metadata": {},
      "outputs": [
        {
          "data": {
            "text/plain": [
              "<PandasArray>\n",
              "[773, 550, 274,  24, 561, 139,  84, 361, 624, 603, 598, 677, 784, 414, 538,\n",
              " 323,  62, 203, 641, 529, 433, 951,  99, 794, 593,  42, 435, 407, 104, 675]\n",
              "Length: 30, dtype: int64"
            ]
          },
          "execution_count": 18,
          "metadata": {},
          "output_type": "execute_result"
        }
      ],
      "source": [
        "reg_excluidos = df.sample(n=p_3)\n",
        "reg_exc_index = reg_excluidos.index.array\n",
        "reg_exc_index\n"
      ]
    },
    {
      "cell_type": "code",
      "execution_count": 22,
      "metadata": {},
      "outputs": [],
      "source": [
        "df.loc[reg_exc_index, coluna_aleatoria] = np.nan"
      ]
    },
    {
      "cell_type": "code",
      "execution_count": 24,
      "metadata": {},
      "outputs": [
        {
          "data": {
            "text/plain": [
              "Series_Title                        NaN\n",
              "Released_Year                      1960\n",
              "Runtime                         144 min\n",
              "Genre                    Drama, Mystery\n",
              "IMDB_Rating                         7.9\n",
              "Meta_score                          NaN\n",
              "Director         Michelangelo Antonioni\n",
              "No_of_Votes                       26542\n",
              "Gross                               NaN\n",
              "Name: 550, dtype: object"
            ]
          },
          "execution_count": 24,
          "metadata": {},
          "output_type": "execute_result"
        }
      ],
      "source": [
        "df.loc[773]"
      ]
    },
    {
      "cell_type": "markdown",
      "metadata": {
        "id": "Sxh3uWeotHrS"
      },
      "source": [
        "##### a) Alterando 3% dos dados aleatoriamente"
      ]
    },
    {
      "cell_type": "code",
      "execution_count": 42,
      "metadata": {
        "id": "inRW488117mR"
      },
      "outputs": [],
      "source": [
        "def gerar_string_aleatoria():\n",
        "  letters = string.ascii_lowercase\n",
        "  return ''.join(random.choice(letters) for i in range(10)) "
      ]
    },
    {
      "cell_type": "code",
      "execution_count": 43,
      "metadata": {},
      "outputs": [],
      "source": [
        "def gerar_numero_aleatorio():\n",
        "    return random.randit(0, 1000)"
      ]
    },
    {
      "cell_type": "code",
      "execution_count": 44,
      "metadata": {
        "id": "yMzmcXenuM7q"
      },
      "outputs": [],
      "source": [
        "df_selecao_nao_nulo = df[~df[coluna_aleatoria].isnull()]"
      ]
    },
    {
      "cell_type": "code",
      "execution_count": 45,
      "metadata": {
        "id": "Sdt_vzErtJHh"
      },
      "outputs": [],
      "source": [
        "reg_alterados = df_selecao_nao_nulo.sample(n=p_3)"
      ]
    },
    {
      "cell_type": "code",
      "execution_count": 64,
      "metadata": {
        "id": "vDgV5IEntRSx"
      },
      "outputs": [
        {
          "data": {
            "text/plain": [
              "<PandasArray>\n",
              "[931, 568, 640, 972, 149, 191, 536, 622, 699, 423, 805, 778, 815, 541, 711,\n",
              " 396, 403, 782,  87, 576, 144, 302, 255, 131,  15, 370, 949, 259, 587, 125]\n",
              "Length: 30, dtype: int64"
            ]
          },
          "execution_count": 64,
          "metadata": {},
          "output_type": "execute_result"
        }
      ],
      "source": [
        "reg_alter_index = reg_alterados.index.array\n",
        "reg_alter_index"
      ]
    },
    {
      "cell_type": "code",
      "execution_count": 58,
      "metadata": {},
      "outputs": [],
      "source": [
        "colunas_numericas = df.describe().columns\n",
        "if coluna_aleatoria in colunas_numericas:\n",
        "    for index in reg_alter_index:\n",
        "        df.loc[[index],[coluna_aleatoria]] = gerar_numero_aleatorio()\n",
        "else:\n",
        "    for index in reg_alter_index:\n",
        "        df.loc[[index],[coluna_aleatoria]] = gerar_string_aleatoria()\n"
      ]
    },
    {
      "cell_type": "markdown",
      "metadata": {},
      "source": [
        "#### b) Limpeza dos dados"
      ]
    },
    {
      "cell_type": "markdown",
      "metadata": {},
      "source": [
        "i. Codificação One-Hot"
      ]
    },
    {
      "cell_type": "code",
      "execution_count": 131,
      "metadata": {},
      "outputs": [],
      "source": [
        "\n",
        "teste = list(df['Genre'].unique())\n",
        "lista_generos = []\n",
        "for item in teste:\n",
        "    lista_generos.extend(item.split(', '))\n",
        "lista_generos = np.unique(np.array(lista_generos))"
      ]
    },
    {
      "cell_type": "code",
      "execution_count": 132,
      "metadata": {},
      "outputs": [
        {
          "data": {
            "text/plain": [
              "array(['Action', 'Adventure', 'Animation', 'Biography', 'Comedy', 'Crime',\n",
              "       'Drama', 'Family', 'Fantasy', 'Film-Noir', 'History', 'Horror',\n",
              "       'Music', 'Musical', 'Mystery', 'Romance', 'Sci-Fi', 'Sport',\n",
              "       'Thriller', 'War', 'Western'], dtype='<U9')"
            ]
          },
          "execution_count": 132,
          "metadata": {},
          "output_type": "execute_result"
        }
      ],
      "source": []
    }
  ],
  "metadata": {
    "colab": {
      "include_colab_link": true,
      "provenance": []
    },
    "kernelspec": {
      "display_name": "Python 3.10.8 64-bit (microsoft store)",
      "language": "python",
      "name": "python3"
    },
    "language_info": {
      "codemirror_mode": {
        "name": "ipython",
        "version": 3
      },
      "file_extension": ".py",
      "mimetype": "text/x-python",
      "name": "python",
      "nbconvert_exporter": "python",
      "pygments_lexer": "ipython3",
      "version": "3.10.8"
    },
    "vscode": {
      "interpreter": {
        "hash": "1411826be7eae97a21cd32c3ad68577137fa7ead80dc4d38e556535e3b8866d8"
      }
    }
  },
  "nbformat": 4,
  "nbformat_minor": 0
}
