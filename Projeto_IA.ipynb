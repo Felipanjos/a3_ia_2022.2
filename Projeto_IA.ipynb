{
  "cells": [
    {
      "cell_type": "markdown",
      "metadata": {
        "colab_type": "text",
        "id": "view-in-github"
      },
      "source": [
        "<a href=\"https://colab.research.google.com/github/Felipanjos/a3_ia_2022.2/blob/main/Projeto_IA.ipynb\" target=\"_parent\"><img src=\"https://colab.research.google.com/assets/colab-badge.svg\" alt=\"Open In Colab\"/></a>"
      ]
    },
    {
      "cell_type": "markdown",
      "metadata": {},
      "source": [
        "### D. Preparação dos dados"
      ]
    },
    {
      "cell_type": "code",
      "execution_count": 946,
      "metadata": {
        "id": "FGHweZQuwPte"
      },
      "outputs": [],
      "source": [
        "import pandas as pd\n",
        "import numpy as np\n",
        "import random\n",
        "import string\n",
        "import sklearn\n",
        "from itertools import groupby"
      ]
    },
    {
      "cell_type": "code",
      "execution_count": 947,
      "metadata": {},
      "outputs": [],
      "source": [
        "df = pd.read_csv('houses_to_rent.csv', index_col=[0])\n",
        "df = df[['area', 'rooms', 'bathroom', 'parking spaces', 'floor', 'animal', 'furniture', 'hoa']]"
      ]
    },
    {
      "cell_type": "code",
      "execution_count": 948,
      "metadata": {},
      "outputs": [],
      "source": [
        "sem_aluguel = df.index[df['hoa'] == 'R$0'].tolist()\n",
        "df.drop(sem_aluguel, inplace=True)\n",
        "df['hoa'] = df['hoa'].str.replace(',', '')\n",
        "df['hoa'] = df['hoa'].str.replace(r'\\D+','', regex=True)"
      ]
    },
    {
      "cell_type": "code",
      "execution_count": 949,
      "metadata": {},
      "outputs": [],
      "source": [
        "def obj_column_to_int(column):\n",
        "    column.convert_dtypes()\n",
        "    pd.to_numeric(column, errors='coerce')\n",
        "    return pd.to_numeric(column.convert_dtypes(), errors='coerce').convert_dtypes() \n",
        "\n",
        "df['floor'] = obj_column_to_int(df['floor'])\n",
        "df['hoa'] = obj_column_to_int(df['hoa'])\n"
      ]
    },
    {
      "cell_type": "markdown",
      "metadata": {
        "id": "Np4v0J4Lb5p_"
      },
      "source": [
        "##### a) Selecionando 10% das colunas"
      ]
    },
    {
      "cell_type": "markdown",
      "metadata": {},
      "source": [
        "No dataset utilizado existem somente 9 colunas, dessa forma:\n",
        "\n",
        "*    10% de 9 = 0.9\n",
        "*    Aproximando para 1, fica somente uma coluna a ser selecionada como referência para a modificação dos dados\n",
        "\n"
      ]
    },
    {
      "cell_type": "code",
      "execution_count": 950,
      "metadata": {
        "colab": {
          "base_uri": "https://localhost:8080/"
        },
        "id": "5q4KQCWnb8E0",
        "outputId": "9b709cec-a07f-4915-bfa5-26b318191d37"
      },
      "outputs": [
        {
          "data": {
            "text/plain": [
              "'area'"
            ]
          },
          "execution_count": 950,
          "metadata": {},
          "output_type": "execute_result"
        }
      ],
      "source": [
        "qtd_colunas = len(df.columns)\n",
        "p_colunas = round(qtd_colunas * 10 / 100)\n",
        "coluna_aleatoria = df.sample(n=p_colunas, axis='columns').keys()[0]\n",
        "colunas_numericas = df.describe().columns\n",
        "colunas_categoricas = df.describe(exclude=np.number).columns\n",
        "coluna_aleatoria # escolhendo uma coluna aleatoriamente"
      ]
    },
    {
      "cell_type": "markdown",
      "metadata": {
        "id": "Hkopa3lohtjf"
      },
      "source": [
        "##### a) Selecionando 3% dos dados"
      ]
    },
    {
      "cell_type": "code",
      "execution_count": 951,
      "metadata": {
        "id": "HOtcB92hhvLg"
      },
      "outputs": [
        {
          "data": {
            "text/plain": [
              "143"
            ]
          },
          "execution_count": 951,
          "metadata": {},
          "output_type": "execute_result"
        }
      ],
      "source": [
        "p_3 = int(df.shape[0] * 3 / 100)\n",
        "p_3 # 3% de 1000 é igual a 30"
      ]
    },
    {
      "cell_type": "markdown",
      "metadata": {
        "id": "FQ4KHum3skz7"
      },
      "source": [
        "##### a) Excluindo 3% dos dados aleatoriamente"
      ]
    },
    {
      "cell_type": "code",
      "execution_count": 952,
      "metadata": {
        "id": "gzSYvbRDysNe"
      },
      "outputs": [],
      "source": [
        "reg_nulos = df[df[coluna_aleatoria].isnull()]\n",
        "qtd_reg_nulos = reg_nulos.shape[0]\n",
        "reg_excluidos = df.sample(n=p_3)\n",
        "reg_exc_index = reg_excluidos.index.array\n",
        "df.loc[reg_exc_index, coluna_aleatoria] = np.nan"
      ]
    },
    {
      "cell_type": "markdown",
      "metadata": {
        "id": "Sxh3uWeotHrS"
      },
      "source": [
        "##### a) Alterando 3% dos dados aleatoriamente"
      ]
    },
    {
      "cell_type": "code",
      "execution_count": 953,
      "metadata": {
        "id": "inRW488117mR"
      },
      "outputs": [],
      "source": [
        "def gerar_string_aleatoria():\n",
        "  letters = string.ascii_lowercase\n",
        "  return ''.join(random.choice(letters) for i in range(10)) \n",
        "\n",
        "def gerar_numero_aleatorio():\n",
        "  return random.randint(0, 999)"
      ]
    },
    {
      "cell_type": "code",
      "execution_count": 954,
      "metadata": {
        "id": "yMzmcXenuM7q"
      },
      "outputs": [],
      "source": [
        "df_selecao_nao_nulo = df[~df[coluna_aleatoria].isnull()]\n",
        "reg_alterados = df_selecao_nao_nulo.sample(n=p_3)\n",
        "reg_alter_index = reg_alterados.index.array"
      ]
    },
    {
      "cell_type": "code",
      "execution_count": 955,
      "metadata": {},
      "outputs": [],
      "source": [
        "if coluna_aleatoria in colunas_numericas:\n",
        "    for index in reg_alter_index:\n",
        "        df.loc[[index],[coluna_aleatoria]] = gerar_numero_aleatorio()\n",
        "else:\n",
        "    for index in reg_alter_index:\n",
        "        df.loc[[index],[coluna_aleatoria]] = gerar_string_aleatoria()"
      ]
    },
    {
      "cell_type": "markdown",
      "metadata": {},
      "source": [
        "#### b) Limpeza dos dados"
      ]
    },
    {
      "cell_type": "markdown",
      "metadata": {},
      "source": [
        "i. Codificação One-Hot"
      ]
    },
    {
      "cell_type": "markdown",
      "metadata": {},
      "source": [
        "pos_encoded.toarray()"
      ]
    },
    {
      "cell_type": "markdown",
      "metadata": {},
      "source": [
        "A atribuição da mediana geral foi utilizada para lidar com os valores nulos das colunas em que existiam, pelos seguintes motivos:\n",
        "\n",
        "*   Número relativamente pequeno de linhas (1000), o que ocasionaria numa maior escassez de dados caso as linhas com valores nulos fossem removidas\n",
        "*   Número pequeno de colunas, logo a remoção completa de cada coluna em que houvesse valor nulo acarretaria na perda desnecessária de informações\n",
        "*   Facilidade na implementação em comparação com o treinamento de predição e atribuição\n",
        "*   Coesão com o dataset, visto que logo no primeiro quartil a coluna 'Meta_score' apresenta valor próximo à média\n",
        "\n",
        "Após implementação da correção, o dataset não conta mais com valores nulos.\n"
      ]
    },
    {
      "cell_type": "code",
      "execution_count": 956,
      "metadata": {},
      "outputs": [],
      "source": [
        "from sklearn.pipeline import Pipeline\n",
        "from sklearn.preprocessing import StandardScaler\n",
        "from sklearn.impute import SimpleImputer\n",
        "\n",
        "num_pipeline = Pipeline([\n",
        "        ('imputer', SimpleImputer(strategy=\"mean\")),        \n",
        "        ('std_scaler', StandardScaler()),\n",
        "    ])"
      ]
    },
    {
      "cell_type": "code",
      "execution_count": 957,
      "metadata": {},
      "outputs": [],
      "source": [
        "from sklearn.preprocessing import OneHotEncoder\n",
        "\n",
        "num_attribs = list(df.describe().columns)\n",
        "cat_attribs = ['animal', 'furniture']"
      ]
    },
    {
      "cell_type": "code",
      "execution_count": 958,
      "metadata": {},
      "outputs": [],
      "source": [
        "from sklearn.compose import ColumnTransformer\n",
        "\n",
        "full_pipeline = ColumnTransformer([\n",
        "        (\"num\", num_pipeline, num_attribs),\n",
        "        (\"cat\", OneHotEncoder(), cat_attribs),\n",
        "    ])"
      ]
    },
    {
      "cell_type": "code",
      "execution_count": 959,
      "metadata": {},
      "outputs": [],
      "source": [
        "hoa = df['hoa']\n",
        "df.drop('hoa', axis=1, inplace=True)\n",
        "df.insert(5, 'hoa', hoa.values)\n",
        "df.insert(6, 'no_animal', df['animal'].values)\n",
        "df.insert(9, 'no_furniture', df['furniture'].values)\n",
        "df.rename({'no_animal': 'animal', 'animal':'no_animal'}, axis=1, inplace=True)\n",
        "\n",
        "df_prepared = full_pipeline.fit_transform(df)"
      ]
    },
    {
      "cell_type": "code",
      "execution_count": 960,
      "metadata": {},
      "outputs": [],
      "source": [
        "scaled_df = pd.DataFrame(df_prepared, index=df.index, columns=df.columns)"
      ]
    },
    {
      "cell_type": "code",
      "execution_count": 961,
      "metadata": {},
      "outputs": [
        {
          "data": {
            "text/html": [
              "<div>\n",
              "<style scoped>\n",
              "    .dataframe tbody tr th:only-of-type {\n",
              "        vertical-align: middle;\n",
              "    }\n",
              "\n",
              "    .dataframe tbody tr th {\n",
              "        vertical-align: top;\n",
              "    }\n",
              "\n",
              "    .dataframe thead th {\n",
              "        text-align: right;\n",
              "    }\n",
              "</style>\n",
              "<table border=\"1\" class=\"dataframe\">\n",
              "  <thead>\n",
              "    <tr style=\"text-align: right;\">\n",
              "      <th></th>\n",
              "      <th>area</th>\n",
              "      <th>rooms</th>\n",
              "      <th>bathroom</th>\n",
              "      <th>parking spaces</th>\n",
              "      <th>floor</th>\n",
              "      <th>hoa</th>\n",
              "      <th>animal</th>\n",
              "      <th>no_animal</th>\n",
              "      <th>furniture</th>\n",
              "      <th>no_furniture</th>\n",
              "    </tr>\n",
              "  </thead>\n",
              "  <tbody>\n",
              "    <tr>\n",
              "      <th>1</th>\n",
              "      <td>64.0</td>\n",
              "      <td>2</td>\n",
              "      <td>1</td>\n",
              "      <td>1</td>\n",
              "      <td>10</td>\n",
              "      <td>540</td>\n",
              "      <td>acept</td>\n",
              "      <td>acept</td>\n",
              "      <td>not furnished</td>\n",
              "      <td>not furnished</td>\n",
              "    </tr>\n",
              "    <tr>\n",
              "      <th>2</th>\n",
              "      <td>443.0</td>\n",
              "      <td>5</td>\n",
              "      <td>5</td>\n",
              "      <td>4</td>\n",
              "      <td>3</td>\n",
              "      <td>4172</td>\n",
              "      <td>acept</td>\n",
              "      <td>acept</td>\n",
              "      <td>furnished</td>\n",
              "      <td>furnished</td>\n",
              "    </tr>\n",
              "    <tr>\n",
              "      <th>3</th>\n",
              "      <td>NaN</td>\n",
              "      <td>2</td>\n",
              "      <td>2</td>\n",
              "      <td>1</td>\n",
              "      <td>12</td>\n",
              "      <td>700</td>\n",
              "      <td>acept</td>\n",
              "      <td>acept</td>\n",
              "      <td>not furnished</td>\n",
              "      <td>not furnished</td>\n",
              "    </tr>\n",
              "    <tr>\n",
              "      <th>6</th>\n",
              "      <td>55.0</td>\n",
              "      <td>1</td>\n",
              "      <td>1</td>\n",
              "      <td>1</td>\n",
              "      <td>2</td>\n",
              "      <td>1950</td>\n",
              "      <td>acept</td>\n",
              "      <td>acept</td>\n",
              "      <td>furnished</td>\n",
              "      <td>furnished</td>\n",
              "    </tr>\n",
              "    <tr>\n",
              "      <th>7</th>\n",
              "      <td>55.0</td>\n",
              "      <td>2</td>\n",
              "      <td>2</td>\n",
              "      <td>1</td>\n",
              "      <td>2</td>\n",
              "      <td>600</td>\n",
              "      <td>acept</td>\n",
              "      <td>acept</td>\n",
              "      <td>not furnished</td>\n",
              "      <td>not furnished</td>\n",
              "    </tr>\n",
              "    <tr>\n",
              "      <th>...</th>\n",
              "      <td>...</td>\n",
              "      <td>...</td>\n",
              "      <td>...</td>\n",
              "      <td>...</td>\n",
              "      <td>...</td>\n",
              "      <td>...</td>\n",
              "      <td>...</td>\n",
              "      <td>...</td>\n",
              "      <td>...</td>\n",
              "      <td>...</td>\n",
              "    </tr>\n",
              "    <tr>\n",
              "      <th>6073</th>\n",
              "      <td>88.0</td>\n",
              "      <td>2</td>\n",
              "      <td>2</td>\n",
              "      <td>1</td>\n",
              "      <td>1</td>\n",
              "      <td>1200</td>\n",
              "      <td>acept</td>\n",
              "      <td>acept</td>\n",
              "      <td>not furnished</td>\n",
              "      <td>not furnished</td>\n",
              "    </tr>\n",
              "    <tr>\n",
              "      <th>6075</th>\n",
              "      <td>50.0</td>\n",
              "      <td>2</td>\n",
              "      <td>1</td>\n",
              "      <td>1</td>\n",
              "      <td>2</td>\n",
              "      <td>420</td>\n",
              "      <td>acept</td>\n",
              "      <td>acept</td>\n",
              "      <td>not furnished</td>\n",
              "      <td>not furnished</td>\n",
              "    </tr>\n",
              "    <tr>\n",
              "      <th>6076</th>\n",
              "      <td>91.0</td>\n",
              "      <td>2</td>\n",
              "      <td>2</td>\n",
              "      <td>1</td>\n",
              "      <td>16</td>\n",
              "      <td>768</td>\n",
              "      <td>not acept</td>\n",
              "      <td>not acept</td>\n",
              "      <td>furnished</td>\n",
              "      <td>furnished</td>\n",
              "    </tr>\n",
              "    <tr>\n",
              "      <th>6077</th>\n",
              "      <td>48.0</td>\n",
              "      <td>1</td>\n",
              "      <td>1</td>\n",
              "      <td>0</td>\n",
              "      <td>13</td>\n",
              "      <td>250</td>\n",
              "      <td>acept</td>\n",
              "      <td>acept</td>\n",
              "      <td>not furnished</td>\n",
              "      <td>not furnished</td>\n",
              "    </tr>\n",
              "    <tr>\n",
              "      <th>6079</th>\n",
              "      <td>60.0</td>\n",
              "      <td>2</td>\n",
              "      <td>1</td>\n",
              "      <td>1</td>\n",
              "      <td>4</td>\n",
              "      <td>489</td>\n",
              "      <td>acept</td>\n",
              "      <td>acept</td>\n",
              "      <td>furnished</td>\n",
              "      <td>furnished</td>\n",
              "    </tr>\n",
              "  </tbody>\n",
              "</table>\n",
              "<p>4789 rows × 10 columns</p>\n",
              "</div>"
            ],
            "text/plain": [
              "       area  rooms  bathroom  parking spaces  floor   hoa     animal  \\\n",
              "1      64.0      2         1               1     10   540      acept   \n",
              "2     443.0      5         5               4      3  4172      acept   \n",
              "3       NaN      2         2               1     12   700      acept   \n",
              "6      55.0      1         1               1      2  1950      acept   \n",
              "7      55.0      2         2               1      2   600      acept   \n",
              "...     ...    ...       ...             ...    ...   ...        ...   \n",
              "6073   88.0      2         2               1      1  1200      acept   \n",
              "6075   50.0      2         1               1      2   420      acept   \n",
              "6076   91.0      2         2               1     16   768  not acept   \n",
              "6077   48.0      1         1               0     13   250      acept   \n",
              "6079   60.0      2         1               1      4   489      acept   \n",
              "\n",
              "      no_animal      furniture   no_furniture  \n",
              "1         acept  not furnished  not furnished  \n",
              "2         acept      furnished      furnished  \n",
              "3         acept  not furnished  not furnished  \n",
              "6         acept      furnished      furnished  \n",
              "7         acept  not furnished  not furnished  \n",
              "...         ...            ...            ...  \n",
              "6073      acept  not furnished  not furnished  \n",
              "6075      acept  not furnished  not furnished  \n",
              "6076  not acept      furnished      furnished  \n",
              "6077      acept  not furnished  not furnished  \n",
              "6079      acept      furnished      furnished  \n",
              "\n",
              "[4789 rows x 10 columns]"
            ]
          },
          "execution_count": 961,
          "metadata": {},
          "output_type": "execute_result"
        }
      ],
      "source": [
        "df"
      ]
    },
    {
      "cell_type": "code",
      "execution_count": 962,
      "metadata": {},
      "outputs": [
        {
          "data": {
            "text/html": [
              "<div>\n",
              "<style scoped>\n",
              "    .dataframe tbody tr th:only-of-type {\n",
              "        vertical-align: middle;\n",
              "    }\n",
              "\n",
              "    .dataframe tbody tr th {\n",
              "        vertical-align: top;\n",
              "    }\n",
              "\n",
              "    .dataframe thead th {\n",
              "        text-align: right;\n",
              "    }\n",
              "</style>\n",
              "<table border=\"1\" class=\"dataframe\">\n",
              "  <thead>\n",
              "    <tr style=\"text-align: right;\">\n",
              "      <th></th>\n",
              "      <th>area</th>\n",
              "      <th>rooms</th>\n",
              "      <th>bathroom</th>\n",
              "      <th>parking spaces</th>\n",
              "      <th>floor</th>\n",
              "      <th>hoa</th>\n",
              "      <th>animal</th>\n",
              "      <th>no_animal</th>\n",
              "      <th>furniture</th>\n",
              "      <th>no_furniture</th>\n",
              "    </tr>\n",
              "  </thead>\n",
              "  <tbody>\n",
              "    <tr>\n",
              "      <th>1</th>\n",
              "      <td>-1.964962e-01</td>\n",
              "      <td>-0.374044</td>\n",
              "      <td>-0.919321</td>\n",
              "      <td>-0.443862</td>\n",
              "      <td>0.388718</td>\n",
              "      <td>-0.203734</td>\n",
              "      <td>1.0</td>\n",
              "      <td>0.0</td>\n",
              "      <td>0.0</td>\n",
              "      <td>1.0</td>\n",
              "    </tr>\n",
              "    <tr>\n",
              "      <th>2</th>\n",
              "      <td>7.074122e-01</td>\n",
              "      <td>2.496623</td>\n",
              "      <td>2.044414</td>\n",
              "      <td>1.804716</td>\n",
              "      <td>-0.823438</td>\n",
              "      <td>0.615993</td>\n",
              "      <td>1.0</td>\n",
              "      <td>0.0</td>\n",
              "      <td>1.0</td>\n",
              "      <td>0.0</td>\n",
              "    </tr>\n",
              "    <tr>\n",
              "      <th>3</th>\n",
              "      <td>-6.778528e-17</td>\n",
              "      <td>-0.374044</td>\n",
              "      <td>-0.178387</td>\n",
              "      <td>-0.443862</td>\n",
              "      <td>0.735049</td>\n",
              "      <td>-0.167623</td>\n",
              "      <td>1.0</td>\n",
              "      <td>0.0</td>\n",
              "      <td>0.0</td>\n",
              "      <td>1.0</td>\n",
              "    </tr>\n",
              "    <tr>\n",
              "      <th>6</th>\n",
              "      <td>-2.179610e-01</td>\n",
              "      <td>-1.330933</td>\n",
              "      <td>-0.919321</td>\n",
              "      <td>-0.443862</td>\n",
              "      <td>-0.996603</td>\n",
              "      <td>0.114497</td>\n",
              "      <td>1.0</td>\n",
              "      <td>0.0</td>\n",
              "      <td>1.0</td>\n",
              "      <td>0.0</td>\n",
              "    </tr>\n",
              "    <tr>\n",
              "      <th>7</th>\n",
              "      <td>-2.179610e-01</td>\n",
              "      <td>-0.374044</td>\n",
              "      <td>-0.178387</td>\n",
              "      <td>-0.443862</td>\n",
              "      <td>-0.996603</td>\n",
              "      <td>-0.190192</td>\n",
              "      <td>1.0</td>\n",
              "      <td>0.0</td>\n",
              "      <td>0.0</td>\n",
              "      <td>1.0</td>\n",
              "    </tr>\n",
              "    <tr>\n",
              "      <th>...</th>\n",
              "      <td>...</td>\n",
              "      <td>...</td>\n",
              "      <td>...</td>\n",
              "      <td>...</td>\n",
              "      <td>...</td>\n",
              "      <td>...</td>\n",
              "      <td>...</td>\n",
              "      <td>...</td>\n",
              "      <td>...</td>\n",
              "      <td>...</td>\n",
              "    </tr>\n",
              "    <tr>\n",
              "      <th>6073</th>\n",
              "      <td>-1.392566e-01</td>\n",
              "      <td>-0.374044</td>\n",
              "      <td>-0.178387</td>\n",
              "      <td>-0.443862</td>\n",
              "      <td>-1.169769</td>\n",
              "      <td>-0.054775</td>\n",
              "      <td>1.0</td>\n",
              "      <td>0.0</td>\n",
              "      <td>0.0</td>\n",
              "      <td>1.0</td>\n",
              "    </tr>\n",
              "    <tr>\n",
              "      <th>6075</th>\n",
              "      <td>-2.298859e-01</td>\n",
              "      <td>-0.374044</td>\n",
              "      <td>-0.919321</td>\n",
              "      <td>-0.443862</td>\n",
              "      <td>-0.996603</td>\n",
              "      <td>-0.230818</td>\n",
              "      <td>1.0</td>\n",
              "      <td>0.0</td>\n",
              "      <td>0.0</td>\n",
              "      <td>1.0</td>\n",
              "    </tr>\n",
              "    <tr>\n",
              "      <th>6076</th>\n",
              "      <td>-1.321016e-01</td>\n",
              "      <td>-0.374044</td>\n",
              "      <td>-0.178387</td>\n",
              "      <td>-0.443862</td>\n",
              "      <td>1.427709</td>\n",
              "      <td>-0.152275</td>\n",
              "      <td>0.0</td>\n",
              "      <td>1.0</td>\n",
              "      <td>1.0</td>\n",
              "      <td>0.0</td>\n",
              "    </tr>\n",
              "    <tr>\n",
              "      <th>6077</th>\n",
              "      <td>-2.346559e-01</td>\n",
              "      <td>-1.330933</td>\n",
              "      <td>-0.919321</td>\n",
              "      <td>-1.193388</td>\n",
              "      <td>0.908214</td>\n",
              "      <td>-0.269186</td>\n",
              "      <td>1.0</td>\n",
              "      <td>0.0</td>\n",
              "      <td>0.0</td>\n",
              "      <td>1.0</td>\n",
              "    </tr>\n",
              "    <tr>\n",
              "      <th>6079</th>\n",
              "      <td>-2.060361e-01</td>\n",
              "      <td>-0.374044</td>\n",
              "      <td>-0.919321</td>\n",
              "      <td>-0.443862</td>\n",
              "      <td>-0.650273</td>\n",
              "      <td>-0.215245</td>\n",
              "      <td>1.0</td>\n",
              "      <td>0.0</td>\n",
              "      <td>1.0</td>\n",
              "      <td>0.0</td>\n",
              "    </tr>\n",
              "  </tbody>\n",
              "</table>\n",
              "<p>4789 rows × 10 columns</p>\n",
              "</div>"
            ],
            "text/plain": [
              "              area     rooms  bathroom  parking spaces     floor       hoa  \\\n",
              "1    -1.964962e-01 -0.374044 -0.919321       -0.443862  0.388718 -0.203734   \n",
              "2     7.074122e-01  2.496623  2.044414        1.804716 -0.823438  0.615993   \n",
              "3    -6.778528e-17 -0.374044 -0.178387       -0.443862  0.735049 -0.167623   \n",
              "6    -2.179610e-01 -1.330933 -0.919321       -0.443862 -0.996603  0.114497   \n",
              "7    -2.179610e-01 -0.374044 -0.178387       -0.443862 -0.996603 -0.190192   \n",
              "...            ...       ...       ...             ...       ...       ...   \n",
              "6073 -1.392566e-01 -0.374044 -0.178387       -0.443862 -1.169769 -0.054775   \n",
              "6075 -2.298859e-01 -0.374044 -0.919321       -0.443862 -0.996603 -0.230818   \n",
              "6076 -1.321016e-01 -0.374044 -0.178387       -0.443862  1.427709 -0.152275   \n",
              "6077 -2.346559e-01 -1.330933 -0.919321       -1.193388  0.908214 -0.269186   \n",
              "6079 -2.060361e-01 -0.374044 -0.919321       -0.443862 -0.650273 -0.215245   \n",
              "\n",
              "      animal  no_animal  furniture  no_furniture  \n",
              "1        1.0        0.0        0.0           1.0  \n",
              "2        1.0        0.0        1.0           0.0  \n",
              "3        1.0        0.0        0.0           1.0  \n",
              "6        1.0        0.0        1.0           0.0  \n",
              "7        1.0        0.0        0.0           1.0  \n",
              "...      ...        ...        ...           ...  \n",
              "6073     1.0        0.0        0.0           1.0  \n",
              "6075     1.0        0.0        0.0           1.0  \n",
              "6076     0.0        1.0        1.0           0.0  \n",
              "6077     1.0        0.0        0.0           1.0  \n",
              "6079     1.0        0.0        1.0           0.0  \n",
              "\n",
              "[4789 rows x 10 columns]"
            ]
          },
          "execution_count": 962,
          "metadata": {},
          "output_type": "execute_result"
        }
      ],
      "source": [
        "scaled_df"
      ]
    }
  ],
  "metadata": {
    "colab": {
      "include_colab_link": true,
      "provenance": []
    },
    "kernelspec": {
      "display_name": "Python 3.10.8 64-bit (microsoft store)",
      "language": "python",
      "name": "python3"
    },
    "language_info": {
      "codemirror_mode": {
        "name": "ipython",
        "version": 3
      },
      "file_extension": ".py",
      "mimetype": "text/x-python",
      "name": "python",
      "nbconvert_exporter": "python",
      "pygments_lexer": "ipython3",
      "version": "3.10.8"
    },
    "vscode": {
      "interpreter": {
        "hash": "1411826be7eae97a21cd32c3ad68577137fa7ead80dc4d38e556535e3b8866d8"
      }
    }
  },
  "nbformat": 4,
  "nbformat_minor": 0
}
